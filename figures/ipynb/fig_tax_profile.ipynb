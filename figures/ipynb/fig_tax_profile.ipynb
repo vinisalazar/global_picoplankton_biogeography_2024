{
 "cells": [
  {
   "cell_type": "code",
   "execution_count": 2,
   "metadata": {},
   "outputs": [],
   "source": [
    "#!/usr/bin/env python\n",
    "\n",
    "import os\n",
    "import sys\n",
    "\n",
    "\n",
    "from collections import defaultdict\n",
    "import numpy as np\n",
    "import pandas as pd\n",
    "import matplotlib as mpl\n",
    "import seaborn as sns\n",
    "from matplotlib import pyplot as plt\n",
    "import plotly.express as px\n",
    "from functools import lru_cache\n",
    "\n",
    "from scipy.spatial.distance import pdist, squareform\n",
    "from scipy.cluster.hierarchy import linkage, dendrogram\n",
    "\n",
    "os.environ[\"PATH\"] = (\n",
    "    os.environ[\"PATH\"]\n",
    "    + \":/apps/easybuild-2022/easybuild/software/Compiler/GCC/11.3.0/texlive/20230313/bin/x86_64-linux/\"\n",
    ")\n",
    "plt.rcParams[\"font.family\"] = \"sans-serif\"\n",
    "plt.rcParams[\"text.usetex\"] = True\n",
    "mpl.rc('text.latex', preamble=r'\\usepackage{cmbright}')\n",
    "\n",
    "env = \"local\"\n",
    "wd = \"/local/path/to/\" if env == \"local\" else \"/local/path/to/\"\n",
    "\n",
    "sys.path.insert(0, f\"{wd}/scripts/\")\n",
    "from plotting_utils import palettes\n"
   ]
  },
  {
   "cell_type": "code",
   "execution_count": null,
   "metadata": {},
   "outputs": [],
   "source": [
    "\n",
    "smd = pd.read_csv(f\"{wd}/provinces_final/data/metadata_1454_cluster_labels.csv\", index_col=0, dtype={\"sourmash_k_10_1487_25m\": \"object\"})\n",
    "gmd = pd.read_csv(f\"{wd}/provinces_final/data/genome_metadata.tsv\", sep=\"\\t\", index_col=0)\n",
    "\n",
    "\n",
    "tables_clean = {\n",
    "    \"genomes\": pd.read_csv(f\"{wd}/provinces_final/data/counts/genomes_trimmed_mean_formatted_clean.csv\", index_col=0),\n",
    "    \"genus\": pd.read_csv(f\"{wd}/provinces_final/data/counts/genus_trimmed_mean_formatted_clean.csv\", index_col=0),\n",
    "    \"family\": pd.read_csv(f\"{wd}/provinces_final/data/counts/family_trimmed_mean_formatted_clean.csv\", index_col=0),\n",
    "    \"class\": pd.read_csv(f\"{wd}/provinces_final/data/counts/class_trimmed_mean_formatted_clean.csv\", index_col=0),\n",
    "    \"order\": pd.read_csv(f\"{wd}/provinces_final/data/counts/order_trimmed_mean_formatted_clean.csv\", index_col=0),\n",
    "    \"phylum\": pd.read_csv(f\"{wd}/provinces_final/data/counts/phylum_trimmed_mean_formatted_clean.csv\", index_col=0),\n",
    "    # \"BRITE\": pd.read_csv(f\"{wd}/provinces_final/data/counts/BRITE_trimmed_mean_formatted_clean.csv\", index_col=0),\n",
    "}\n",
    "\n",
    "cim = pd.read_csv(f\"{wd}/provinces_final/data/R/drafts/splsda_all_genomes_ncomp10_keepX3_cim.csv\", index_col=0)\n",
    "\n",
    "for k, v in tables_clean.items():\n",
    "    unclassified = [i for i in v.columns if \"unclassified\" in i]\n",
    "    tables_clean[k] = v.drop(columns=unclassified)\n",
    "\n",
    "\n",
    "# New genus entry for most abundant genome\n",
    "gmd.loc[\"GCA_902624425\", \"genus\"] = \"g__GCA_902624425_gen_nov\"\n",
    "tables_clean[\"genus\"][\"g__GCA_902624425_gen_nov\"] = tables_clean[\"genomes\"][\"GCA_902624425\"]\n",
    "\n",
    "ncomp = 20\n",
    "keepX = 5\n",
    "rank = \"genomes\"\n",
    "ranks = \"domain phylum class order family genus sci_names\".split()\n",
    "\n",
    "for rank_ in ranks[:-1]:\n",
    "    for genome in tables_clean[\"genomes\"].columns:\n",
    "        parent = gmd.loc[genome, rank_]\n",
    "        if parent == f\"{rank_[0]}__\":\n",
    "            parent = gmd.loc[genome, rank_] = f\"{rank_[0]}__{genome}\"\n",
    "            tables_clean[rank_][f\"{rank_[0]}__{genome}\"] = tables_clean[\"genomes\"][genome]"
   ]
  },
  {
   "cell_type": "code",
   "execution_count": 4,
   "metadata": {},
   "outputs": [],
   "source": [
    "tables_clean[\"domain\"] = tables_clean[\"genomes\"].T.join(gmd[\"domain\"]).groupby(\"domain\").sum().T"
   ]
  },
  {
   "cell_type": "code",
   "execution_count": 5,
   "metadata": {},
   "outputs": [],
   "source": [
    "def get_ordered_labels(df):\n",
    "    distance_matrix = pdist(df, metric=\"euclidean\")\n",
    "    Z = linkage(distance_matrix, method=\"average\")\n",
    "    dendro = dendrogram(Z, no_plot=True, labels=df.index)\n",
    "    ordered_labels = dendro['ivl']\n",
    "    return ordered_labels\n",
    "\n",
    "# Function to sort each category group based on the predefined order\n",
    "def sort_by_order(group, order):\n",
    "    return group.loc[order]"
   ]
  },
  {
   "cell_type": "code",
   "execution_count": 6,
   "metadata": {},
   "outputs": [],
   "source": [
    "def get_rel_abun(df):\n",
    "    df = (df.T / df.T.sum()).T\n",
    "    return df\n",
    "\n",
    "\n",
    "ranks = \"domain phylum class order family genus genomes\".split()\n",
    "\n",
    "colormaps = {\n",
    "    'p__Proteobacteria': '#1f77b4',  # Blue\n",
    "    'p__Bacteroidota': 'maroon',\n",
    "    'p__Cyanobacteria': '#2ca02c',   # Green\n",
    "    'p__Actinobacteriota': 'darkorange',\n",
    "    'p__Firmicutes': 'teal',\n",
    "    'p__Halobacteriota': 'slateblue',\n",
    "    'p__Marinisomatota': 'steelblue',\n",
    "    'p__Verrucomicrobiota': 'darkviolet',\n",
    "    'p__Thermoplasmatota': 'darkviolet',\n",
    "    'p__Methanobacteriota': 'slategrey',\n",
    "    'p__Thermoproteota': 'darkmagenta',\n",
    "    'p__Nanoarchaeota': 'olive',\n",
    "    'p__SAR324': 'darkgoldenrod',\n",
    "    'p__Planctomycetota': 'darkgoldenrod'\n",
    "}\n",
    "\n",
    "tab20_colors = mpl.colormaps[\"tab20\"].colors[::2] + mpl.colormaps[\"tab20\"].colors[1::2]\n",
    "# tab20_colors = mpl.colormaps[\"tab20c\"].colors[:16:4] + mpl.colormaps[\"tab20b\"].colors[::4] + mpl.colormaps[\"tab20c\"].colors[2:16:4] + mpl.colormaps[\"tab20b\"].colors[2::4]\n",
    "colormaps = dict(zip(colormaps.keys(), tab20_colors))\n",
    "\n",
    "tab20_colors_bar = mpl.colormaps[\"tab20\"].colors[::2] + mpl.colormaps[\"tab20\"].colors[1::2]\n",
    "# tab20_colors_bar = mpl.colormaps[\"tab20c\"].colors[1:16:4] + mpl.colormaps[\"tab20b\"].colors[1::4] + mpl.colormaps[\"tab20c\"].colors[3:16:4] + mpl.colormaps[\"tab20b\"].colors[3::4]\n",
    "colormaps_bar = dict(zip(colormaps.keys(), tab20_colors_bar))\n",
    "\n",
    "\n",
    "def get_parent(taxa, rank):\n",
    "    if rank == \"domain\":\n",
    "        return \"root\"\n",
    "    parent_rank = ranks[ranks.index(rank) - 1]\n",
    "    return gmd.reset_index(names=[\"genomes\"])[gmd.reset_index(names=[\"genomes\"])[rank] == taxa].drop_duplicates(rank)[parent_rank].values[0]\n",
    "\n",
    "\n",
    "def get_phylum(taxa, rank):\n",
    "    if rank == \"phylum\":\n",
    "        return taxa\n",
    "    if rank == \"domain\":\n",
    "        return \"root\"\n",
    "    if rank == \"genomes\":\n",
    "        return gmd.loc[taxa, \"phylum\"]\n",
    "    return gmd.drop_duplicates(rank).set_index(rank).loc[taxa, \"phylum\"]\n",
    "\n",
    "\n",
    "def hex_to_rgb(hex_color):\n",
    "    \"\"\"Convert hex color string to an RGB tuple.\"\"\"\n",
    "    return mpl.colors.hex2color(hex_color)\n",
    "\n",
    "def adjust_brightness(color, factor):\n",
    "    \"\"\"\n",
    "    Adjust the brightness of an RGB color towards white.\n",
    "    \n",
    "    Parameters:\n",
    "    - color: tuple, the original RGB color.\n",
    "    - factor: float, range [0, 1], where 0 is the original color and 1 is white.\n",
    "    \n",
    "    Returns:\n",
    "    - A new RGB tuple representing the adjusted color.\n",
    "    \"\"\"\n",
    "    return tuple((1 - factor) * c + factor * 1 for c in color)\n",
    "\n",
    "@lru_cache\n",
    "def create_brightness_colormap(hex_color, brightness_factor=0.8, name='custom_brightness'):\n",
    "    \"\"\"\n",
    "    Create a colormap that transitions from the given hex color to a brighter version.\n",
    "    \n",
    "    Parameters:\n",
    "    - hex_color: str, the starting hex color.\n",
    "    - brightness_factor: float, range [0, 1], how close the final color is to white.\n",
    "    - name: str, name of the colormap.\n",
    "    \n",
    "    Returns:\n",
    "    - A LinearSegmentedColormap object.\n",
    "    \"\"\"\n",
    "    if isinstance(hex_color, str):\n",
    "        start_color = hex_to_rgb(hex_color) if hex_color.startswith(\"#\") else hex_to_rgb(mpl.colors.to_hex(hex_color))\n",
    "    elif isinstance(hex_color, tuple):\n",
    "        start_color = hex_color\n",
    "    elif hex_color != hex_color:\n",
    "        start_color = pd.Series(colormaps).sample(1).iloc[0]\n",
    "    end_color = adjust_brightness(start_color, brightness_factor)\n",
    "    \n",
    "    # Create a colormap from these colors\n",
    "    cmap = mpl.colors.LinearSegmentedColormap.from_list(name, [start_color, end_color])\n",
    "    return cmap\n",
    "\n",
    "@lru_cache\n",
    "def get_colormap_colors(color, num_colors):\n",
    "\n",
    "    # Generate the colors\n",
    "    cmap = create_brightness_colormap(color)\n",
    "\n",
    "    colors = [mpl.colors.to_hex(cmap(i)) for i in list(np.linspace(0.0, 1, num_colors))]\n",
    "    \n",
    "    return colors"
   ]
  },
  {
   "cell_type": "code",
   "execution_count": 7,
   "metadata": {},
   "outputs": [],
   "source": [
    "def create_pie_data(province=\"9\", N=10, colormaps=colormaps, add_archaea=False, add_other_phyla=False, add_other_phyla_N=10):\n",
    "\n",
    "    # Select province samples\n",
    "    samples = smd[smd[\"sourmash_k_10_1487_25m\"] == province].index\n",
    "    pie_data = tables_clean[\"genomes\"].loc[samples]\n",
    "\n",
    "    # Convert to relative abundance\n",
    "    pie_data = get_rel_abun(pie_data)\n",
    "\n",
    "    # Select 10 most abundant genomes (they're all bacterial)\n",
    "    most_abun = pie_data.median().nlargest(N).index.tolist()\n",
    "\n",
    "    # Add 2 most abundant Archaeal genomes\n",
    "    if add_archaea:\n",
    "        most_abun += pie_data.median().loc[gmd[gmd[\"domain\"] == \"d__Archaea\"].index].nlargest(2).index.tolist()\n",
    "    if add_other_phyla:\n",
    "        most_abun += pie_data.median().loc[gmd[~gmd[\"phylum\"].isin(add_other_phyla)].index].nlargest(add_other_phyla_N).index.tolist()\n",
    "    pie_data = pie_data[most_abun]\n",
    "    pie_data = pie_data.median()\n",
    "\n",
    "    # Get lineages\n",
    "    lineages = gmd.loc[pie_data.index, ranks[:-1]]\n",
    "    lineages = {col: lineages[col].unique().tolist() for col in lineages.columns}\n",
    "\n",
    "    for k, v in lineages.items():\n",
    "        # This is to debug unindentified lineages\n",
    "        try:\n",
    "            lineages[k] = get_rel_abun(tables_clean[k].loc[samples])[v].median()\n",
    "        except KeyError:\n",
    "            print(k, v)\n",
    "            raise\n",
    "    lineages[\"genomes\"] = pie_data\n",
    "    for k, v in lineages.items():\n",
    "        lineages[k] = lineages[k].reset_index()\n",
    "        lineages[k].columns = [\"taxa\", \"value\"]\n",
    "        lineages[k][\"rank\"] = k\n",
    "\n",
    "    pie_data = pd.concat([lineages[k] for k in lineages.keys()]).reset_index(drop=True)\n",
    "\n",
    "    pie_data[\"parent\"] = pie_data.apply(lambda x: get_parent(x[\"taxa\"], x[\"rank\"]), axis=1)\n",
    "\n",
    "    pie_data[\"rank\"] = pd.Categorical(pie_data[\"rank\"], categories=ranks, ordered=True)\n",
    "    pie_data = pie_data.sort_values(\"rank\").reset_index(drop=True)\n",
    "\n",
    "    # colormaps = dict(zip(color_ranks, colormaps))\n",
    "    colormaps[\"root\"] = \"#9a9a9a\"\n",
    "\n",
    "    pie_data[\"color\"] = pie_data.apply(lambda row: get_phylum(row[\"taxa\"], row[\"rank\"]), axis=1).map(colormaps)\n",
    "    pie_data[\"color\"] = pie_data.apply(lambda row: get_colormap_colors(row[\"color\"], len(ranks))[ranks.index(row[\"rank\"])], axis=1)\n",
    "\n",
    "    return pie_data"
   ]
  },
  {
   "cell_type": "code",
   "execution_count": null,
   "metadata": {},
   "outputs": [],
   "source": [
    "# Phylum\n",
    "print(\"Formatting data for phylum.\\n\")\n",
    "stacked_bar_phylum = tables_clean[\"phylum\"]\n",
    "stacked_bar_phylum = (stacked_bar_phylum.T / stacked_bar_phylum.T.sum()).T\n",
    "most_abun = stacked_bar_phylum.median().nlargest(10).index.tolist()\n",
    "stacked_bar_phylum = stacked_bar_phylum[most_abun].sample(len(stacked_bar_phylum)) * 100\n",
    "stacked_bar_phylum[\"Others\"] = 100 - stacked_bar_phylum.sum(axis=1)\n",
    "stacked_bar_phylum = stacked_bar_phylum.join(smd[\"sourmash_k_10_1487_25m\"])\n",
    "stacked_bar_phylum[\"sourmash_k_10_1487_25m\"] = stacked_bar_phylum[\"sourmash_k_10_1487_25m\"].astype(int).map({k: v[\"label\"] for k, v in palettes[\"k_10\"].items()})\n",
    "stacked_bar_phylum[\"sourmash_k_10_1487_25m\"] =  pd.Categorical(stacked_bar_phylum[\"sourmash_k_10_1487_25m\"],\n",
    "                                                             categories=\"APLR BPLR BALT CTEM OTEM STEM MTEM TGYR TRHI TRLO\".split(),\n",
    "                                                             ordered=True)\n",
    "sort_order_phylum = {}\n",
    "for category in stacked_bar_phylum[\"sourmash_k_10_1487_25m\"].unique():\n",
    "    sort_order_phylum[category] = get_ordered_labels(stacked_bar_phylum[stacked_bar_phylum[\"sourmash_k_10_1487_25m\"] == category].drop(\"sourmash_k_10_1487_25m\", axis=1))\n",
    "stacked_bar_phylum = stacked_bar_phylum.groupby(\"sourmash_k_10_1487_25m\", group_keys=False).apply(lambda x: sort_by_order(x, sort_order_phylum[x[\"sourmash_k_10_1487_25m\"].iloc[0]]))\n",
    "stacked_bar_phylum.columns = [i[3:] if i[1] == \"_\" else i for i in stacked_bar_phylum.columns]\n",
    "\n",
    "\n",
    "# # Old\n",
    "# colormap_phylum = mpl.colormaps['tab20']\n",
    "# colors_phylum = [colormap_phylum.colors[i] for i in range(len(stacked_bar_phylum.columns)-2)] + [\"gray\",]\n",
    "# colordict_phylum = dict(zip(stacked_bar_phylum.columns, colors_phylum))\n",
    "colordict_phylum = {k: colormaps_bar[\"p__\" + k] for k in stacked_bar_phylum.columns[:-1] if k != \"Others\"}\n",
    "colordict_phylum[\"Others\"] = \"#9a9a9a\""
   ]
  },
  {
   "cell_type": "code",
   "execution_count": null,
   "metadata": {},
   "outputs": [],
   "source": [
    "# Family\n",
    "print(\"Formatting data for family.\\n\")\n",
    "stacked_bar_family = tables_clean[\"family\"]\n",
    "stacked_bar_family = (stacked_bar_family.T / stacked_bar_family.T.sum()).T\n",
    "most_abun = stacked_bar_family.median().nlargest(10).index.tolist()\n",
    "stacked_bar_family = stacked_bar_family[most_abun].sample(len(stacked_bar_family)) * 100\n",
    "stacked_bar_family[\"Others\"] = 100 - stacked_bar_family.sum(axis=1)\n",
    "stacked_bar_family = stacked_bar_family.join(smd[\"sourmash_k_10_1487_25m\"])\n",
    "stacked_bar_family[\"sourmash_k_10_1487_25m\"] = stacked_bar_family[\"sourmash_k_10_1487_25m\"].astype(int).map({k: v[\"label\"] for k, v in palettes[\"k_10\"].items()})\n",
    "stacked_bar_family[\"sourmash_k_10_1487_25m\"] =  pd.Categorical(stacked_bar_family[\"sourmash_k_10_1487_25m\"],\n",
    "                                                             categories=\"APLR BPLR BALT CTEM OTEM STEM MTEM TGYR TRHI TRLO\".split(),\n",
    "                                                             ordered=True)\n",
    "sort_order_family = {}\n",
    "for category in stacked_bar_family[\"sourmash_k_10_1487_25m\"].unique():\n",
    "    sort_order_family[category] = get_ordered_labels(stacked_bar_family[stacked_bar_family[\"sourmash_k_10_1487_25m\"] == category].drop(\"sourmash_k_10_1487_25m\", axis=1))\n",
    "stacked_bar_family = stacked_bar_family.groupby(\"sourmash_k_10_1487_25m\", group_keys=False).apply(lambda x: sort_by_order(x, sort_order_family[x[\"sourmash_k_10_1487_25m\"].iloc[0]]))\n",
    "stacked_bar_family.columns = [i[3:] if i[1] == \"_\" else i for i in stacked_bar_family.columns]\n",
    "\n",
    "colordict_family = [\n",
    "    'Pelagibacteraceae',\n",
    "    'Flavobacteriaceae',\n",
    "    'Cyanobiaceae',\n",
    "    'D2472',\n",
    "    'Rhodobacteraceae',\n",
    "    'TMED189',\n",
    "    'AAA536-G10',\n",
    "    'GCA-002718135',\n",
    "    'AG-339-G14',\n",
    "    'Puniceispirillaceae'\n",
    "    ]\n",
    "\n",
    "# # Old\n",
    "# colormap_family = mpl.colormaps['tab20']\n",
    "# colors_family = [colormap_family.colors[i] for i in range(len(stacked_bar_family.columns)-2)] + [\"gray\",]\n",
    "# colordict_family = dict(zip(stacked_bar_family.columns, colors_family))\n",
    "colordict_family = {k: colormaps_bar[gmd.drop_duplicates(\"family\").set_index(\"family\").loc[f\"f__{k}\", \"phylum\"]] for k in stacked_bar_family.columns[:-1] if k != \"Others\"}\n",
    "colordict_family[\"Others\"] = \"#9a9a9a\"\n",
    "for phylum, phylum_color in colordict_phylum.items():\n",
    "    phylum_brightness = 0\n",
    "    for family, family_color in colordict_family.items():\n",
    "        if \"f__\" + family in gmd[gmd[\"phylum\"] == f\"p__{phylum}\"][\"family\"].to_list():\n",
    "            colordict_family[family] = adjust_brightness(family_color, phylum_brightness)\n",
    "            phylum_brightness += 0.15"
   ]
  },
  {
   "cell_type": "code",
   "execution_count": 10,
   "metadata": {},
   "outputs": [],
   "source": [
    "rename_families = gmd.drop_duplicates(\"family\").set_index(\"family\").loc[[\"f__\" + i for i in stacked_bar_family.columns[:-2]]].iloc[[3, 6, 7, 8]][\"order\"].to_dict()\n",
    "rename_families = {k[3:]: f\"{k[3:]}\\n({v[3:]})\" for k, v in rename_families.items()}\n",
    "rename_families = {k: v.replace(\"\\n\", \" \") if \"D2472\" in v else v for k, v in rename_families.items()}\n",
    "stacked_bar_family = stacked_bar_family.rename(columns=rename_families)\n"
   ]
  },
  {
   "cell_type": "code",
   "execution_count": 11,
   "metadata": {},
   "outputs": [],
   "source": [
    "renamed_colordict_family = {rename_families[k]: v for k, v in colordict_family.items() if k in rename_families.keys()}\n",
    "colordict_family = {**colordict_family, **renamed_colordict_family}\n",
    "colordict_family = {k: colordict_family[k] for k in stacked_bar_family.columns[:-1] if k != \"Others\"}\n",
    "colordict_family = {k: v for k, v in colordict_family.items() if k in stacked_bar_family.columns}\n",
    "colordict_family[\"Others\"] = \"#9a9a9a\""
   ]
  },
  {
   "cell_type": "code",
   "execution_count": null,
   "metadata": {},
   "outputs": [],
   "source": [
    "median_archaea = get_rel_abun(tables_clean[\"phylum\"])[gmd[gmd[\"domain\"] == \"d__Archaea\"][\"phylum\"].unique()].sum(axis=1).to_frame().merge(smd[\"sourmash_k_10_1487_25m\"], left_index=True, right_index=True).groupby(\"sourmash_k_10_1487_25m\").median().reset_index()\n",
    "median_archaea.columns = [\"province\", \"archaea\"]\n",
    "median_archaea[\"province_label\"] = median_archaea[\"province\"].astype(int).map({k: v[\"label\"] for k, v in palettes[\"k_10\"].items()})\n",
    "median_archaea[median_archaea[\"archaea\"] >= 0.02][\"province\"].unique()"
   ]
  },
  {
   "cell_type": "code",
   "execution_count": null,
   "metadata": {},
   "outputs": [],
   "source": [
    "provinces_pie_data = dict()\n",
    "\n",
    "for p in \"14 16 10 2 3 7 5 11 9 0\".split():\n",
    "    print(p)\n",
    "    add_archaea = True if p in median_archaea[median_archaea[\"archaea\"] >= 0.02][\"province\"].unique() else False\n",
    "    add_other_phyla = False if p not in \"7 14 0 10 2\".split() else [\"p__Proteobacteria\", \"p__Bacteroidota\"]\n",
    "    add_other_phyla = add_other_phyla if p != \"3\" else [\"p__Proteobacteria\", \"p__Bacteroidota\", \"p__Cyanobacteria\"]\n",
    "    provinces_pie_data[p] = create_pie_data(province=p, add_archaea=add_archaea, add_other_phyla=add_other_phyla, add_other_phyla_N=10)"
   ]
  },
  {
   "cell_type": "code",
   "execution_count": null,
   "metadata": {},
   "outputs": [],
   "source": []
  },
  {
   "cell_type": "code",
   "execution_count": 14,
   "metadata": {},
   "outputs": [],
   "source": [
    "def sunburst(pie_data, ax, size=0.15, radius=0.15, labeldistance=1, pctdistance=1, remove_labels=True, remove_pct=True, remove_all_labels=False, rotatelabels=False, format_lineage=False, genome_fontsize=8):\n",
    "\n",
    "    domain_data = pie_data[pie_data[\"rank\"] == \"domain\"]\n",
    "    domain_data.loc[0, \"color\"] = \"#D3D3D3\"\n",
    "    if len(domain_data) > 1:\n",
    "        domain_data.loc[1, \"color\"] = \"#929292\"\n",
    "    wedges, texts, autotexts = ax.pie(domain_data[\"value\"],\n",
    "                           labels=domain_data[\"taxa\"],\n",
    "                           normalize=False,\n",
    "                           autopct=\"%1.1f%%\",\n",
    "                           colors=domain_data[\"color\"],\n",
    "                           radius=radius,\n",
    "                           labeldistance=0.1)\n",
    "    rank_wedges = defaultdict(list)\n",
    "\n",
    "    # pie_data[\"taxa\"] = pie_data.apply(lambda row: \"\" if row[\"taxa\"][1] == \"_\" else row[\"taxa\"], axis=1)\n",
    "\n",
    "    for wedge, text, autotext in zip(wedges, texts, autotexts):\n",
    "        theta1, theta2 = wedge.theta1, wedge.theta2\n",
    "        data = pie_data[pie_data[\"parent\"] == text.get_text()]\n",
    "        rank_wedges[\"phylum\"].append(ax.pie(data[\"value\"],\n",
    "            labels=data[\"taxa\"],\n",
    "            colors=data[\"color\"],           \n",
    "            radius=radius+size,\n",
    "            normalize=False,\n",
    "            autopct=\"%1.1f%%\",\n",
    "            labeldistance=labeldistance,\n",
    "            pctdistance=pctdistance,\n",
    "            wedgeprops=dict(width=size, edgecolor='w'),\n",
    "            startangle=theta1,\n",
    "            )\n",
    "        )\n",
    "\n",
    "    for domain in rank_wedges[\"phylum\"]:\n",
    "        for wedge, text, autotext in zip(*domain):\n",
    "            theta1, theta2 = wedge.theta1, wedge.theta2\n",
    "            data = pie_data[pie_data[\"parent\"] == text.get_text()]\n",
    "            rank_wedges[\"class\"].append(ax.pie(data[\"value\"],\n",
    "                labels=data[\"taxa\"],\n",
    "                colors=data[\"color\"],\n",
    "                radius=radius+2*size,\n",
    "                normalize=False,\n",
    "                autopct=\"%1.1f%%\",\n",
    "                labeldistance=labeldistance,\n",
    "                pctdistance=pctdistance,\n",
    "                wedgeprops=dict(width=size, edgecolor='w'),\n",
    "                startangle=theta1,\n",
    "                )\n",
    "            )\n",
    "\n",
    "    for phylum in rank_wedges[\"class\"]:\n",
    "        for wedge, text, autotext in zip(*phylum):\n",
    "            theta1, theta2 = wedge.theta1, wedge.theta2\n",
    "            data = pie_data[pie_data[\"parent\"] == text.get_text()]\n",
    "            rank_wedges[\"order\"].append(ax.pie(data[\"value\"],\n",
    "                labels=data[\"taxa\"],\n",
    "                colors=data[\"color\"],\n",
    "                radius=radius+3*size,\n",
    "                normalize=False,\n",
    "                autopct=\"%1.1f%%\",\n",
    "                labeldistance=labeldistance,\n",
    "                pctdistance=pctdistance,\n",
    "                wedgeprops=dict(width=size, edgecolor='w'),\n",
    "                startangle=theta1,\n",
    "                )\n",
    "            )\n",
    "\n",
    "    for class_ in rank_wedges[\"order\"]:\n",
    "        for wedge, text, autotext in zip(*class_):\n",
    "            theta1, theta2 = wedge.theta1, wedge.theta2\n",
    "            data = pie_data[pie_data[\"parent\"] == text.get_text()]\n",
    "            rank_wedges[\"family\"].append(ax.pie(data[\"value\"],\n",
    "                labels=data[\"taxa\"],\n",
    "                colors=data[\"color\"],\n",
    "                radius=radius+4*size,\n",
    "                normalize=False,\n",
    "                autopct=\"%1.1f%%\",\n",
    "                labeldistance=labeldistance,\n",
    "                wedgeprops=dict(width=size, edgecolor='w'),\n",
    "                startangle=theta1,\n",
    "                )\n",
    "            )\n",
    "\n",
    "    for order in rank_wedges[\"family\"]:\n",
    "        for wedge, text, autotext in zip(*order):\n",
    "            theta1, theta2 = wedge.theta1, wedge.theta2\n",
    "            data = pie_data[pie_data[\"parent\"] == text.get_text()]\n",
    "            rank_wedges[\"genus\"].append(ax.pie(data[\"value\"],\n",
    "                labels=data[\"taxa\"],\n",
    "                colors=data[\"color\"],\n",
    "                radius=radius+5*size,\n",
    "                normalize=False,\n",
    "                autopct=\"%1.1f%%\",\n",
    "                labeldistance=labeldistance,\n",
    "                pctdistance=pctdistance,\n",
    "                wedgeprops=dict(width=size, edgecolor='w'),\n",
    "                startangle=theta1,\n",
    "                )\n",
    "            )\n",
    "\n",
    "    for family in rank_wedges[\"genus\"]:\n",
    "        for wedge, text, autotext in zip(*family):\n",
    "            theta1, theta2 = wedge.theta1, wedge.theta2\n",
    "            data = pie_data[pie_data[\"parent\"] == text.get_text()]\n",
    "            rank_wedges[\"genomes\"].append(ax.pie(data[\"value\"],\n",
    "                labels=data[\"taxa\"],\n",
    "                colors=data[\"color\"],\n",
    "                radius=radius+6*size,\n",
    "                normalize=False,\n",
    "                autopct=\"%1.1f%%\",\n",
    "                labeldistance=labeldistance,\n",
    "                pctdistance=pctdistance,\n",
    "                wedgeprops=dict(width=size, edgecolor='w'),\n",
    "                textprops=dict(fontsize=genome_fontsize),\n",
    "                startangle=theta1,\n",
    "                rotatelabels=rotatelabels\n",
    "                )\n",
    "            )\n",
    "\n",
    "    if remove_pct:\n",
    "        for artist_text in ax.texts:\n",
    "            text_ = artist_text.get_text()\n",
    "            if \"%\" in text_:\n",
    "                artist_text.remove()\n",
    "\n",
    "    if remove_labels:\n",
    "        for artist_text in ax.texts:\n",
    "            text_ = artist_text.get_text()\n",
    "            if text_[1] == \"_\":\n",
    "                artist_text.remove()\n",
    "            elif text_ in gmd.index:\n",
    "                # artist_text.set_text(\"; \".join([text_] + gmd.loc[text_, ranks[:-1]].str[3:].to_list()))\n",
    "                if format_lineage:\n",
    "                    text_ = format_lineage(text_)\n",
    "                    artist_text.set_text(text_)\n",
    "                else:\n",
    "                    artist_text.set_text(text_)\n",
    "\n",
    "    if remove_all_labels:\n",
    "        for artist_text in ax.texts:\n",
    "            artist_text.remove()"
   ]
  },
  {
   "cell_type": "code",
   "execution_count": 15,
   "metadata": {},
   "outputs": [],
   "source": [
    "def custom_join(lst, N=3, sep1=\"\\n\", sep2=\"; \"):\n",
    "    # Split the list into sublists of N elements each\n",
    "    sublists = [lst[i:i + N] for i in range(0, len(lst), N)]\n",
    "    \n",
    "    # Join elements within each sublist using sep2\n",
    "    joined_sublists = [sep2.join(map(str, sublist)) for sublist in sublists]\n",
    "    \n",
    "    # Join the sublists using sep1\n",
    "    result = sep1.join(joined_sublists)\n",
    "    \n",
    "    return result"
   ]
  },
  {
   "cell_type": "code",
   "execution_count": 16,
   "metadata": {},
   "outputs": [],
   "source": [
    "pd.set_option('display.max_rows', None)"
   ]
  },
  {
   "cell_type": "code",
   "execution_count": null,
   "metadata": {},
   "outputs": [],
   "source": []
  },
  {
   "cell_type": "code",
   "execution_count": null,
   "metadata": {},
   "outputs": [],
   "source": [
    "provinces_pie_data[\"16\"]"
   ]
  },
  {
   "cell_type": "code",
   "execution_count": null,
   "metadata": {},
   "outputs": [],
   "source": [
    "# Define layout\n",
    "fig = plt.figure(figsize=(24, 16))\n",
    "gs = mpl.gridspec.GridSpec(4, 5, figure=fig)\n",
    "bar_width = 1\n",
    "label_face_colors = {v[\"label\"]: v[\"color\"] for k, v in palettes[\"k_10\"].items()}\n",
    "\n",
    "# phylum plot\n",
    "ax_phylum = fig.add_subplot(gs[0, :])\n",
    "\n",
    "indices_phylum = np.arange(len(stacked_bar_phylum))\n",
    "bottom_phylum = np.zeros(len(stacked_bar_phylum))\n",
    "\n",
    "for i, (column, color) in enumerate(colordict_phylum.items()):\n",
    "    ax_phylum.bar(indices_phylum, stacked_bar_phylum[column], bar_width, bottom=bottom_phylum, label=column, color=color)\n",
    "    bottom_phylum += stacked_bar_phylum[column]\n",
    "\n",
    "unique_categories = stacked_bar_phylum[\"sourmash_k_10_1487_25m\"].unique()\n",
    "category_positions = []\n",
    "rectangles = []\n",
    "for category in unique_categories:\n",
    "    category_indices = stacked_bar_phylum.index[stacked_bar_phylum['sourmash_k_10_1487_25m'] == category].tolist()\n",
    "    start_pos = indices_phylum[stacked_bar_phylum.index.get_loc(category_indices[0])]\n",
    "    end_pos = indices_phylum[stacked_bar_phylum.index.get_loc(category_indices[-1])] + bar_width\n",
    "    midpoint = ((start_pos + end_pos) / 2)\n",
    "    category_positions.append(midpoint)\n",
    "    rectangles.append((start_pos - bar_width/2, end_pos - start_pos + bar_width - 1))\n",
    "\n",
    "for start_pos, width in rectangles:\n",
    "    ax_phylum.add_patch(plt.Rectangle((start_pos, 0), width, bottom_phylum.max(), fill=False, edgecolor='black', linewidth=2))\n",
    "\n",
    "ax_phylum.set_title('10 most abundant phyla')\n",
    "ax_phylum.set_xlabel('')\n",
    "ax_phylum.set_ylabel('Relative abundance (\\\\%)')\n",
    "ax_phylum.set_ylim(0, 100)\n",
    "ax_phylum.set_xlim(min(indices_phylum) - bar_width/2, max(indices_phylum) + bar_width/2)\n",
    "ax_phylum.set_xlim(min(indices_phylum) - bar_width/2, 1615)\n",
    "ax_phylum.spines[\"top\"].set_visible(False)\n",
    "ax_phylum.spines[\"bottom\"].set_visible(False)\n",
    "ax_phylum.spines[\"right\"].set_visible(False)\n",
    "ax_phylum.set_xticks(category_positions)\n",
    "# Manually add xtick labels with background colors\n",
    "for pos, category in zip(category_positions, unique_categories):\n",
    "    ax_phylum.text(pos, -0.05 * bottom_phylum.max(), category, ha='center', va='top', backgroundcolor=label_face_colors[category], fontsize=8)\n",
    "ax_phylum.legend(title='Phylum', loc=\"lower right\")\n",
    "\n",
    "# family plot\n",
    "ax_family = fig.add_subplot(gs[1, :])\n",
    "\n",
    "indices_family = np.arange(len(stacked_bar_family))\n",
    "bottom_family = np.zeros(len(stacked_bar_family))\n",
    "\n",
    "for i, (column, color) in enumerate(colordict_family.items()):\n",
    "    ax_family.bar(indices_family, stacked_bar_family[column], bar_width, bottom=bottom_family, label=column, color=color)\n",
    "    bottom_family += stacked_bar_family[column]\n",
    "\n",
    "unique_categories = stacked_bar_family[\"sourmash_k_10_1487_25m\"].unique()\n",
    "category_positions = []\n",
    "rectangles = []\n",
    "for category in unique_categories:\n",
    "    category_indices = stacked_bar_family.index[stacked_bar_family['sourmash_k_10_1487_25m'] == category].tolist()\n",
    "    start_pos = indices_family[stacked_bar_family.index.get_loc(category_indices[0])]\n",
    "    end_pos = indices_family[stacked_bar_family.index.get_loc(category_indices[-1])] + bar_width\n",
    "    midpoint = ((start_pos + end_pos) / 2)\n",
    "    category_positions.append(midpoint)\n",
    "    rectangles.append((start_pos - bar_width/2, end_pos - start_pos + bar_width - 1))\n",
    "\n",
    "for start_pos, width in rectangles:\n",
    "    ax_family.add_patch(plt.Rectangle((start_pos, 0), width, bottom_family.max(), fill=False, edgecolor='black', linewidth=2))\n",
    "\n",
    "ax_family.set_title('10 most abundant families')\n",
    "ax_family.set_xlabel('')\n",
    "ax_family.set_ylabel('Relative abundance (\\\\%)')\n",
    "ax_family.set_ylim(0, 100)\n",
    "ax_family.set_xlim(min(indices_family) - bar_width/2, max(indices_family) + bar_width/2)\n",
    "ax_family.set_xlim(min(indices_family) - bar_width/2, 1615)\n",
    "ax_family.spines[\"top\"].set_visible(False)\n",
    "ax_family.spines[\"bottom\"].set_visible(False)\n",
    "ax_family.spines[\"right\"].set_visible(False)\n",
    "ax_family.set_xticks(category_positions)\n",
    "for pos, category in zip(category_positions, unique_categories):\n",
    "    ax_family.text(pos, -0.05 * bottom_phylum.max(), category, ha='center', va='top', backgroundcolor=label_face_colors[category], fontsize=8)\n",
    "ax_family.legend(title='Family', loc=\"lower right\")\n",
    "\n",
    "\n",
    "pie_chart_2_0 = fig.add_subplot(gs[2, 0])\n",
    "pie_chart_2_1 = fig.add_subplot(gs[2, 1])\n",
    "pie_chart_2_2 = fig.add_subplot(gs[2, 2])\n",
    "pie_chart_2_3 = fig.add_subplot(gs[2, 3])\n",
    "pie_chart_2_4 = fig.add_subplot(gs[2, 4])\n",
    "pie_chart_3_0 = fig.add_subplot(gs[3, 0])\n",
    "pie_chart_3_1 = fig.add_subplot(gs[3, 1])\n",
    "pie_chart_3_2 = fig.add_subplot(gs[3, 2])\n",
    "pie_chart_3_3 = fig.add_subplot(gs[3, 3])\n",
    "pie_chart_3_4 = fig.add_subplot(gs[3, 4])\n",
    "\n",
    "pie_charts = [pie_chart_2_0, pie_chart_2_1, pie_chart_2_2, pie_chart_2_3, pie_chart_2_4, pie_chart_3_0, pie_chart_3_1, pie_chart_3_2, pie_chart_3_3, pie_chart_3_4]\n",
    "\n",
    "format_lineage = lambda x: custom_join(gmd.loc[x, ranks[:-1]].str[3:].to_list() + [x])\n",
    "format_lineage = False\n",
    "for ax, province in zip(pie_charts, \"14 10 2 3 7 0 16 5 11 9\".split()):\n",
    "    color = palettes[\"k_10\"][int(province)][\"color\"]\n",
    "    sunburst(provinces_pie_data[province], ax, remove_labels=True, remove_pct=True, pctdistance=0.8, format_lineage=format_lineage, rotatelabels=False, genome_fontsize=6, remove_all_labels=True)\n",
    "    ax.set_title(palettes[\"k_10\"][int(province)][\"label\"], bbox=dict(facecolor=color, alpha=0.7))\n",
    "    ax.set_frame_on(True)\n",
    "    ax.spines[\"top\"].set_color(color)\n",
    "    ax.spines[\"bottom\"].set_color(color)\n",
    "    ax.spines[\"left\"].set_color(color)\n",
    "    ax.spines[\"right\"].set_color(color)\n",
    "\n",
    "# fig.text(\n",
    "#     0.1025,\n",
    "#     0.88,\n",
    "#     \"\\\\textbf{A}\",\n",
    "#     fontsize=20,\n",
    "#     ha=\"left\",\n",
    "#     va=\"center\"\n",
    "# )\n",
    "# fig.text(\n",
    "#     0.1025,\n",
    "#     0.68,\n",
    "#     \"\\\\textbf{B}\",\n",
    "#     fontsize=20,\n",
    "#     ha=\"left\",\n",
    "#     va=\"center\"\n",
    "# )\n",
    "# fig.text(\n",
    "#     0.1025,\n",
    "#     0.48,\n",
    "#     \"\\\\textbf{C}\",\n",
    "#     fontsize=20,\n",
    "#     ha=\"left\",\n",
    "#     va=\"center\"\n",
    "# )\n",
    "\n",
    "plt.savefig(\"/local/path/to/figures/final_draft_imgs/fig3_tax_top_genomes_only.png\", dpi=1200, bbox_inches=\"tight\", transparent=True)"
   ]
  },
  {
   "cell_type": "markdown",
   "metadata": {},
   "source": [
    "### Cluster Image Map"
   ]
  },
  {
   "cell_type": "code",
   "execution_count": 113,
   "metadata": {},
   "outputs": [],
   "source": [
    "genome_labels = gmd.loc[cim.columns, [i for i in ranks if i != \"genomes\"]].apply(lambda row: \"; \".join(list(dict.fromkeys([i[3:] if i[1] == \"_\" else i for i in row] + [row.name]))), axis=1)"
   ]
  },
  {
   "cell_type": "code",
   "execution_count": 114,
   "metadata": {},
   "outputs": [],
   "source": [
    "col_colors = smd.loc[cim.index][\"sourmash_k_10_1487_25m\"].astype(int).map({k: v[\"color\"] for k, v in palettes[\"k_10\"].items()}).rename(\"Province\")"
   ]
  },
  {
   "cell_type": "code",
   "execution_count": null,
   "metadata": {},
   "outputs": [],
   "source": [
    "cimplot = sns.clustermap(cim.T, method=\"average\", cmap=\"Spectral_r\", xticklabels=False, col_colors=col_colors, dendrogram_ratio=0.1, cbar_pos=None, figsize=(20, 20))\n",
    "\n",
    "# _ = cimplot.ax_col_dendrogram.annotate(\n",
    "#     \"\\\\textbf{D}\",\n",
    "#     xy=(-0.05, 0.5),\n",
    "#     xycoords=\"axes fraction\",\n",
    "#     fontsize=20,\n",
    "# )\n",
    "\n",
    "_ = cimplot.ax_heatmap.set_yticklabels(genome_labels, rotation=0)\n",
    "\n",
    "# plt.savefig(\"./final_draft_imgs/fig3_tax_bottom.png\", dpi=600, bbox_inches=\"tight\", transparent=True)"
   ]
  },
  {
   "cell_type": "code",
   "execution_count": null,
   "metadata": {},
   "outputs": [],
   "source": [
    "pd.set_option('display.max_rows', 100)\n",
    "ranks.pop()"
   ]
  },
  {
   "cell_type": "code",
   "execution_count": null,
   "metadata": {},
   "outputs": [],
   "source": [
    "gmd.loc[tables_clean[\"genomes\"].median().nlargest(100).index, ranks]"
   ]
  },
  {
   "cell_type": "code",
   "execution_count": null,
   "metadata": {},
   "outputs": [],
   "source": [
    "gmd.drop_duplicates(\"genus\").set_index(\"genus\").loc[tables_clean[\"genus\"].median().nlargest(20).index, [i for i in ranks if i != \"genus\"]]"
   ]
  },
  {
   "cell_type": "code",
   "execution_count": null,
   "metadata": {},
   "outputs": [],
   "source": [
    "gmd.drop_duplicates(\"genus\").set_index(\"genus\").loc[tables_clean[\"genus\"].median().nlargest(100).index, [i for i in ranks if i != \"genus\"]]"
   ]
  },
  {
   "cell_type": "code",
   "execution_count": null,
   "metadata": {},
   "outputs": [],
   "source": [
    "(tables_clean[\"genus\"] > 0).mean().sort_values(ascending=True).plot(kind=\"hist\")"
   ]
  },
  {
   "cell_type": "code",
   "execution_count": null,
   "metadata": {},
   "outputs": [],
   "source": [
    "(tables_clean[\"genomes\"] > 0).mean().sort_values(ascending=True).plot(kind=\"hist\")"
   ]
  },
  {
   "cell_type": "code",
   "execution_count": null,
   "metadata": {},
   "outputs": [],
   "source": [
    "\n",
    "tables_clean[\"genomes\"][\"GCA_003662515\"].describe()"
   ]
  },
  {
   "cell_type": "code",
   "execution_count": 29,
   "metadata": {},
   "outputs": [],
   "source": [
    "from skbio import diversity"
   ]
  },
  {
   "cell_type": "code",
   "execution_count": null,
   "metadata": {},
   "outputs": [],
   "source": []
  },
  {
   "cell_type": "code",
   "execution_count": 30,
   "metadata": {},
   "outputs": [],
   "source": [
    "metric = \"simpson\"\n",
    "rank = \"genus\"\n",
    "s = pd.Series(diversity.alpha_diversity(metric, get_rel_abun(tables_clean[rank]).map(lambda x: 0.0 if x < 1e-6 else x)))\n",
    "s.index = tables_clean[rank].index\n",
    "s.name = metric"
   ]
  },
  {
   "cell_type": "code",
   "execution_count": 31,
   "metadata": {},
   "outputs": [],
   "source": [
    "table = tables_clean[rank].join(s).join(smd[\"sourmash_k_10_1487_25m\"].rename(\"province\").astype(int).map({k: v[\"label\"] for k, v in palettes[\"k_10\"].items()}))"
   ]
  },
  {
   "cell_type": "code",
   "execution_count": null,
   "metadata": {},
   "outputs": [],
   "source": [
    "table.groupby(\"province\")[metric].describe()"
   ]
  },
  {
   "cell_type": "code",
   "execution_count": 33,
   "metadata": {},
   "outputs": [],
   "source": [
    "# Individual sunbursts"
   ]
  },
  {
   "cell_type": "code",
   "execution_count": null,
   "metadata": {},
   "outputs": [],
   "source": [
    "ranks"
   ]
  },
  {
   "cell_type": "code",
   "execution_count": null,
   "metadata": {},
   "outputs": [],
   "source": [
    "provinces_pie_data[province].query(\"rank == 'genomes'\").set_index(\"taxa\")"
   ]
  },
  {
   "cell_type": "code",
   "execution_count": null,
   "metadata": {},
   "outputs": [],
   "source": [
    "# Test one instance\n",
    "for province in \"0 14 16 10 2 3 7 5 11 9\".split():\n",
    "    fig, ax = plt.subplots(1, 1, figsize=(10, 10))\n",
    "    print(palettes[\"k_10\"][int(province)][\"label\"])\n",
    "    print(provinces_pie_data[province].query(\"rank == 'genomes'\").set_index(\"taxa\").join(gmd[ranks + [\"sci_names\"]]).set_index(\"value\"))\n",
    "    sunburst(provinces_pie_data[province],\n",
    "             ax,\n",
    "             remove_labels=True,\n",
    "             remove_pct=False,\n",
    "             pctdistance=0.8,\n",
    "             format_lineage=lambda x: custom_join(gmd.loc[x, ranks].str[3:].to_list() + [x]),)\n",
    "    ax.set_title(palettes[\"k_10\"][int(province)][\"label\"], bbox=dict(facecolor=palettes[\"k_10\"][int(province)][\"color\"], alpha=0.7))\n",
    "    print()"
   ]
  },
  {
   "cell_type": "code",
   "execution_count": null,
   "metadata": {},
   "outputs": [],
   "source": [
    "\n",
    "gmd.loc[provinces_pie_data[\"0\"].query(\"rank == 'genomes'\")[\"taxa\"], ranks[:-1] + [\"sci_names\"]]"
   ]
  },
  {
   "cell_type": "code",
   "execution_count": null,
   "metadata": {},
   "outputs": [],
   "source": [
    "\n",
    "fig, ax = plt.subplots(1, 1, figsize=(10, 10))\n",
    "sunburst(provinces_pie_data[\"0\"],\n",
    "         ax,\n",
    "         remove_labels=True,\n",
    "         remove_pct=False,\n",
    "         pctdistance=0.8,\n",
    "         format_lineage=lambda x: custom_join(gmd.loc[x, ranks[:-1]].str[3:].to_list() + [x]))\n",
    "ax.set_title(palettes[\"k_10\"][int(\"0\")][\"label\"], bbox=dict(facecolor=palettes[\"k_10\"][int(\"0\")][\"color\"], alpha=0.7))\n",
    "\n",
    "\n",
    "# plt.savefig(\"./sunburst_aplr.svg\", format=\"svg\")"
   ]
  },
  {
   "cell_type": "code",
   "execution_count": null,
   "metadata": {},
   "outputs": [],
   "source": [
    "!ls ../drafts"
   ]
  },
  {
   "cell_type": "code",
   "execution_count": null,
   "metadata": {},
   "outputs": [],
   "source": [
    "# Test one instance\n",
    "fig, ax = plt.subplots(1, 1, figsize=(10, 10))\n",
    "\n",
    "sunburst(provinces_pie_data[\"0\"], ax, remove_labels=True, remove_pct=False, pctdistance=0.8)"
   ]
  },
  {
   "cell_type": "code",
   "execution_count": null,
   "metadata": {},
   "outputs": [],
   "source": [
    "# Test one instance\n",
    "fig, ax = plt.subplots(1, 1, figsize=(10, 10))\n",
    "\n",
    "sunburst(provinces_pie_data[\"7\"], ax, remove_labels=True, remove_pct=False, pctdistance=0.8)"
   ]
  },
  {
   "cell_type": "code",
   "execution_count": null,
   "metadata": {},
   "outputs": [],
   "source": [
    "# Test one instance\n",
    "fig, ax = plt.subplots(1, 1, figsize=(10, 10))\n",
    "\n",
    "sunburst(provinces_pie_data[\"10\"], ax, remove_labels=True, remove_pct=False, pctdistance=0.8)"
   ]
  },
  {
   "cell_type": "code",
   "execution_count": null,
   "metadata": {},
   "outputs": [],
   "source": [
    "# Test one instance\n",
    "fig, ax = plt.subplots(1, 1, figsize=(10, 10))\n",
    "\n",
    "sunburst(provinces_pie_data[\"5\"], ax, remove_labels=True, remove_pct=False, pctdistance=0.8)"
   ]
  },
  {
   "cell_type": "code",
   "execution_count": null,
   "metadata": {},
   "outputs": [],
   "source": [
    "# Test one instance\n",
    "fig, ax = plt.subplots(1, 1, figsize=(10, 10))\n",
    "\n",
    "sunburst(provinces_pie_data[\"7\"], ax, remove_labels=True, remove_pct=False, pctdistance=0.8, format_lineage=lambda text_: custom_join(gmd.loc[text_, ranks[:-1]].map(lambda x: x[3:]).to_list() + [text_]))"
   ]
  },
  {
   "cell_type": "code",
   "execution_count": 45,
   "metadata": {},
   "outputs": [],
   "source": [
    "genome_number_labels = provinces_pie_data.copy()\n",
    "\n",
    "for k, v in genome_number_labels.items():\n",
    "    genome_number_labels[k] = v[v[\"rank\"] == \"genomes\"].drop_duplicates().sort_values(\"taxa\").reset_index(drop=True).reset_index().set_index(\"taxa\")\n",
    "\n",
    "# genome_number_labels = pd.concat(genome_number_labels.values())\n",
    "# genome_number_labels = pd.concat)\n",
    "# genome_number_labels = genome_number_labels[genome_number_labels[\"rank\"] == \"genomes\"].drop_duplicates(\"taxa\")\n",
    "# genome_number_labels.reset_index(drop=True).reset_index().set_index(\"taxa\")"
   ]
  },
  {
   "cell_type": "code",
   "execution_count": null,
   "metadata": {},
   "outputs": [],
   "source": [
    "# Test one instance\n",
    "fig, ax = plt.subplots(1, 1, figsize=(10, 10))\n",
    "\n",
    "# TROP\n",
    "sunburst(provinces_pie_data[\"9\"], ax, remove_labels=False, remove_pct=True, pctdistance=0.8, format_lineage=False, rotatelabels=True)"
   ]
  },
  {
   "cell_type": "code",
   "execution_count": null,
   "metadata": {},
   "outputs": [],
   "source": [
    "# Test one instance\n",
    "fig, ax = plt.subplots(1, 1, figsize=(10, 10))\n",
    "\n",
    "# PEQD\n",
    "sunburst(provinces_pie_data[\"11\"], ax, remove_labels=False, remove_pct=True, pctdistance=0.8, format_lineage=False, rotatelabels=True)"
   ]
  },
  {
   "cell_type": "code",
   "execution_count": null,
   "metadata": {},
   "outputs": [],
   "source": [
    "# Test one instance\n",
    "fig, ax = plt.subplots(1, 1, figsize=(10, 10))\n",
    "\n",
    "# TCON\n",
    "sunburst(provinces_pie_data[\"5\"], ax, remove_labels=False, remove_pct=True, pctdistance=0.8, format_lineage=False, rotatelabels=True)"
   ]
  },
  {
   "cell_type": "markdown",
   "metadata": {},
   "source": [
    "## Genus and genome-level heatmaps"
   ]
  },
  {
   "cell_type": "markdown",
   "metadata": {},
   "source": [
    "### *Synechococcus*"
   ]
  },
  {
   "cell_type": "code",
   "execution_count": null,
   "metadata": {},
   "outputs": [],
   "source": [
    "data_.rename_axis(\"Sample\")"
   ]
  },
  {
   "cell_type": "code",
   "execution_count": null,
   "metadata": {},
   "outputs": [],
   "source": [
    "data_ = get_rel_abun(tables_clean[\"genomes\"][gmd[(gmd[\"genus\"].str.contains(\"Synechococcus\")) |\n",
    "                                         (gmd[\"genus\"].str.contains(\"Cyanobium\"))].index]).join(\n",
    "                                             smd[\"sourmash_k_10_1487_25m\"].astype(int).map(\n",
    "                                                 {k: v[\"label\"] for k, v in palettes[\"k_10\"].items()}).rename(\"province\")).rename_axis(\"Sample\")\n",
    "data_ = data_[data_.iloc[:, :-1].max().nlargest(10).index]\n",
    "data_ = data_.rename(columns={**gmd.loc[data_.columns[:-1], \"sci_names\"].to_dict(), **{\"GCA_000012505\": \"Synechococcus sp. CC9902\"}})\n",
    "sns.clustermap(data_.T, col_colors=col_colors.loc[data_.index], cmap=\"Spectral_r\", figsize=(7.5,5), xticklabels=False, yticklabels=True, vmin=0, vmax=0.6, cbar_pos=None)\n",
    "plt.savefig(\"/local/path/to/figures/final_draft_imgs/clustermap_synechococcus.svg\", bbox_inches=\"tight\")"
   ]
  },
  {
   "cell_type": "markdown",
   "metadata": {},
   "source": [
    "### *Prochlorococcus*"
   ]
  },
  {
   "cell_type": "code",
   "execution_count": 76,
   "metadata": {},
   "outputs": [],
   "source": [
    "# data_ = get_rel_abun(tables_clean[\"genomes\"][gmd[(gmd[\"genus\"].str.contains(\"Prochlorococcus\"))].index]).join(\n",
    "#                                              smd[\"sourmash_k_10_1487_25m\"].astype(int).map(\n",
    "#                                                  {k: v[\"label\"] for k, v in palettes[\"k_10\"].items()}).rename(\"province\"))\n",
    "# data_ = data_.rename(columns=gmd.loc[data_.columns[:-1], \"sci_names\"].to_dict())\n",
    "# sns.clustermap(data_.iloc[:, :-1].T, col_colors=col_colors.loc[data_.index], cmap=\"Spectral_r\", figsize=(10,20), vmax=0.2, xticklabels=False)"
   ]
  },
  {
   "cell_type": "code",
   "execution_count": null,
   "metadata": {},
   "outputs": [],
   "source": [
    "data_ = get_rel_abun(tables_clean[\"genus\"][gmd[(gmd[\"genus\"].str.contains(\"Prochlorococcus\"))][\"genus\"].unique()]).join(\n",
    "                                             smd[\"sourmash_k_10_1487_25m\"].astype(int).map(\n",
    "                                                 {k: v[\"label\"] for k, v in palettes[\"k_10\"].items()}).rename(\"province\")).rename_axis(\"Sample\")\n",
    "# data_[\"province\"] = pd.Categorical(data_[\"province\"], categories=\"APLR BPLR BALT UPWL SSTC NADR TMED TCON PEQD TROP\".split(), ordered=True)\n",
    "data_ = data_.sort_values(\"province\")\n",
    "# data_ = data_.rename(columns=gmd.loc[data_.columns[:-1], \"sci_names\"].to_dict())\n",
    "# sns.clustermap(data_.iloc[:, :-1].T, col_colors=col_colors.loc[data_.index], cmap=\"Spectral_r\", figsize=(10,5), col_cluster=False, xticklabels=False)\n",
    "sns.clustermap(data_.iloc[:, :-1].T, col_colors=col_colors.loc[data_.index], cmap=\"Spectral_r\", figsize=(7.5,5), xticklabels=False, vmin=0, vmax=0.6, cbar_pos=None)\n",
    "plt.savefig(\"/local/path/to/figures/final_draft_imgs/clustermap_prochlorococcus_genus.svg\", bbox_inches=\"tight\")"
   ]
  },
  {
   "cell_type": "code",
   "execution_count": 90,
   "metadata": {},
   "outputs": [],
   "source": [
    "# data_ = get_rel_abun(tables_clean[\"genomes\"][gmd[(gmd[\"genus\"].str.contains(\"Prochlorococcus_A\"))].index]).join(\n",
    "#                                              smd[\"sourmash_k_10_1487_25m\"].astype(int).map(\n",
    "#                                                  {k: v[\"label\"] for k, v in palettes[\"k_10\"].items()}).rename(\"province\"))\n",
    "# data_ = data_.rename(columns=gmd.loc[data_.columns[:-1], \"sci_names\"].to_dict())\n",
    "# sns.clustermap(data_.iloc[:, :-1].T, col_colors=col_colors.loc[data_.index], cmap=\"Spectral_r\", figsize=(10,30), vmax=0.2, yticklabels=True)"
   ]
  },
  {
   "cell_type": "code",
   "execution_count": null,
   "metadata": {},
   "outputs": [],
   "source": [
    "data_ = get_rel_abun(tables_clean[\"genomes\"][gmd[(gmd[\"genus\"].str.contains(\"Prochlorococcus_A\"))].index])\n",
    "data_ = data_[data_.mean().nlargest(5).index]\n",
    "rename_dict = gmd.loc[data_.columns, \"sci_names\"].to_dict()\n",
    "rename_dict = {k: v + f\"; {k}\" for k, v in rename_dict.items()}\n",
    "data_ = data_.rename(columns=rename_dict).join(\n",
    "                                             smd[\"sourmash_k_10_1487_25m\"].astype(int).map(\n",
    "                                                 {k: v[\"label\"] for k, v in palettes[\"k_10\"].items()}).rename(\"province\")).rename_axis(\"Sample\")\n",
    "# data_[\"province\"] = pd.Categorical(data_[\"province\"], categories=\"APLR BPLR BALT UPWL SSTC NADR TMED TCON PEQD TROP\".split(), ordered=True)\n",
    "data_ = data_.sort_values(\"province\")\n",
    "sns.clustermap(data_.iloc[:, :-1].T, col_colors=col_colors.loc[data_.index], cmap=\"Spectral_r\", figsize=(10,5), yticklabels=True, xticklabels=False, vmin=0, vmax=0.6, cbar_pos=None)\n",
    "plt.savefig(\"/local/path/to/figures/final_draft_imgs/clustermap_prochlorococcus_A_genome.svg\", bbox_inches=\"tight\")"
   ]
  },
  {
   "cell_type": "code",
   "execution_count": null,
   "metadata": {},
   "outputs": [],
   "source": [
    "data_ = get_rel_abun(tables_clean[\"genomes\"][gmd[(gmd[\"genus\"].str.contains(\"Prochlorococcus\"))].index])\n",
    "data_ = data_[data_.mean().nlargest(6).index]\n",
    "rename_dict = gmd.loc[data_.columns, \"sci_names\"].to_dict()\n",
    "rename_dict = {k: v + f\"; {k}\" for k, v in rename_dict.items()}\n",
    "data_ = data_.rename(columns=rename_dict).join(\n",
    "                                             smd[\"sourmash_k_10_1487_25m\"].astype(int).map(\n",
    "                                                 {k: v[\"label\"] for k, v in palettes[\"k_10\"].items()}).rename(\"province\")).rename_axis(\"Sample\")\n",
    "# data_[\"province\"] = pd.Categorical(data_[\"province\"], categories=\"APLR BPLR BALT UPWL SSTC NADR TMED TCON PEQD TROP\".split(), ordered=True)\n",
    "data_ = data_.sort_values(\"province\")\n",
    "sns.clustermap(data_.iloc[:, :-1].T, col_colors=col_colors.loc[data_.index], cmap=\"Spectral_r\", figsize=(10,5), yticklabels=True, xticklabels=False, vmin=0, vmax=0.6, cbar_pos=None)\n",
    "plt.savefig(\"/local/path/to/figures/final_draft_imgs/clustermap_prochlorococcus_genome.svg\", bbox_inches=\"tight\")"
   ]
  },
  {
   "cell_type": "markdown",
   "metadata": {},
   "source": [
    "### *Pelagibacter*"
   ]
  },
  {
   "cell_type": "code",
   "execution_count": null,
   "metadata": {},
   "outputs": [],
   "source": [
    "data_ = get_rel_abun(tables_clean[\"genomes\"])[gmd[(gmd[\"family\"].str.contains(\"Pelagibacteraceae\"))].index]\n",
    "data_ = data_[data_.max().nlargest(10).index]\n",
    "rename_dict = gmd.loc[data_.columns, [\"family\", \"genus\", \"sci_names\"]].apply(lambda row: \"; \".join(row), axis=1).to_dict()\n",
    "rename_dict = {k: v + f\"; {k}\" for k, v in rename_dict.items()}\n",
    "data_ = data_.rename(columns=rename_dict).join(\n",
    "                                             smd[\"sourmash_k_10_1487_25m\"].astype(int).map(\n",
    "                                                 {k: v[\"label\"] for k, v in palettes[\"k_10\"].items()}).rename(\"province\")).rename_axis(\"Sample\")\n",
    "# data_[\"province\"] = pd.Categorical(data_[\"province\"], categories=\"APLR BPLR BALT UPWL SSTC NADR TMED TCON PEQD TROP\".split(), ordered=True)\n",
    "data_ = data_.sort_values(\"province\")\n",
    "sns.clustermap(data_.iloc[:, :-1].T, col_colors=col_colors.loc[data_.index], cmap=\"Spectral_r\", figsize=(10,5), yticklabels=True, xticklabels=False, vmin=0, vmax=0.3)\n",
    "plt.savefig(\"/local/path/to/figures/final_draft_imgs/clustermap_pelagibacter.eps\", bbox_inches=\"tight\")"
   ]
  },
  {
   "cell_type": "markdown",
   "metadata": {},
   "source": [
    "### SAR86"
   ]
  },
  {
   "cell_type": "code",
   "execution_count": null,
   "metadata": {},
   "outputs": [],
   "source": [
    "data_ = get_rel_abun(tables_clean[\"genomes\"][gmd[(gmd[\"family\"].str.contains(\"SAR86\"))].index])\n",
    "data_ = data_[data_.median().nlargest(10).index]\n",
    "rename_dict = gmd.loc[data_.columns, [\"family\", \"genus\", \"sci_names\"]].apply(lambda row: \"; \".join(row.to_list()), axis=1).to_dict()\n",
    "rename_dict = {k: v + f\"; {k}\" for k, v in rename_dict.items()}\n",
    "data_ = data_.rename(columns=rename_dict).join(\n",
    "                                             smd[\"sourmash_k_10_1487_25m\"].astype(int).map(\n",
    "                                                 {k: v[\"label\"] for k, v in palettes[\"k_10\"].items()}).rename(\"province\")).rename_axis(\"Sample\")\n",
    "# data_[\"province\"] = pd.Categorical(data_[\"province\"], categories=\"APLR BPLR BALT UPWL SSTC NADR TMED TCON PEQD TROP\".split(), ordered=True)\n",
    "data_ = data_.sort_values(\"province\")\n",
    "sns.clustermap(data_.iloc[:, :-1].T, col_colors=col_colors.loc[data_.index], cmap=\"Spectral_r\", figsize=(10,5), yticklabels=True, xticklabels=False, vmin=0, vmax=0.6, cbar_pos=None)\n",
    "plt.savefig(\"/local/path/to/figures/final_draft_imgs/clustermap_sar86.svg\", bbox_inches=\"tight\")"
   ]
  },
  {
   "cell_type": "code",
   "execution_count": null,
   "metadata": {},
   "outputs": [],
   "source": [
    "data_ = get_rel_abun(tables_clean[\"genomes\"][gmd[(gmd[\"family\"].str.contains(\"HIMB59\"))].index])\n",
    "# data_ = data_[data_.median().nlargest(10).index]\n",
    "rename_dict = gmd.loc[data_.columns, [\"family\", \"genus\", \"sci_names\"]].apply(lambda row: \"; \".join(row.to_list()), axis=1).to_dict()\n",
    "rename_dict = {k: v + f\"; {k}\" for k, v in rename_dict.items()}\n",
    "data_ = data_.rename(columns=rename_dict).join(\n",
    "                                             smd[\"sourmash_k_10_1487_25m\"].astype(int).map(\n",
    "                                                 {k: v[\"label\"] for k, v in palettes[\"k_10\"].items()}).rename(\"province\")).rename_axis(\"Sample\")\n",
    "# data_[\"province\"] = pd.Categorical(data_[\"province\"], categories=\"APLR BPLR BALT UPWL SSTC NADR TMED TCON PEQD TROP\".split(), ordered=True)\n",
    "data_ = data_.sort_values(\"province\")\n",
    "sns.clustermap(data_.iloc[:, :-1].T, col_colors=col_colors.loc[data_.index], cmap=\"Spectral_r\", figsize=(10,7.5), yticklabels=True, xticklabels=False, vmin=0, vmax=0.6, cbar_pos=None)\n",
    "plt.savefig(\"/local/path/to/figures/final_draft_imgs/clustermap_himb59.svg\", bbox_inches=\"tight\")"
   ]
  },
  {
   "cell_type": "code",
   "execution_count": null,
   "metadata": {},
   "outputs": [],
   "source": []
  },
  {
   "cell_type": "markdown",
   "metadata": {},
   "source": [
    "## Genus and genome-level heatmaps (PNG)"
   ]
  },
  {
   "cell_type": "markdown",
   "metadata": {},
   "source": [
    "### *Synechococcus*"
   ]
  },
  {
   "cell_type": "code",
   "execution_count": null,
   "metadata": {},
   "outputs": [],
   "source": [
    "data_ = get_rel_abun(tables_clean[\"genomes\"][gmd[(gmd[\"genus\"].str.contains(\"Synechococcus\")) |\n",
    "                                         (gmd[\"genus\"].str.contains(\"Cyanobium\"))].index]).join(\n",
    "                                             smd[\"sourmash_k_10_1487_25m\"].astype(int).map(\n",
    "                                                 {k: v[\"label\"] for k, v in palettes[\"k_10\"].items()}).rename(\"province\")).rename_axis(\"Sample\")\n",
    "data_ = data_[data_.iloc[:, :-1].max().nlargest(10).index]\n",
    "data_ = data_.rename(columns={**gmd.loc[data_.columns[:-1], \"sci_names\"].to_dict(), **{\"GCA_000012505\": \"Synechococcus sp. CC9902\"}})\n",
    "sns.clustermap(data_.T, col_colors=col_colors.loc[data_.index], cmap=\"Spectral_r\", figsize=(7.5,5), xticklabels=False, yticklabels=True, vmin=0, vmax=0.6, cbar_pos=None)\n",
    "plt.savefig(\"/local/path/to/figures/final_draft_imgs/clustermap_synechococcus.png\", dpi=600, bbox_inches=\"tight\")"
   ]
  },
  {
   "cell_type": "markdown",
   "metadata": {},
   "source": [
    "### *Prochlorococcus*"
   ]
  },
  {
   "cell_type": "code",
   "execution_count": 103,
   "metadata": {},
   "outputs": [],
   "source": [
    "# data_ = get_rel_abun(tables_clean[\"genomes\"][gmd[(gmd[\"genus\"].str.contains(\"Prochlorococcus\"))].index]).join(\n",
    "#                                              smd[\"sourmash_k_10_1487_25m\"].astype(int).map(\n",
    "#                                                  {k: v[\"label\"] for k, v in palettes[\"k_10\"].items()}).rename(\"province\"))\n",
    "# data_ = data_.rename(columns=gmd.loc[data_.columns[:-1], \"sci_names\"].to_dict())\n",
    "# sns.clustermap(data_.iloc[:, :-1].T, col_colors=col_colors.loc[data_.index], cmap=\"Spectral_r\", figsize=(10,20), vmax=0.2, xticklabels=False)"
   ]
  },
  {
   "cell_type": "code",
   "execution_count": null,
   "metadata": {},
   "outputs": [],
   "source": [
    "data_ = get_rel_abun(tables_clean[\"genus\"][gmd[(gmd[\"genus\"].str.contains(\"Prochlorococcus\"))][\"genus\"].unique()]).join(\n",
    "                                             smd[\"sourmash_k_10_1487_25m\"].astype(int).map(\n",
    "                                                 {k: v[\"label\"] for k, v in palettes[\"k_10\"].items()}).rename(\"province\")).rename_axis(\"Sample\")\n",
    "# data_[\"province\"] = pd.Categorical(data_[\"province\"], categories=\"APLR BPLR BALT UPWL SSTC NADR TMED TCON PEQD TROP\".split(), ordered=True)\n",
    "data_ = data_.sort_values(\"province\")\n",
    "# data_ = data_.rename(columns=gmd.loc[data_.columns[:-1], \"sci_names\"].to_dict())\n",
    "# sns.clustermap(data_.iloc[:, :-1].T, col_colors=col_colors.loc[data_.index], cmap=\"Spectral_r\", figsize=(10,5), col_cluster=False, xticklabels=False)\n",
    "sns.clustermap(data_.iloc[:, :-1].T, col_colors=col_colors.loc[data_.index], cmap=\"Spectral_r\", figsize=(7.5,5), xticklabels=False, vmin=0, vmax=0.6, cbar_pos=None)\n",
    "plt.savefig(\"/local/path/to/figures/final_draft_imgs/clustermap_prochlorococcus_genus.png\", dpi=600, bbox_inches=\"tight\")"
   ]
  },
  {
   "cell_type": "code",
   "execution_count": 105,
   "metadata": {},
   "outputs": [],
   "source": [
    "# data_ = get_rel_abun(tables_clean[\"genomes\"][gmd[(gmd[\"genus\"].str.contains(\"Prochlorococcus_A\"))].index]).join(\n",
    "#                                              smd[\"sourmash_k_10_1487_25m\"].astype(int).map(\n",
    "#                                                  {k: v[\"label\"] for k, v in palettes[\"k_10\"].items()}).rename(\"province\"))\n",
    "# data_ = data_.rename(columns=gmd.loc[data_.columns[:-1], \"sci_names\"].to_dict())\n",
    "# sns.clustermap(data_.iloc[:, :-1].T, col_colors=col_colors.loc[data_.index], cmap=\"Spectral_r\", figsize=(10,30), vmax=0.2, yticklabels=True)"
   ]
  },
  {
   "cell_type": "code",
   "execution_count": null,
   "metadata": {},
   "outputs": [],
   "source": [
    "data_ = get_rel_abun(tables_clean[\"genomes\"][gmd[(gmd[\"genus\"].str.contains(\"Prochlorococcus_A\"))].index])\n",
    "data_ = data_[data_.mean().nlargest(5).index]\n",
    "rename_dict = gmd.loc[data_.columns, \"sci_names\"].to_dict()\n",
    "rename_dict = {k: v + f\"; {k}\" for k, v in rename_dict.items()}\n",
    "data_ = data_.rename(columns=rename_dict).join(\n",
    "                                             smd[\"sourmash_k_10_1487_25m\"].astype(int).map(\n",
    "                                                 {k: v[\"label\"] for k, v in palettes[\"k_10\"].items()}).rename(\"province\")).rename_axis(\"Sample\")\n",
    "# data_[\"province\"] = pd.Categorical(data_[\"province\"], categories=\"APLR BPLR BALT UPWL SSTC NADR TMED TCON PEQD TROP\".split(), ordered=True)\n",
    "data_ = data_.sort_values(\"province\")\n",
    "sns.clustermap(data_.iloc[:, :-1].T, col_colors=col_colors.loc[data_.index], cmap=\"Spectral_r\", figsize=(10,5), yticklabels=True, xticklabels=False, vmin=0, vmax=0.6, cbar_pos=None)\n",
    "plt.savefig(\"/local/path/to/figures/final_draft_imgs/clustermap_prochlorococcus_A_genome.png\", dpi=600, bbox_inches=\"tight\")"
   ]
  },
  {
   "cell_type": "code",
   "execution_count": null,
   "metadata": {},
   "outputs": [],
   "source": [
    "data_ = get_rel_abun(tables_clean[\"genomes\"][gmd[(gmd[\"genus\"].str.contains(\"Prochlorococcus\"))].index])\n",
    "data_ = data_[data_.mean().nlargest(6).index]\n",
    "rename_dict = gmd.loc[data_.columns, \"sci_names\"].to_dict()\n",
    "rename_dict = {k: v + f\"; {k}\" for k, v in rename_dict.items()}\n",
    "data_ = data_.rename(columns=rename_dict).join(\n",
    "                                             smd[\"sourmash_k_10_1487_25m\"].astype(int).map(\n",
    "                                                 {k: v[\"label\"] for k, v in palettes[\"k_10\"].items()}).rename(\"province\")).rename_axis(\"Sample\")\n",
    "# data_[\"province\"] = pd.Categorical(data_[\"province\"], categories=\"APLR BPLR BALT UPWL SSTC NADR TMED TCON PEQD TROP\".split(), ordered=True)\n",
    "data_ = data_.sort_values(\"province\")\n",
    "sns.clustermap(data_.iloc[:, :-1].T, col_colors=col_colors.loc[data_.index], cmap=\"Spectral_r\", figsize=(10,5), yticklabels=True, xticklabels=False, vmin=0, vmax=0.6, cbar_pos=None)\n",
    "plt.savefig(\"/local/path/to/figures/final_draft_imgs/clustermap_prochlorococcus_genome.png\", dpi=600, bbox_inches=\"tight\")"
   ]
  },
  {
   "cell_type": "markdown",
   "metadata": {},
   "source": [
    "### *Pelagibacter*"
   ]
  },
  {
   "cell_type": "code",
   "execution_count": null,
   "metadata": {},
   "outputs": [],
   "source": [
    "data_ = get_rel_abun(tables_clean[\"genomes\"])[gmd[(gmd[\"family\"].str.contains(\"Pelagibacteraceae\"))].index]\n",
    "data_ = data_[data_.max().nlargest(10).index]\n",
    "rename_dict = gmd.loc[data_.columns, [\"family\", \"genus\", \"sci_names\"]].apply(lambda row: \"; \".join(row), axis=1).to_dict()\n",
    "rename_dict = {k: v + f\"; {k}\" for k, v in rename_dict.items()}\n",
    "data_ = data_.rename(columns=rename_dict).join(\n",
    "                                             smd[\"sourmash_k_10_1487_25m\"].astype(int).map(\n",
    "                                                 {k: v[\"label\"] for k, v in palettes[\"k_10\"].items()}).rename(\"province\")).rename_axis(\"Sample\")\n",
    "# data_[\"province\"] = pd.Categorical(data_[\"province\"], categories=\"APLR BPLR BALT UPWL SSTC NADR TMED TCON PEQD TROP\".split(), ordered=True)\n",
    "data_ = data_.sort_values(\"province\")\n",
    "sns.clustermap(data_.iloc[:, :-1].T, col_colors=col_colors.loc[data_.index], cmap=\"Spectral_r\", figsize=(10,5), yticklabels=True, xticklabels=False, vmin=0, vmax=0.3)\n",
    "plt.savefig(\"/local/path/to/figures/final_draft_imgs/clustermap_pelagibacter.png\", dpi=600, bbox_inches=\"tight\")"
   ]
  },
  {
   "cell_type": "markdown",
   "metadata": {},
   "source": [
    "### SAR86"
   ]
  },
  {
   "cell_type": "code",
   "execution_count": null,
   "metadata": {},
   "outputs": [],
   "source": [
    "data_ = get_rel_abun(tables_clean[\"genomes\"][gmd[(gmd[\"family\"].str.contains(\"SAR86\"))].index])\n",
    "data_ = data_[data_.median().nlargest(10).index]\n",
    "rename_dict = gmd.loc[data_.columns, [\"family\", \"genus\", \"sci_names\"]].apply(lambda row: \"; \".join(row.to_list()), axis=1).to_dict()\n",
    "rename_dict = {k: v + f\"; {k}\" for k, v in rename_dict.items()}\n",
    "data_ = data_.rename(columns=rename_dict).join(\n",
    "                                             smd[\"sourmash_k_10_1487_25m\"].astype(int).map(\n",
    "                                                 {k: v[\"label\"] for k, v in palettes[\"k_10\"].items()}).rename(\"province\")).rename_axis(\"Sample\")\n",
    "# data_[\"province\"] = pd.Categorical(data_[\"province\"], categories=\"APLR BPLR BALT UPWL SSTC NADR TMED TCON PEQD TROP\".split(), ordered=True)\n",
    "data_ = data_.sort_values(\"province\")\n",
    "sns.clustermap(data_.iloc[:, :-1].T, col_colors=col_colors.loc[data_.index], cmap=\"Spectral_r\", figsize=(10,5), yticklabels=True, xticklabels=False, vmin=0, vmax=0.6, cbar_pos=None)\n",
    "plt.savefig(\"/local/path/to/figures/final_draft_imgs/clustermap_sar86.png\", dpi=600, bbox_inches=\"tight\")"
   ]
  },
  {
   "cell_type": "code",
   "execution_count": null,
   "metadata": {},
   "outputs": [],
   "source": [
    "data_ = get_rel_abun(tables_clean[\"genomes\"][gmd[(gmd[\"family\"].str.contains(\"HIMB59\"))].index])\n",
    "# data_ = data_[data_.median().nlargest(10).index]\n",
    "rename_dict = gmd.loc[data_.columns, [\"family\", \"genus\", \"sci_names\"]].apply(lambda row: \"; \".join(row.to_list()), axis=1).to_dict()\n",
    "rename_dict = {k: v + f\"; {k}\" for k, v in rename_dict.items()}\n",
    "data_ = data_.rename(columns=rename_dict).join(\n",
    "                                             smd[\"sourmash_k_10_1487_25m\"].astype(int).map(\n",
    "                                                 {k: v[\"label\"] for k, v in palettes[\"k_10\"].items()}).rename(\"province\")).rename_axis(\"Sample\")\n",
    "# data_[\"province\"] = pd.Categorical(data_[\"province\"], categories=\"APLR BPLR BALT UPWL SSTC NADR TMED TCON PEQD TROP\".split(), ordered=True)\n",
    "data_ = data_.sort_values(\"province\")\n",
    "sns.clustermap(data_.iloc[:, :-1].T, col_colors=col_colors.loc[data_.index], cmap=\"Spectral_r\", figsize=(10,7.5), yticklabels=True, xticklabels=False, vmin=0, vmax=0.6)\n",
    "plt.savefig(\"/local/path/to/figures/final_draft_imgs/clustermap_himb59.png\", dpi=600, bbox_inches=\"tight\")"
   ]
  },
  {
   "cell_type": "code",
   "execution_count": null,
   "metadata": {},
   "outputs": [],
   "source": []
  }
 ],
 "metadata": {
  "kernelspec": {
   "display_name": "data",
   "language": "python",
   "name": "python3"
  },
  "language_info": {
   "codemirror_mode": {
    "name": "ipython",
    "version": 3
   },
   "file_extension": ".py",
   "mimetype": "text/x-python",
   "name": "python",
   "nbconvert_exporter": "python",
   "pygments_lexer": "ipython3",
   "version": "3.12.4"
  }
 },
 "nbformat": 4,
 "nbformat_minor": 2
}
