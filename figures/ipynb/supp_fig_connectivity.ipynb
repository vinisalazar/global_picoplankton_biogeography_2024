{
 "cells": [
  {
   "cell_type": "code",
   "execution_count": 1,
   "metadata": {},
   "outputs": [],
   "source": [
    "import sys\n",
    "import pandas as pd\n",
    "import numpy as np\n",
    "\n",
    "import matplotlib as mpl\n",
    "import cartopy.crs as ccrs\n",
    "import cartopy.feature as cfeature\n",
    "from cartopy.mpl.ticker import LongitudeFormatter, LatitudeFormatter, LatitudeLocator\n",
    "\n",
    "from itertools import combinations\n",
    "\n",
    "from matplotlib import pyplot as plt\n",
    "\n",
    "sys.path.insert(0, \"../../../scripts/\")\n",
    "\n",
    "from plotting_utils import plot_colored_markers, palettes\n",
    "\n",
    "plt.rcParams[\"font.family\"] = \"sans-serif\"\n",
    "plt.rcParams[\"text.usetex\"] = True\n",
    "mpl.rc('text.latex', preamble=r'\\usepackage{cmbright}')\n"
   ]
  },
  {
   "cell_type": "code",
   "execution_count": 2,
   "metadata": {},
   "outputs": [],
   "source": [
    "data_dir = \"/local/path/to/provinces_final\"\n",
    "\n",
    "md = pd.read_csv(f\"{data_dir}/data/metadata_1454_cluster_labels.csv\", index_col=0)\n",
    "df = pd.read_csv(f\"{data_dir}/../data/misc/sourmash.csv\", index_col=0)\n",
    "\n",
    "df = df.loc[md.index, md.index]\n"
   ]
  },
  {
   "cell_type": "code",
   "execution_count": 3,
   "metadata": {},
   "outputs": [],
   "source": [
    "distances = df.copy()\n",
    "distances.values[np.triu_indices(len(df))] = np.nan\n",
    "distances = distances.reset_index(names=[\"sample1\"]).melt(id_vars=\"sample1\", var_name=\"sample2\", value_name=\"distance\")\n",
    "distances = distances[distances[\"distance\"] == distances[\"distance\"]].reset_index(drop=True)\n",
    "distances[\"alpha\"] = 1 - distances[\"distance\"]"
   ]
  },
  {
   "cell_type": "markdown",
   "metadata": {},
   "source": [
    "# Connectivity"
   ]
  },
  {
   "cell_type": "code",
   "execution_count": null,
   "metadata": {},
   "outputs": [],
   "source": [
    "distances[\"alpha\"].plot(kind=\"hist\", bins=100)\n",
    "plt.xlim(0.0, 0.1)"
   ]
  },
  {
   "cell_type": "code",
   "execution_count": 5,
   "metadata": {},
   "outputs": [],
   "source": [
    "def qualitative_colormap(cmap_name, N):\n",
    "    cmap = mpl.colormaps.get_cmap(cmap_name)\n",
    "    colors = [cmap(i) for i in np.linspace(0, 1, N)]\n",
    "    return colors"
   ]
  },
  {
   "cell_type": "code",
   "execution_count": null,
   "metadata": {},
   "outputs": [],
   "source": [
    "fig = plt.figure(figsize=(20, 10))\n",
    "ax = fig.add_subplot(1, 1, 1, projection=ccrs.PlateCarree())\n",
    "\n",
    "ax.set_global()\n",
    "gl = ax.gridlines(\n",
    "    draw_labels=True,\n",
    "    linewidth=0.5,\n",
    "    color=\"black\",\n",
    "    alpha=0.7,\n",
    "    linestyle=\"--\",\n",
    "    ylabel_style={\"size\": 12, \"color\": \"black\", \"weight\": \"bold\"},\n",
    "    xlabel_style={\"size\": 12, \"color\": \"black\", \"weight\": \"bold\"},\n",
    "    auto_inline=True,\n",
    "    ylocs = [-60, -40, -23.5, 0, 23.5, 40, 60],\n",
    "    zorder=1,\n",
    ")\n",
    "gl.xlines = False\n",
    "gl.top_labels = False\n",
    "gl.bottom_labels = True\n",
    "gl.left_labels = True\n",
    "gl.right_labels = False\n",
    "gl.xformatter = LongitudeFormatter()\n",
    "gl.yformatter = LatitudeFormatter()\n",
    "ax.add_feature(cfeature.NaturalEarthFeature(\"physical\", \"land\", \"10m\"),\n",
    "               alpha=1, color=\"#EFEFDB\", zorder=2, edgecolor=\"black\", linewidth=0.5)\n",
    "ax.add_feature(cfeature.LAKES, ec=\"black\", lw=0.25, zorder=2)\n",
    "ax.add_feature(cfeature.RIVERS, zorder=2)\n",
    "ax.coastlines(resolution=\"10m\", lw=0.5, edgecolor=\"black\", zorder=2)\n",
    "\n",
    "for ix, row in md.iterrows():\n",
    "    ax.plot(row[\"longitude\"], row[\"latitude\"], color=palettes[\"k_10\"][row[\"sourmash_k_10_1487_25m\"]][\"color\"], marker=palettes[\"k_10\"][row[\"sourmash_k_10_1487_25m\"]][\"marker\"],markersize=10, markeredgewidth=0.5, markeredgecolor=\"black\", zorder=2)\n",
    "\n",
    "plot_data = distances[distances[\"alpha\"] >= 0.07].reset_index(drop=True)\n",
    "\n",
    "quantile_values = [0.5, 0.75, 0.9]\n",
    "quantiles = plot_data[\"alpha\"].quantile(quantile_values)\n",
    "\n",
    "colors = qualitative_colormap(\"Greys\", 4)\n",
    "\n",
    "for ix, row in plot_data.iterrows():\n",
    "    color = \"black\"\n",
    "    if ix % 1000 == 0:\n",
    "       print(f\"Processed {ix} / {len(plot_data)} edges.\", end=\"\\r\")\n",
    "    if row[\"alpha\"] <= quantiles.loc[quantile_values[0]]:\n",
    "        alpha = row[\"alpha\"]\n",
    "        color = colors[1]\n",
    "    elif row[\"alpha\"] <= quantiles.loc[quantile_values[1]]:\n",
    "        alpha = row[\"alpha\"] + 0.1\n",
    "        color = colors[2]\n",
    "    elif row[\"alpha\"] <= quantiles.loc[quantile_values[2]]:\n",
    "        alpha = row[\"alpha\"] + 0.25\n",
    "        color = colors[3]\n",
    "    else:\n",
    "        alpha = 1\n",
    "        color = colors[3]\n",
    "        color = \"blue\"\n",
    "    ax.plot([md.loc[row[\"sample1\"], \"longitude\"], md.loc[row[\"sample2\"], \"longitude\"]], [md.loc[row[\"sample1\"], \"latitude\"], md.loc[row[\"sample2\"], \"latitude\"]], color=color, alpha=alpha, lw=0.5, zorder=3)\n",
    "\n",
    "ax.set_title(\"Genomic connectivity between samples\", fontsize=20)\n",
    "\n",
    "plt.savefig(\"/local/path/to/figures/final_draft_imgs/figS7_connectivity.svg\", bbox_inches=\"tight\")"
   ]
  },
  {
   "cell_type": "code",
   "execution_count": null,
   "metadata": {},
   "outputs": [],
   "source": []
  }
 ],
 "metadata": {
  "kernelspec": {
   "display_name": "data",
   "language": "python",
   "name": "python3"
  },
  "language_info": {
   "codemirror_mode": {
    "name": "ipython",
    "version": 3
   },
   "file_extension": ".py",
   "mimetype": "text/x-python",
   "name": "python",
   "nbconvert_exporter": "python",
   "pygments_lexer": "ipython3",
   "version": "3.12.4"
  }
 },
 "nbformat": 4,
 "nbformat_minor": 2
}
