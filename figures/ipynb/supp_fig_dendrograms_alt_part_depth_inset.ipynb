{
 "cells": [
  {
   "cell_type": "markdown",
   "metadata": {},
   "source": [
    "# Clustering analysis\n",
    "\n",
    "1. Load distance data\n",
    "2. Keep all samples\n",
    "    - Remove outliers (`k=8, N=10`)\n",
    "    - Dendrogram\n",
    "    - Large partition (`k=4`)\n",
    "        - Map\n",
    "    - Analyse tropical subtree (`k=6`, `N=10`)\n",
    "        - Fine-grained partition map (`k=7`)\n",
    "    - Depth graph\n",
    "3. Filter `<25m depth` samples, remove outliers\n",
    "    - Dendrogram\n",
    "4. Large partitioning `k=4`\n",
    "    - Map\n",
    "5. Fine-grained partioning `k=10`\n",
    "    - Map\n",
    "6. Export cluster tables"
   ]
  },
  {
   "cell_type": "code",
   "execution_count": null,
   "metadata": {
    "metadata": {}
   },
   "outputs": [],
   "source": [
    "import os\n",
    "import sys\n",
    "import itertools\n",
    "\n",
    "\n",
    "import pandas as pd\n",
    "import numpy as np\n",
    "import seaborn as sns\n",
    "import xarray as xr\n",
    "import cartopy.crs as ccrs\n",
    "\n",
    "import matplotlib as mpl\n",
    "from matplotlib import pyplot as plt\n",
    "\n",
    "from scipy.spatial.distance import squareform\n",
    "from scipy.cluster.hierarchy import linkage, dendrogram, cut_tree, set_link_color_palette\n",
    "from scipy import stats\n",
    "from statsmodels.stats.multicomp import pairwise_tukeyhsd\n",
    "\n",
    "sys.path.insert(0, \"/local/path/to/scripts/\")\n",
    "from plotting_utils import plot_colored_markers, palettes\n",
    "\n",
    "os.environ['PATH'] = os.environ['PATH'] + ':/apps/easybuild-2022/easybuild/software/Compiler/GCC/11.3.0/texlive/20230313/bin/x86_64-linux/'\n",
    "plt.rcParams['font.family'] = 'sans-serif'\n",
    "plt.rcParams['text.usetex'] = True\n",
    "get_cmap_ix = lambda ix, cmap: mpl.colors.rgb2hex(plt.get_cmap(cmap).colors[ix])\n"
   ]
  },
  {
   "cell_type": "markdown",
   "metadata": {},
   "source": [
    "# 1. Load distance data"
   ]
  },
  {
   "cell_type": "code",
   "execution_count": null,
   "metadata": {
    "metadata": {}
   },
   "outputs": [],
   "source": [
    "df = pd.read_csv(\"/local/path/to/data/distances/sourmash.csv\", index_col=0)\n",
    "md = pd.read_csv(\"~/biogo-hub/provinces_final/data/metadata_2132.csv\", index_col=0)\n",
    "\n",
    "df = df.loc[md.index, md.index]"
   ]
  },
  {
   "cell_type": "markdown",
   "metadata": {},
   "source": [
    "# 2. Keep all samples\n",
    "## Remove outliers"
   ]
  },
  {
   "cell_type": "code",
   "execution_count": null,
   "metadata": {
    "metadata": {}
   },
   "outputs": [],
   "source": [
    "X = squareform(df.values)\n",
    "Z = linkage(X, method='average')\n",
    "print_clusters = False\n",
    "\n",
    "# Use this to determine k\n",
    "if print_clusters:\n",
    "    for k in range(5, 11):\n",
    "        K = cut_tree(Z, n_clusters=k)\n",
    "        labels = pd.DataFrame(K, index=df.index)[0]\n",
    "        print(f\"k = {k}\")\n",
    "        k_gt_ten = labels.value_counts()[labels.value_counts() > 10].index.__len__()\n",
    "        print(f\"Groups larger than 10: {k_gt_ten}.\")\n",
    "        print(labels.value_counts())\n",
    "        print()\n",
    "else:\n",
    "    k_gt_ten = 4"
   ]
  },
  {
   "cell_type": "code",
   "execution_count": null,
   "metadata": {
    "metadata": {}
   },
   "outputs": [],
   "source": [
    "k, N = 8, 10\n",
    "K = cut_tree(Z, n_clusters=k)\n",
    "cut_value = Z[-(k - 1), 2]\n",
    "labels = pd.DataFrame(K, index=df.index)[0]\n",
    "label_name = f\"sourmash_k_{k_gt_ten}_{len(labels)}\"\n",
    "md[label_name] = labels\n",
    "outlier_provs = md[label_name].value_counts()[md[label_name].value_counts() < N].index\n",
    "outlier_samples = md[md[label_name].isin(outlier_provs)]\n",
    "md.loc[outlier_samples.index, label_name] = 99\n",
    "robust_provs = md[label_name].value_counts()[md[label_name].value_counts() >= N].index"
   ]
  },
  {
   "cell_type": "markdown",
   "metadata": {},
   "source": [
    "## Dendrogram"
   ]
  },
  {
   "cell_type": "code",
   "execution_count": null,
   "metadata": {
    "metadata": {}
   },
   "outputs": [],
   "source": [
    "def plot_dendrogram_all_samples(label_name, save=False):\n",
    "    fig, ax = plt.subplots(figsize=(20, 240))\n",
    "\n",
    "    D = dendrogram(Z,\n",
    "                color_threshold=cut_value,\n",
    "                labels= \"B\" + md[label_name].astype(str) + \"_\" + md.index,\n",
    "                orientation='left',\n",
    "                leaf_font_size=8,\n",
    "                ax=ax)\n",
    "    _ = ax.set_xlim(1, 0.75)\n",
    "\n",
    "    if save:\n",
    "        plt.savefig(save, dpi = 400 if save.endswith(\".png\") else \"figure\", bbox_inches='tight')\n",
    "\n",
    "# Supp fig. pt 1\n",
    "# plot_dendrogram_all_samples(label_name)\n",
    "# plt.savefig(\"/local/path/to/figures/img/final_drafts/supp_fig_full_dendrogram_w_subsurface.pdf\", bbox_inches='tight')"
   ]
  },
  {
   "cell_type": "code",
   "execution_count": null,
   "metadata": {
    "metadata": {}
   },
   "outputs": [],
   "source": [
    "subtree = 3\n",
    "md_subtree = md[md[label_name] == subtree]\n",
    "subtree = md_subtree.index\n",
    "\n",
    "X = df.loc[subtree, subtree]\n",
    "X = squareform(X.values)\n",
    "Z = linkage(X, method='average')\n",
    "\n",
    "if print_clusters:\n",
    "    for k in range(5, 21):\n",
    "        K = cut_tree(Z, n_clusters=k)\n",
    "        labels = pd.DataFrame(K, index=subtree)[0]\n",
    "        print(f\"k = {k}\")\n",
    "        k_gt_ten = labels.value_counts()[labels.value_counts() > N].index.__len__()\n",
    "        print(f\"Groups larger than 10: {k_gt_ten}.\")\n",
    "        print(labels.value_counts())\n",
    "    print()\n",
    "else:\n",
    "    k_gt_ten = 3\n",
    "\n",
    "k = 6\n",
    "K = cut_tree(Z, n_clusters=k)\n",
    "cut_value = Z[-(k - 1), 2]\n",
    "labels = pd.DataFrame(K, index=subtree)[0]\n",
    "\n",
    "# Identify labels from subtree\n",
    "labels = labels + 20\n",
    "md_subtree.loc[labels.index, label_name] = labels\n",
    "outlier_provs = md_subtree[label_name].value_counts()[md_subtree[label_name].value_counts() < N].index\n",
    "outlier_samples = md_subtree[md_subtree[label_name].isin(outlier_provs)]\n",
    "md_subtree.loc[outlier_samples.index, label_name] = 99\n",
    "\n",
    "# Join subtree with others\n",
    "md.loc[labels.index, label_name] = labels\n",
    "robust_provs = md[label_name].value_counts()[md[label_name].value_counts() >= N].index"
   ]
  },
  {
   "cell_type": "markdown",
   "metadata": {},
   "source": [
    "### Map"
   ]
  },
  {
   "cell_type": "code",
   "execution_count": null,
   "metadata": {
    "metadata": {}
   },
   "outputs": [],
   "source": [
    "# Subtree only\n",
    "# plot_colored_markers(md_subtree[md_subtree[label_name].isin(robust_provs)], color_category=label_name, jitter=1, cmap=\"Dark2\")\n",
    "\n",
    "md_robust = md[md[label_name].isin(robust_provs)]\n",
    "\n",
    "# All samples\n",
    "# plot_colored_markers(md_robust, color_category=label_name, jitter=1, cmap=\"Dark2\")\n",
    "\n",
    "md_depths_k_7 = md_robust.copy()"
   ]
  },
  {
   "cell_type": "markdown",
   "metadata": {},
   "source": [
    "### Depth plots"
   ]
  },
  {
   "cell_type": "code",
   "execution_count": null,
   "metadata": {
    "metadata": {}
   },
   "outputs": [],
   "source": [
    "plot_data = md_depths_k_7.copy()"
   ]
  },
  {
   "cell_type": "code",
   "execution_count": null,
   "metadata": {
    "metadata": {}
   },
   "outputs": [],
   "source": [
    "plot_data[plot_data[\"depth\"] > 0][\"depth\"].describe()"
   ]
  },
  {
   "cell_type": "code",
   "execution_count": null,
   "metadata": {
    "metadata": {}
   },
   "outputs": [],
   "source": [
    "boxenplot_colors = dict(zip(plot_data[label_name].astype(int).unique(), sns.color_palette(\"Dark2\").as_hex()))"
   ]
  },
  {
   "cell_type": "code",
   "execution_count": null,
   "metadata": {},
   "outputs": [],
   "source": []
  },
  {
   "cell_type": "code",
   "execution_count": null,
   "metadata": {
    "metadata": {}
   },
   "outputs": [],
   "source": [
    "plot_data.groupby(\"sourmash_k_4_2132\")[\"depth\"].describe().drop(\"count\", axis=1)"
   ]
  },
  {
   "cell_type": "code",
   "execution_count": null,
   "metadata": {
    "metadata": {}
   },
   "outputs": [],
   "source": [
    "sns.boxenplot(data = plot_data, x=label_name, y=\"depth\", showfliers=False, color=\"gray\", width=0.5, palette=boxenplot_colors, hue=label_name, legend=False)\n",
    "\n",
    "depth_inset_data = plot_data"
   ]
  },
  {
   "cell_type": "markdown",
   "metadata": {},
   "source": [
    "## Statistical tests between samples"
   ]
  },
  {
   "cell_type": "code",
   "execution_count": null,
   "metadata": {
    "metadata": {}
   },
   "outputs": [],
   "source": [
    "plot_data[\"depth\"]"
   ]
  },
  {
   "cell_type": "code",
   "execution_count": null,
   "metadata": {
    "metadata": {}
   },
   "outputs": [],
   "source": [
    "# Shapiro-Wilk test for each group\n",
    "\n",
    "# TRY TRANSFORMATIONS TO MAKE IT NORMAL, E.G. BOX-COX\n",
    "\n",
    "# plot_data[\"depth\"] = plot_data[\"depth\"].apply(lambda x: np.log(x + 1))\n",
    "normality_results = plot_data.groupby(\"sourmash_k_4_2132\")['depth'].apply(lambda x: stats.shapiro(x))\n",
    "print(\"Shapiro-Wilk p-values for normality:\\n\", normality_results)\n",
    "\n",
    "# Levene's test\n",
    "levene_stat, levene_p = stats.levene(*[group[\"depth\"].values for name, group in plot_data.groupby(\"sourmash_k_4_2132\")])\n",
    "print(f\"Levene's test statistic: {levene_stat}\")\n",
    "print(f\"Levene's test p-value: {levene_p}\")\n",
    "\n",
    "if all(normality_results.apply(lambda x: x[1]) > 0.05) and levene_p > 0.05:\n",
    "    # ANOVA\n",
    "    anova_stat, anova_p = stats.f_oneway(*[group[\"depth\"].values for name, group in plot_data.groupby(\"sourmash_k_4_2132\")])\n",
    "    print(f\"ANOVA p-value: {anova_p}\")\n",
    "else:\n",
    "    # Kruskal-Wallis test\n",
    "    kruskal_stat, kruskal_p = stats.kruskal(*[group[\"depth\"].values for name, group in plot_data.groupby(\"sourmash_k_4_2132\")])\n",
    "    print(f\"Kruskal-Wallis statistic: {kruskal_stat}\")\n",
    "    print(f\"Kruskal-Wallis p-value: {kruskal_p}\")"
   ]
  },
  {
   "cell_type": "code",
   "execution_count": null,
   "metadata": {
    "metadata": {}
   },
   "outputs": [],
   "source": [
    "# Mann-Whitney U tests with Bonferroni correction\n",
    "groups = plot_data['sourmash_k_4_2132'].unique()\n",
    "pairwise_results = {}\n",
    "for group1, group2 in itertools.combinations(groups, 2):\n",
    "    group1_values = plot_data[plot_data['sourmash_k_4_2132'] == group1]['depth']\n",
    "    group2_values = plot_data[plot_data['sourmash_k_4_2132'] == group2]['depth']\n",
    "    u_stat, p_val = stats.mannwhitneyu(group1_values, group2_values)\n",
    "    pairwise_results[(group1, group2)] = p_val * len(groups)  # Bonferroni correction\n",
    "print(\"Pairwise Mann-Whitney U test results (Bonferroni corrected p-values):\\n\")\n",
    "\n",
    "for k, v in pairwise_results.items():\n",
    "    if v < 0.01:\n",
    "        print(f\"{k[0]} vs {k[1]}: {v}\")"
   ]
  },
  {
   "cell_type": "code",
   "execution_count": null,
   "metadata": {
    "metadata": {}
   },
   "outputs": [],
   "source": [
    "# Tukey's HSD post-hoc test\n",
    "tukey = pairwise_tukeyhsd(endog=plot_data['depth'], groups=plot_data['sourmash_k_4_2132'], alpha=0.05)\n",
    "print(tukey)\n"
   ]
  },
  {
   "cell_type": "code",
   "execution_count": null,
   "metadata": {
    "metadata": {}
   },
   "outputs": [],
   "source": [
    "plot_data.drop_duplicates(\"coords\").groupby(\"sourmash_k_4_2132\").size()"
   ]
  },
  {
   "cell_type": "code",
   "execution_count": null,
   "metadata": {
    "metadata": {}
   },
   "outputs": [],
   "source": [
    "sns.boxenplot(data = plot_data, x=\"sourmash_k_4_2132\", y=\"depth\", showfliers=False, color=\"gray\", width=0.5, palette=boxenplot_colors, hue=\"sourmash_k_4_2132\", legend=False)"
   ]
  },
  {
   "cell_type": "code",
   "execution_count": null,
   "metadata": {
    "metadata": {}
   },
   "outputs": [],
   "source": [
    "# for value in plot_data[\"sourmash_k_4_2132\"].unique():\n",
    "#     data = plot_data[plot_data[\"sourmash_k_4_2132\"] == value][\"depth\"]\n",
    "#     fig, ax = plt.subplots()\n",
    "#     sns.histplot(data, ax=ax)\n",
    "#     ax.set_title(f\"Group {value}\")"
   ]
  },
  {
   "cell_type": "markdown",
   "metadata": {},
   "source": [
    "# 2. Filter samples to 25m depth"
   ]
  },
  {
   "cell_type": "code",
   "execution_count": null,
   "metadata": {
    "metadata": {}
   },
   "outputs": [],
   "source": [
    "md = md[md[\"depth\"] < 25].drop(label_name, axis=1)\n",
    "df = df.loc[md.index, md.index]"
   ]
  },
  {
   "cell_type": "markdown",
   "metadata": {},
   "source": [
    "## Remove outliers"
   ]
  },
  {
   "cell_type": "code",
   "execution_count": null,
   "metadata": {
    "metadata": {}
   },
   "outputs": [],
   "source": [
    "X = squareform(df.values)\n",
    "Z = linkage(X, method='average')\n",
    "print_clusters = False\n",
    "\n",
    "# Use this to determine k\n",
    "if print_clusters:\n",
    "    for k in range(5, 11):\n",
    "        K = cut_tree(Z, n_clusters=k)\n",
    "        labels = pd.DataFrame(K, index=df.index)[0]\n",
    "        print(f\"k = {k}\")\n",
    "        k_gt_ten = labels.value_counts()[labels.value_counts() > 10].index.__len__()\n",
    "        print(f\"Groups larger than 10: {k_gt_ten}.\")\n",
    "        print(labels.value_counts())\n",
    "        print()\n",
    "else:\n",
    "    k_gt_ten = 4"
   ]
  },
  {
   "cell_type": "code",
   "execution_count": null,
   "metadata": {
    "metadata": {}
   },
   "outputs": [],
   "source": [
    "k, N = 6, 10\n",
    "K = cut_tree(Z, n_clusters=k)\n",
    "cut_value = Z[-(k - 1), 2]\n",
    "labels = pd.DataFrame(K, index=df.index)[0]\n",
    "label_name = f\"sourmash_k_{k_gt_ten + 2}_{len(labels)}_25m\"\n",
    "md[label_name] = labels\n",
    "outlier_provs = md[label_name].value_counts()[md[label_name].value_counts() < N].index\n",
    "outlier_samples = md[md[label_name].isin(outlier_provs)]\n",
    "md.loc[outlier_samples.index, label_name] = 99\n",
    "robust_provs = md[label_name].value_counts()[md[label_name].value_counts() >= N].index\n",
    "robust_samples = md[md[label_name].isin(robust_provs)].index"
   ]
  },
  {
   "cell_type": "markdown",
   "metadata": {},
   "source": [
    "## Dendrogram"
   ]
  },
  {
   "cell_type": "code",
   "execution_count": null,
   "metadata": {
    "metadata": {}
   },
   "outputs": [],
   "source": [
    "# Supp fig pt 2\n",
    "# plot_dendrogram_all_samples(label_name)\n",
    "# plt.savefig(\"/local/path/to/figures/img/final_drafts/supp_fig_full_dendrogram_without_subsurface.pdf\")"
   ]
  },
  {
   "cell_type": "markdown",
   "metadata": {},
   "source": [
    "## *k*=4 partition map"
   ]
  },
  {
   "cell_type": "code",
   "execution_count": null,
   "metadata": {
    "metadata": {}
   },
   "outputs": [],
   "source": [
    "md_k_4 = md[md[label_name].isin(robust_provs)]\n",
    "plot_colored_markers(md_k_4, color_category=label_name, jitter=1, cmap=\"Dark2\")"
   ]
  },
  {
   "cell_type": "markdown",
   "metadata": {},
   "source": [
    "### Deprecated"
   ]
  },
  {
   "cell_type": "code",
   "execution_count": null,
   "metadata": {
    "metadata": {}
   },
   "outputs": [],
   "source": [
    "# ds = xr.open_dataset(\"/data/scratch/projects/punim1293/vini/data/bio-oracle/ph_baseline_2000_2018_depthsurf_xr.nc\")\n",
    "# ds.to_dataframe()\n",
    "# ds[\"ph_max\"].plot()"
   ]
  },
  {
   "cell_type": "code",
   "execution_count": null,
   "metadata": {
    "metadata": {}
   },
   "outputs": [],
   "source": [
    "# df = pd.read_csv(\"~/biogo-hub/data/models/model_data/sourmash_k_10_1487_25m_not_scaled_16270117_points_X_test.csv\")\n",
    "# ds = df.set_index([\"time\", \"latitude\", \"longitude\"]).to_xarray()\n",
    "# ds[\"Salinity\"].plot()"
   ]
  },
  {
   "cell_type": "code",
   "execution_count": null,
   "metadata": {
    "metadata": {}
   },
   "outputs": [],
   "source": [
    "# ds.dropna(dim=\"latitude\", how=\"all\").dropna(dim=\"longitude\", how=\"all\")\n",
    "# ds['province_obj'] = ds['province'].astype(str)\n",
    "# ds[\"province\"].plot(levels=8, subplot_kws=dict(projection=ccrs.Orthographic()), transform=ccrs.PlateCarree())"
   ]
  },
  {
   "cell_type": "code",
   "execution_count": null,
   "metadata": {
    "metadata": {}
   },
   "outputs": [],
   "source": [
    "def create_sequential_colormap(color_hex):\n",
    "    # Convert color hex to RGB\n",
    "    r, g, b = tuple(int(color_hex[i:i+2], 16) / 255.0 for i in (0, 2, 4))\n",
    "\n",
    "    # Define colormap dictionary\n",
    "    colormap_dict = {'red':   ((0.0, r, r),\n",
    "                               (1.0, 1.0, 1.0)),\n",
    "                     'green': ((0.0, g, g),\n",
    "                               (1.0, 1.0, 1.0)),\n",
    "                     'blue':  ((0.0, b, b),\n",
    "                               (1.0, 1.0, 1.0))}\n",
    "\n",
    "    # Create colormap\n",
    "    colormap = mpl.colors.LinearSegmentedColormap('sequential_colormap', colormap_dict)\n",
    "\n",
    "    return colormap"
   ]
  },
  {
   "cell_type": "code",
   "execution_count": null,
   "metadata": {
    "metadata": {}
   },
   "outputs": [],
   "source": [
    "palette = {\n",
    "        16:{\"description\": \"Baltic Sea\", \"label\": \"BALT\", \"category\": \"BALT\", \"counts\": 51, \"color\": get_cmap_ix(10, \"tab20\")},\n",
    "        11:{\"description\": \"Pacific Equatorial Divergence/Countercurrent\", \"label\": \"PEQD\", \"category\": \"TROP\", \"counts\": 54, \"color\": get_cmap_ix(8, \"tab20\") },\n",
    "        5:{\"description\": \"Tropical Convergence\", \"label\": \"TGYR\", \"category\": \"TROP\", \"counts\": 161, \"color\": get_cmap_ix(1, \"tab20\") },\n",
    "        9:{\"description\": \"Broad Tropical\", \"label\": \"TROP\", \"category\": \"TROP\", \"counts\": 818, \"color\": get_cmap_ix(0, \"tab20\") },\n",
    "        0:{\"description\": \"Antarctic Polar\", \"label\": \"APLR\", \"category\": \"POLR\", \"counts\": 30, \"color\": get_cmap_ix(15, \"tab20\") },\n",
    "        14:{\"description\": \"Arctic Polar\", \"label\": \"BPLR\", \"category\": \"POLR\", \"counts\": 42, \"color\": get_cmap_ix(14, \"tab20\") },\n",
    "        10:{\"description\": \"Upwelling Areas\", \"label\": \"CTEM\", \"category\": \"TEMP\", \"counts\": 139, \"color\": get_cmap_ix(4, \"tab20\") },\n",
    "        2:{\"description\": \"S. Subtropical Convergence\", \"label\": \"SANT\", \"category\": \"TEMP\", \"counts\": 43, \"color\": get_cmap_ix(6, \"tab20\") },\n",
    "        3:{\"description\": \"North Atlantic Drift/Agulhas\", \"label\": \"NADR\", \"category\": \"TEMP\", \"counts\": 34, \"color\": get_cmap_ix(7, \"tab20\") },\n",
    "        7:{\"description\": \"Mediterranean\", \"label\": \"MEDI\", \"category\": \"TEMP\", \"counts\": 82, \"color\": get_cmap_ix(6, \"tab20\") }\n",
    "    }"
   ]
  },
  {
   "cell_type": "code",
   "execution_count": null,
   "metadata": {
    "metadata": {}
   },
   "outputs": [],
   "source": [
    "# for p in \"0 5 7 9 10 11 14 16\".split():\n",
    "#     fig, ax = plt.subplots(figsize=(40, 40))\n",
    "#     ds[p].plot(cmap=create_sequential_colormap(palette[int(p)][\"color\"][1:]).reversed(), add_colorbar=False)\n",
    "#     ax.set_facecolor(\"k\")"
   ]
  },
  {
   "cell_type": "code",
   "execution_count": null,
   "metadata": {
    "metadata": {}
   },
   "outputs": [],
   "source": [
    "# fig, ax = plt.subplots(figsize=(40, 40))\n",
    "# ax.set_facecolor(\"k\")\n",
    "\n",
    "# for p in \"0 5 7 9 10 11 14 16\".split():\n",
    "#     ds[p].plot(cmap=create_sequential_colormap(palette[int(p)][\"color\"][1:]).reversed(), add_colorbar=False, ax=ax)"
   ]
  },
  {
   "cell_type": "code",
   "execution_count": null,
   "metadata": {},
   "outputs": [],
   "source": []
  }
 ],
 "metadata": {
  "kernelspec": {
   "display_name": "data",
   "language": "python",
   "name": "python3"
  },
  "language_info": {
   "codemirror_mode": {
    "name": "ipython",
    "version": 3
   },
   "file_extension": ".py",
   "mimetype": "text/x-python",
   "name": "python",
   "nbconvert_exporter": "python",
   "pygments_lexer": "ipython3",
   "version": "3.12.4"
  }
 },
 "nbformat": 4,
 "nbformat_minor": 2
}
