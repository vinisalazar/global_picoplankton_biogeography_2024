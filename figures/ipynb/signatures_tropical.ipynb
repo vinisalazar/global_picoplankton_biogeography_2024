{
 "cells": [
  {
   "cell_type": "code",
   "execution_count": null,
   "metadata": {
    "metadata": {}
   },
   "outputs": [],
   "source": [
    "#!/usr/bin/env python\n",
    "\n",
    "import os\n",
    "import sys\n",
    "import re\n",
    "\n",
    "import numpy as np\n",
    "import pandas as pd\n",
    "import matplotlib as mpl\n",
    "import seaborn as sns\n",
    "from matplotlib import pyplot as plt\n",
    "from adjustText import adjust_text\n",
    " \n",
    "sys.path.insert(0, \"/local/path/to/scripts/\")\n",
    "\n",
    "os.environ[\"PATH\"] = (\n",
    "    os.environ[\"PATH\"]\n",
    "    + \":/apps/easybuild-2022/easybuild/software/Compiler/GCC/11.3.0/texlive/20230313/bin/x86_64-linux/\"\n",
    ")\n",
    "plt.rcParams[\"font.family\"] = \"sans-serif\"\n",
    "plt.rcParams[\"text.usetex\"] = True\n",
    "mpl.rc('text.latex', preamble=r'\\usepackage{cmbright}')"
   ]
  },
  {
   "cell_type": "code",
   "execution_count": null,
   "metadata": {
    "metadata": {}
   },
   "outputs": [],
   "source": [
    "machine = \"Alfred\"\n",
    "wd = \"/local/path/to/\" if machine == \"Alfred\" else \"/data/gpfs/projects/punim1989/biogo-hub/\"\n",
    "keepX = 5\n",
    "\n",
    "gmd =  pd.read_csv(f\"{wd}/provinces_final/data/genome_metadata.tsv\", sep=\"\\t\", index_col=0)\n",
    "smd =  pd.read_csv(f\"{wd}/provinces_final/data/metadata_1454_cluster_labels.csv\", index_col=0)\n",
    "cim = pd.read_csv(f\"{wd}/provinces_final/data/R/block_splsda_trop_genus_Pathway_KO_Environment_keepX{keepX}_ncomp_2_cim.csv\", index_col=0)\n",
    "plotIndiv = pd.read_csv(f\"{wd}/provinces_final/data/R/block_splsda_trop_genus_Pathway_KO_Environment_keepX{keepX}_ncomp_2_plotIndiv.csv\", index_col=0)\n",
    "plotVar = pd.read_csv(f\"{wd}/provinces_final/data/R/block_splsda_trop_genus_Pathway_KO_Environment_keepX{keepX}_ncomp_2_plotVar.csv\", index_col=0)\n",
    "# genomes = pd.read_csv(f\"{wd}/provinces_final/data/counts/genomes_trimmed_mean_formatted_clean_normalised.csv\", index_col=0)\n",
    "kegg_ko = pd.read_csv(f\"{wd}/provinces_final/data/counts/KEGG_ko_trimmed_mean_formatted_clean_normalised.csv\", index_col=0)\n",
    "kegg_Pathway = pd.read_csv(f\"{wd}/provinces_final/data/counts/KEGG_Pathway_trimmed_mean_formatted_filtered_clean.csv\", index_col=0)\n",
    "\n",
    "col_colors = []\n",
    "\n",
    "for col in cim.columns[:-1]:\n",
    "    if col in gmd.index.to_list() or col in gmd[\"genus\"].unique():\n",
    "        col_colors.append(\"#A56768\")\n",
    "    elif col in kegg_ko.columns:\n",
    "        col_colors.append(\"#5F5FA0\")\n",
    "    elif col in kegg_Pathway.columns:\n",
    "        col_colors.append(\"#76ADAC\")\n",
    "    else:\n",
    "        col_colors.append(\"#7F7F7F\")"
   ]
  },
  {
   "cell_type": "code",
   "execution_count": null,
   "metadata": {
    "metadata": {}
   },
   "outputs": [],
   "source": [
    "plotIndiv[\"group\"] = plotIndiv[\"group\"].str.replace(\"TCON\", \"TGYR\")\n",
    "plotIndiv = plotIndiv.reset_index()"
   ]
  },
  {
   "cell_type": "code",
   "execution_count": null,
   "metadata": {
    "metadata": {}
   },
   "outputs": [],
   "source": [
    "to_be_renamed_ix = plotIndiv[plotIndiv.merge(smd[\"sample_name\"], left_on=\"index\", right_index=True, how=\"left\")[\"sample_name\"].isnull()].index\n",
    "\n",
    "plotIndiv.loc[to_be_renamed_ix, \"index\"] = plotIndiv.loc[to_be_renamed_ix, \"index\"].str[:-1]"
   ]
  },
  {
   "cell_type": "code",
   "execution_count": null,
   "metadata": {
    "metadata": {}
   },
   "outputs": [],
   "source": [
    "median_scatter = plotIndiv[\"index x y group Block\".split()].groupby(\"index\").median(numeric_only=True).join(plotIndiv.drop_duplicates('index')[\"index group col\".split()].set_index('index'))"
   ]
  },
  {
   "cell_type": "code",
   "execution_count": null,
   "metadata": {
    "metadata": {}
   },
   "outputs": [],
   "source": [
    "# sns.scatterplot(data=median_scatter, x=\"x\", y=\"y\", style=\"group\", hue=\"group\", palette=median_scatter[\"col\"].unique().tolist(), markers=[\"v\", \"^\"])"
   ]
  },
  {
   "cell_type": "code",
   "execution_count": null,
   "metadata": {
    "metadata": {}
   },
   "outputs": [],
   "source": [
    "env_cols = \"Salinity Nitrate OceanTemperature DissolvedMolecularOxygen Silicate pH Phosphate SeaIceCover Chlorophyll DissolvedIron SeaWaterSpeed\".split()"
   ]
  },
  {
   "cell_type": "code",
   "execution_count": null,
   "metadata": {
    "metadata": {}
   },
   "outputs": [],
   "source": [
    "# polar = smd[smd[\"ProvCategory\"] == \"Polar\"]\n",
    "# polar = polar.drop(['ARCT_P_1177_SRX8973636', 'ARCT_P_1187_SRX8973635'])"
   ]
  },
  {
   "cell_type": "markdown",
   "metadata": {},
   "source": [
    "## Composite figure"
   ]
  },
  {
   "cell_type": "code",
   "execution_count": null,
   "metadata": {},
   "outputs": [],
   "source": [
    "ranks = \"domain phylum class order family genus species\""
   ]
  },
  {
   "cell_type": "code",
   "execution_count": null,
   "metadata": {},
   "outputs": [],
   "source": [
    "def format_names(ix, ranks= \"domain phylum class order family genus species\", taxa_type=\"genome\"):\n",
    "    ranks = ranks.split()\n",
    "    if taxa_type == \"genome\":\n",
    "        fmt_name = \"; \".join(gmd.loc[ix, ranks].str[3:].tolist())\n",
    "    else:\n",
    "        gmd_ = gmd.copy()\n",
    "        gmd_.index = gmd_[taxa_type]\n",
    "        gmd_ = gmd_.drop_duplicates(taxa_type)\n",
    "        fmt_name = \"; \".join(gmd_.loc[ix, ranks].str[3:].tolist())\n",
    "    return fmt_name\n",
    "\n",
    "\n",
    "def split_on_capitals(s, length=3):\n",
    "    return ' '.join(re.findall(r'[A-Z][a-z]*', s)) if len(s) > length else s"
   ]
  },
  {
   "cell_type": "code",
   "execution_count": null,
   "metadata": {},
   "outputs": [],
   "source": [
    "plotIndiv[\"col\"].unique().tolist()"
   ]
  },
  {
   "cell_type": "code",
   "execution_count": null,
   "metadata": {},
   "outputs": [],
   "source": [
    "plot_data = cim.T.rename(columns=lambda x: \"_\".join(x.split(\"_\")[3:]))\n",
    "plot_data = plot_data.rename(index=lambda x: format_names(x, ranks=\"class order family genus\", taxa_type=\"genus\") if x in gmd[\"genus\"].to_list() else x)\n",
    "plot_data = plot_data.rename(index=lambda x: split_on_capitals(x) if x in env_cols else x)\n",
    "\n",
    "g = sns.clustermap(plot_data.iloc[:-1, :].astype(float),\n",
    "                   cmap=\"Spectral_r\",\n",
    "                   col_colors=plot_data.iloc[-1].rename(\"Province\"),\n",
    "                   row_colors = pd.Series(col_colors, index=plot_data.iloc[:-1].index, name=\"Block\"),\n",
    "                   figsize=(15,15),\n",
    "                   # cbar_pos=(0.05, 0.8, 0.05, 0.15),\n",
    "                   cbar_pos=None,\n",
    "                   dendrogram_ratio=(0.1, 0.1),\n",
    "                   method=\"average\")\n",
    "g.gs.update(top=0.6, bottom=0.05)\n",
    "\n",
    "gs = mpl.gridspec.GridSpec(1, 2, top=0.95, bottom=0.65, left=0.05, right=0.95, wspace=0.15)\n",
    "\n",
    "axes = g.figure.add_subplot(gs[0]), g.figure.add_subplot(gs[1])\n",
    "sample_markers = {\"TROP\": \"o\", \"TGYR\": \"D\", \"PEQD\": \"s\"}\n",
    "var_markers = {\n",
    "    \"Taxonomy\": \"D\",\n",
    "    \"Environment\": \"X\",\n",
    "    \"Function_Pathway\": \"o\",\n",
    "    \"Function_ko\": \"s\",\n",
    "}\n",
    "palette = plotIndiv[[\"group\", \"col\"]].drop_duplicates().set_index(\"group\")[\"col\"].to_dict()\n",
    "var_palette = plotVar[\"p.col\"].unique().tolist()\n",
    "\n",
    "plotIndiv_ = sns.scatterplot(data=median_scatter.rename(columns={\"group\":\"Province\"}),\n",
    "                               x=\"x\",\n",
    "                               y=\"y\",\n",
    "                               style=\"Province\",\n",
    "                               hue=\"Province\",\n",
    "                               palette=palette,\n",
    "                               markers=sample_markers,\n",
    "                               s=100,\n",
    "                               edgecolor=\"k\",\n",
    "                               ax=axes[0])\n",
    "\n",
    "plotIndiv_.set_xlabel(\"X-Variate 1 median\")\n",
    "plotIndiv_.set_ylabel(\"X-Variate 2 median\")\n",
    "plotIndiv_.set_title(\"Median of ordination scores\")\n",
    "\n",
    "plotVar_ = sns.scatterplot(data=plotVar.rename(columns={\"p.Block\":\"Block\"}),\n",
    "                           x=\"p.x\",\n",
    "                           y=\"p.y\",\n",
    "                           hue=\"Block\",\n",
    "                           style=\"Block\",\n",
    "                           palette=var_palette,\n",
    "                           markers=var_markers,\n",
    "                           ax=axes[1],\n",
    "                           s=150)\n",
    "\n",
    "plotVar_.set_xlabel(\"\")\n",
    "plotVar_.set_ylabel(\"\")\n",
    "ticks = [-1, -0.5, 0, 0.5, 1]\n",
    "plotVar_.set_xticks(ticks)\n",
    "plotVar_.set_yticks(ticks)\n",
    "circle = mpl.patches.Circle((0, 0), 0.5, color='black', fill=False, lw=0.5, ls=\"--\", zorder=0)\n",
    "plotVar_.add_artist(circle)\n",
    "circle = mpl.patches.Circle((0, 0), 1, color='black', fill=False, lw=0.5, ls=\"--\", zorder=0)\n",
    "plotVar_.add_artist(circle)\n",
    "plotVar_.legend(loc=\"lower left\")\n",
    "\n",
    "labels_to_add = {\n",
    "    9: {\"x\":0, \"y\": -0.1, \"arrow\": True, \"ranks\": \"class order family\"},\n",
    "    11: {\"x\":-0.2, \"y\": -0.15, \"arrow\": True, },  # Ether lipid\n",
    "    15: {\"x\": 0.15, \"y\": 0.025, \"arrow\": True},\n",
    "    16: {\"x\":-0.5, \"y\": -0.1, \"arrow\": True, },\n",
    "    25: {\"x\":0.05, \"y\": -0.0, \"arrow\": True, \"remove_str\": \" HypA/HypF_4578\"},\n",
    "    19: {\"x\":-0.3, \"y\": -0.1, \"arrow\": True, \"remove_str\": \" HypB_4579\"},\n",
    "    13: {\"x\":-0.8, \"y\": -0.05, \"arrow\": True, \"remove_str\": \" HypB_4579\"},\n",
    "    17: {\"x\": -0.2, \"y\": 0.2, \"arrow\": True},\n",
    "    12: {\"x\": -0.6, \"y\": -0.2, \"arrow\": True},\n",
    "    1: {\"x\": -0.2, \"y\": 0.1, \"arrow\": True, \"ranks\": \"class order family\"},\n",
    "    14: {\"x\": 0., \"y\": -0.1, \"arrow\": True},\n",
    "    18: {\"x\": -0.3, \"y\": 0.1, \"arrow\": True},\n",
    "    30: {\"x\": 0.05, \"y\": 0.05, \"arrow\": True},\n",
    "    8: {\"x\": 0.05, \"y\": -0.1, \"arrow\": True, \"ranks\": \"class order family\"},\n",
    "    10: {\"x\": -0.5, \"y\": 0.05, \"arrow\": True, \"ranks\": \"class order family\"},\n",
    "    20: {\"x\": -0.1, \"y\": -0.1, \"arrow\": True, \"ranks\": \"class order family\"},\n",
    "    2: {\"x\": -0.4, \"y\": 0.1, \"arrow\": True, \"ranks\": \"class order\"},\n",
    "    3: {\"x\": 0.0, \"y\": 0.05, \"arrow\": True, \"ranks\": \"class order family\"},\n",
    "    7: {\"x\": -0.3, \"y\": -0.1, \"arrow\": True, \"ranks\": \"class order family\"},\n",
    "    27: {\"x\": 0.0, \"y\": -0.085, \"arrow\": True},\n",
    "    # Environment\n",
    "    31: {\"x\": 0.02, \"y\": -0.085, \"arrow\": False},\n",
    "    32: {\"x\": -0.1, \"y\": -0.0, \"arrow\": False},\n",
    "    33: {\"x\": 0.02, \"y\": -0.085, \"arrow\": False},\n",
    "    34: {\"x\": 0.3, \"y\": -0.05, \"arrow\": False},\n",
    "    35: {\"x\": 0.02, \"y\": -0.085, \"arrow\": False},\n",
    "    36: {\"x\": 0.02, \"y\": -0.085, \"arrow\": False},\n",
    "    37: {\"x\": 0.02, \"y\": -0.085, \"arrow\": False},\n",
    "    38: {\"x\": 0.02, \"y\": -0.085, \"arrow\": False},\n",
    "    39: {\"x\": 0.02, \"y\": -0.085, \"arrow\": False},\n",
    "    40: {\"x\": 0.02, \"y\": -0.085, \"arrow\": False},\n",
    "}\n",
    "\n",
    "# Adding labels from the \"p.names\" column\n",
    "for ix, row in plotVar.iterrows():\n",
    "     x, y, name, block = row[\"p.x\"], row[\"p.y\"], row[\"p.names\"], row[\"p.Block\"]\n",
    "     if ix in labels_to_add.keys():\n",
    "        if block not in (\"Taxonomy\", \"Environment\"):\n",
    "            name = name[0].upper() + name[1:]\n",
    "        if (block == \"Environment\"):\n",
    "            name = split_on_capitals(name)\n",
    "        x_offset, y_offset = labels_to_add[ix][\"x\"], labels_to_add[ix][\"y\"]\n",
    "        if block == \"Taxonomy\":\n",
    "            name = format_names(name, labels_to_add[ix][\"ranks\"], taxa_type=\"genus\")\n",
    "        if \"remove_str\" in labels_to_add[ix]:\n",
    "            name = name.replace(labels_to_add[ix][\"remove_str\"], \"\")\n",
    "        if labels_to_add[ix][\"arrow\"]:\n",
    "            plotVar_.annotate(name, xy=(x, y), xytext=(x + x_offset, y + y_offset), fontsize=10,\n",
    "                              arrowprops=dict(arrowstyle=\"-\", lw=1.5, color=\"black\"))\n",
    "        else:\n",
    "            text = plotVar_.text(x + x_offset,\n",
    "                                 y + y_offset,\n",
    "                                 name,\n",
    "                                 fontsize=10,\n",
    "                                 color=\"black\",\n",
    "                                 horizontalalignment=\"center\", \n",
    "                                 weight='semibold')\n",
    "            \n",
    "_ = g.fig.text(0.03, 0.96, \"\\\\textbf{A}\", fontsize=20, weight=\"bold\", ha=\"left\", va=\"center\")\n",
    "_ = g.fig.text(0.51, 0.96, \"\\\\textbf{B}\", fontsize=20, weight=\"bold\", ha=\"left\", va=\"center\")\n",
    "_ = g.fig.text(0.03, 0.575, \"\\\\textbf{C}\", fontsize=20, weight=\"bold\", ha=\"left\", va=\"center\")\n",
    "\n",
    "plt.savefig(\"../final_draft_imgs/supp_fig_trop_signatures_genus.pdf\", bbox_inches=\"tight\")"
   ]
  },
  {
   "cell_type": "markdown",
   "metadata": {},
   "source": [
    "#### Deprecated, use genus-level above"
   ]
  },
  {
   "cell_type": "code",
   "execution_count": null,
   "metadata": {},
   "outputs": [],
   "source": [
    "# plot_data = cim.T.rename(columns=lambda x: \"_\".join(x.split(\"_\")[3:]))\n",
    "# plot_data = plot_data.rename(index=lambda x: x + \": \" + format_names(x, ranks=\"class order family genus\") if x in gmd.index else x)\n",
    "# plot_data = plot_data.rename(index=lambda x: split_on_capitals(x) if x in env_cols else x)\n",
    "\n",
    "# g = sns.clustermap(plot_data.iloc[:-1, :].astype(float),\n",
    "#                    cmap=\"Spectral_r\",\n",
    "#                    col_colors=plot_data.iloc[-1].rename(\"Province\"),\n",
    "#                    row_colors = pd.Series(col_colors, index=plot_data.iloc[:-1].index, name=\"Block\"),\n",
    "#                    figsize=(15,15),\n",
    "#                    # cbar_pos=(0.05, 0.8, 0.05, 0.15),\n",
    "#                    cbar_pos=None,\n",
    "#                    dendrogram_ratio=(0.1, 0.1),\n",
    "#                    method=\"average\")\n",
    "# g.gs.update(top=0.6, bottom=0.05)\n",
    "\n",
    "# gs = mpl.gridspec.GridSpec(1, 2, top=0.95, bottom=0.65, left=0.05, right=0.95, wspace=0.15)\n",
    "\n",
    "# axes = g.figure.add_subplot(gs[0]), g.figure.add_subplot(gs[1])\n",
    "# sample_markers = {\"TROP\": \"o\", \"TGYR\": \"D\", \"PEQD\": \"s\"}\n",
    "# var_markers = {\n",
    "#     \"Taxonomy\": \"D\",\n",
    "#     \"Environment\": \"X\",\n",
    "#     \"Function_Pathway\": \"o\",\n",
    "#     \"Function_ko\": \"s\",\n",
    "# }\n",
    "# palette = plotIndiv[[\"group\", \"col\"]].drop_duplicates().set_index(\"group\")[\"col\"].to_dict()\n",
    "# var_palette = plotVar[\"p.col\"].unique().tolist()\n",
    "\n",
    "# plotIndiv_ = sns.scatterplot(data=median_scatter.rename(columns={\"group\":\"Province\"}),\n",
    "#                                x=\"x\",\n",
    "#                                y=\"y\",\n",
    "#                                style=\"Province\",\n",
    "#                                hue=\"Province\",\n",
    "#                                palette=palette,\n",
    "#                                markers=sample_markers,\n",
    "#                                s=100,\n",
    "#                                edgecolor=\"k\",\n",
    "#                                ax=axes[0])\n",
    "\n",
    "# plotIndiv_.set_xlabel(\"X-Variate 1 median\")\n",
    "# plotIndiv_.set_ylabel(\"X-Variate 2 median\")\n",
    "# plotIndiv_.set_title(\"Median of ordination scores\")\n",
    "\n",
    "# plotVar_ = sns.scatterplot(data=plotVar.rename(columns={\"p.Block\":\"Block\"}),\n",
    "#                            x=\"p.x\",\n",
    "#                            y=\"p.y\",\n",
    "#                            hue=\"Block\",\n",
    "#                            style=\"Block\",\n",
    "#                            palette=var_palette,\n",
    "#                            markers=var_markers,\n",
    "#                            ax=axes[1],\n",
    "#                            s=150)\n",
    "\n",
    "# plotVar_.set_xlabel(\"\")\n",
    "# plotVar_.set_ylabel(\"\")\n",
    "# ticks = [-1, -0.5, 0, 0.5, 1]\n",
    "# plotVar_.set_xticks(ticks)\n",
    "# plotVar_.set_yticks(ticks)\n",
    "# circle = mpl.patches.Circle((0, 0), 0.5, color='black', fill=False, lw=0.5, ls=\"--\", zorder=0)\n",
    "# plotVar_.add_artist(circle)\n",
    "# circle = mpl.patches.Circle((0, 0), 1, color='black', fill=False, lw=0.5, ls=\"--\", zorder=0)\n",
    "# plotVar_.add_artist(circle)\n",
    "\n",
    "# labels_to_add = {\n",
    "#     # # Top center\n",
    "#     9: {\"x\": -0.5, \"y\": 0.0, \"arrow\": True, \"ranks\": \"genus\"},\n",
    "#     28: {\"x\": -0.2, \"y\": 0.1, \"arrow\": True, \"remove_str\": \"_5924\"},\n",
    "#     11: {\"x\": -0.6, \"y\": -0.1, \"arrow\": True, },\n",
    "#     16: {\"x\": -0.2, \"y\": -0.15, \"arrow\": True, },\n",
    "#     25: {\"x\": 0.0, \"y\": -0.1, \"arrow\": True, \"remove_str\": \" HypB_4579\"},\n",
    "#     19: {\"x\": -0.3, \"y\": 0.1, \"arrow\": True, \"remove_str\": \" HypB_4579\"},\n",
    "#     13: {\"x\": 0.0, \"y\": -0.1, \"arrow\": True, \"remove_str\": \" HypB_4579\"},\n",
    "#     # # Center right\n",
    "#     1: {\"x\": -0.2, \"y\": 0.1, \"arrow\": True, \"ranks\": \"class order\"},\n",
    "#     14: {\"x\": -0.35, \"y\": -0.075, \"arrow\": True},\n",
    "#     15: {\"x\": 0.05, \"y\": -0.1, \"arrow\": True},\n",
    "#     17: {\"x\": -0.2, \"y\": 0.15, \"arrow\": True},\n",
    "#     18: {\"x\": -0.3, \"y\": 0.1, \"arrow\": True},\n",
    "#     # # Center left\n",
    "#     # Environment\n",
    "#     30: {\"x\": 0.02, \"y\": -0.085, \"arrow\": False},\n",
    "#     31: {\"x\": 0.02, \"y\": -0.085, \"arrow\": False},\n",
    "#     32: {\"x\": 0.02, \"y\": -0.085, \"arrow\": False},\n",
    "#     33: {\"x\": 0.02, \"y\": -0.085, \"arrow\": False},\n",
    "#     34: {\"x\": 0.02, \"y\": -0.085, \"arrow\": False},\n",
    "#     35: {\"x\": 0.02, \"y\": -0.085, \"arrow\": False},\n",
    "#     36: {\"x\": 0.02, \"y\": 0.075, \"arrow\": False},\n",
    "#     37: {\"x\": 0.02, \"y\": -0.085, \"arrow\": False},\n",
    "#     38: {\"x\": 0.02, \"y\": -0.085, \"arrow\": False},\n",
    "#     39: {\"x\": 0.02, \"y\": -0.085, \"arrow\": False},\n",
    "# }\n",
    "\n",
    "# # Adding labels from the \"p.names\" column\n",
    "# for ix, row in plotVar.iterrows():\n",
    "#      x, y, name, block = row[\"p.x\"], row[\"p.y\"], row[\"p.names\"], row[\"p.Block\"]\n",
    "#      if ix in labels_to_add.keys():\n",
    "#         if block not in (\"Taxonomy\", \"Environment\"):\n",
    "#             name = name[0].upper() + name[1:]\n",
    "#         if (block == \"Environment\"):\n",
    "#             name = split_on_capitals(name)\n",
    "#         x_offset, y_offset = labels_to_add[ix][\"x\"], labels_to_add[ix][\"y\"]\n",
    "#         if block == \"Taxonomy\":\n",
    "#             name = format_names(name, labels_to_add[ix][\"ranks\"])\n",
    "#         if \"remove_str\" in labels_to_add[ix]:\n",
    "#             name = name.replace(labels_to_add[ix][\"remove_str\"], \"\")\n",
    "#         if labels_to_add[ix][\"arrow\"]:\n",
    "#             plotVar_.annotate(name, xy=(x, y), xytext=(x + x_offset, y + y_offset), fontsize=10,\n",
    "#                               arrowprops=dict(arrowstyle=\"-\", lw=1.5, color=\"black\"))\n",
    "#         else:\n",
    "#             text = plotVar_.text(x + x_offset,\n",
    "#                                  y + y_offset,\n",
    "#                                  name,\n",
    "#                                  fontsize=10,\n",
    "#                                  color=\"black\",\n",
    "#                                  horizontalalignment=\"center\", \n",
    "#                                  weight='semibold')\n",
    "\n",
    "# g.fig.text(0.03, 0.96, \"\\\\textbf{A}\", fontsize=20, weight=\"bold\", ha=\"left\", va=\"center\")\n",
    "# g.fig.text(0.51, 0.96, \"\\\\textbf{B}\", fontsize=20, weight=\"bold\", ha=\"left\", va=\"center\")\n",
    "# g.fig.text(0.03, 0.575, \"\\\\textbf{C}\", fontsize=20, weight=\"bold\", ha=\"left\", va=\"center\")\n",
    "\n",
    "# plt.savefig(\"../final_draft_imgs/supp_fig_trop_signatures_genomes.pdf\", bbox_inches=\"tight\")"
   ]
  },
  {
   "cell_type": "code",
   "execution_count": null,
   "metadata": {},
   "outputs": [],
   "source": []
  },
  {
   "cell_type": "code",
   "execution_count": null,
   "metadata": {},
   "outputs": [],
   "source": [
    "plotVar_tax = plotVar.merge(gmd[['domain', 'phylum', 'class', 'order', 'family', 'genus', 'species']], left_on=\"p.names\", right_index=True, how=\"left\")"
   ]
  },
  {
   "cell_type": "code",
   "execution_count": null,
   "metadata": {},
   "outputs": [],
   "source": [
    "plotVar_tax.sort_values(\"p.y\", ascending=False)"
   ]
  },
  {
   "cell_type": "code",
   "execution_count": null,
   "metadata": {},
   "outputs": [],
   "source": [
    "plotVar_tax.sort_values(\"p.x\", ascending=False)"
   ]
  },
  {
   "cell_type": "code",
   "execution_count": null,
   "metadata": {},
   "outputs": [],
   "source": [
    "plotVar[plotVar[\"p.Block\"] == \"Environment\"]"
   ]
  },
  {
   "cell_type": "code",
   "execution_count": null,
   "metadata": {},
   "outputs": [],
   "source": [
    "# gs = mpl.gridspec.GridSpec(5, 2, width_ratios=[1, 1], height_ratios=[1.2, 1.2, 1, 0.4, 0.4], figure=plt.figure(figsize=(20, 20)), hspace=0.25)\n",
    "\n",
    "# axes = [plt.subplot(gs[i, j]) for i in range(2) for j in range(2)]\n",
    "# sample_markers = [\"v\", \"^\"]\n",
    "# var_markers = {\n",
    "#     \"Taxonomy\": \"D\",\n",
    "#     \"Environment\": \"X\",\n",
    "#     \"Function_Pathway\": \"o\",\n",
    "#     \"Function_ko\": \"s\",\n",
    "# }\n",
    "# palette = plotIndiv[\"col\"].unique().tolist()\n",
    "# var_palette = plotVar[\"p.col\"].unique().tolist()\n",
    "\n",
    "# plotIndiv_ = sns.scatterplot(data=median_scatter.rename(columns={\"group\":\"Province\"}),\n",
    "#                                x=\"x\",\n",
    "#                                y=\"y\",\n",
    "#                                style=\"Province\",\n",
    "#                                hue=\"Province\",\n",
    "#                                palette=palette,\n",
    "#                                markers=sample_markers,\n",
    "#                                s=100,\n",
    "#                                edgecolor=\"k\",\n",
    "#                                ax=axes[0])\n",
    "\n",
    "# plotIndiv_.set_xlabel(\"X-Variate 1 median\")\n",
    "# plotIndiv_.set_ylabel(\"X-Variate 2 median\")\n",
    "\n",
    "# plotVar_ = sns.scatterplot(data=plotVar.rename(columns={\"p.Block\":\"Block\"}),\n",
    "#                            x=\"p.x\",\n",
    "#                            y=\"p.y\",\n",
    "#                            hue=\"Block\",\n",
    "#                            style=\"Block\",\n",
    "#                            palette=var_palette,\n",
    "#                            markers=var_markers,\n",
    "#                            ax=axes[2],\n",
    "#                            s=150)\n",
    "\n",
    "# plotVar_.set_xlabel(\"\")\n",
    "# plotVar_.set_ylabel(\"\")\n",
    "\n",
    "# labels_to_add = {\n",
    "#     # Top center\n",
    "#     1:  {\"x\": -0.5, \"y\": 0.15, \"arrow\": True, \"ranks\": \"class order family\"},\n",
    "#     28: {\"x\": 0.05, \"y\": 0.1, \"arrow\": True, \"remove_str\": \" substrate-binding_4253\"},\n",
    "#     20: {\"x\": -0.2, \"y\": -0.2, \"arrow\": True},\n",
    "#     15: {\"x\": -0.5, \"y\": 0.12, \"arrow\": True},\n",
    "#     16: {\"x\": -0.2, \"y\": -0.25, \"arrow\": True},\n",
    "#     # Center right\n",
    "#     10: {\"x\": -0.65, \"y\": 0.25, \"arrow\": True, \"ranks\": \"class order family\"},\n",
    "#     17: {\"x\": 0.05, \"y\": -0.1, \"arrow\": True},\n",
    "#     25: {\"x\": -0.5, \"y\": -0.1, \"arrow\": True},\n",
    "#     # Center left\n",
    "#     7: {\"x\": -0.0, \"y\": -0.15, \"arrow\": True, \"ranks\": \"class order family\"},\n",
    "#     11: {\"x\": -0.5, \"y\": 0.2, \"arrow\": True},\n",
    "#     14: {\"x\": -0.5, \"y\": 0.2, \"arrow\": True},\n",
    "#     18: {\"x\": -0.0, \"y\": -0.15, \"arrow\": True},\n",
    "#     19: {\"x\": -0.5, \"y\": -0.2, \"arrow\": True},\n",
    "#     # Environment\n",
    "#     31: {\"x\": 0.02, \"y\": -0.085, \"arrow\": False},\n",
    "#     32: {\"x\": -0.075, \"y\": -0.0, \"arrow\": False},\n",
    "#     33: {\"x\": 0.02, \"y\": -0.085, \"arrow\": False},\n",
    "#     34: {\"x\": 0.2, \"y\": -0.1, \"arrow\": False},\n",
    "#     35: {\"x\": 0.075, \"y\": -0.06, \"arrow\": False},\n",
    "#     36: {\"x\": 0.02, \"y\": -0.085, \"arrow\": False},\n",
    "#     37: {\"x\": 0.02, \"y\": -0.085, \"arrow\": False},\n",
    "#     38: {\"x\": 0.0, \"y\": -0.1, \"arrow\": False},\n",
    "#     39: {\"x\": -0.06, \"y\": 0.05, \"arrow\": False},\n",
    "#     40: {\"x\": 0.02, \"y\": -0.07, \"arrow\": False},\n",
    "#     41: {\"x\": 0.02, \"y\": -0.085, \"arrow\": False},\n",
    "# }\n",
    "\n",
    "# # Adding labels from the \"p.names\" column\n",
    "# for ix, row in plotVar.iterrows():\n",
    "#      x, y, name, block = row[\"p.x\"], row[\"p.y\"], row[\"p.names\"], row[\"p.Block\"]\n",
    "#      if ix in labels_to_add.keys():\n",
    "#         x_offset, y_offset = labels_to_add[ix][\"x\"], labels_to_add[ix][\"y\"]\n",
    "#         if block == \"Taxonomy\":\n",
    "#             name = format_names(name, labels_to_add[ix][\"ranks\"])\n",
    "#         if \"remove_str\" in labels_to_add[ix]:\n",
    "#             name = name.replace(labels_to_add[ix][\"remove_str\"], \"\")\n",
    "#         if labels_to_add[ix][\"arrow\"]:\n",
    "#             plotVar_.annotate(name, xy=(x, y), xytext=(x + x_offset, y + y_offset), fontsize=10,\n",
    "#                               arrowprops=dict(arrowstyle=\"-\", lw=1.5, color=\"black\"))\n",
    "#         else:\n",
    "#             text = plotVar_.text(x + x_offset,\n",
    "#                                  y + y_offset,\n",
    "#                                  name,\n",
    "#                                  fontsize=10,\n",
    "#                                  color=\"black\",\n",
    "#                                  horizontalalignment=\"center\", \n",
    "#                                  weight='semibold')\n",
    "            "
   ]
  },
  {
   "cell_type": "code",
   "execution_count": null,
   "metadata": {},
   "outputs": [],
   "source": [
    "# g = sns.clustermap(cim.iloc[:, :-1].T,\n",
    "#                    cmap=\"Spectral_r\",col_colors=cim.iloc[:, -1], row_colors = col_colors, figsize=(30,15), method=\"average\")\n",
    "# g.gs.update(left=0.45, right=0.90)\n",
    "\n",
    "# gs = mpl.gridspec.GridSpec(2, 1, left=0.05, right=0.4, hspace=0.1)\n",
    "\n",
    "# axes = g.figure.add_subplot(gs[0]), g.figure.add_subplot(gs[1])\n",
    "# sample_markers = [\"v\", \"^\"]\n",
    "# var_markers = {\n",
    "#     \"Taxonomy\": \"D\",\n",
    "#     \"Environment\": \"X\",\n",
    "#     \"Function_Pathway\": \"o\",\n",
    "#     \"Function_ko\": \"s\",\n",
    "# }\n",
    "# palette = plotIndiv[\"col\"].unique().tolist()\n",
    "# var_palette = plotVar[\"p.col\"].unique().tolist()\n",
    "\n",
    "# plotIndiv_ = sns.scatterplot(data=median_scatter.rename(columns={\"group\":\"Province\"}),\n",
    "#                                x=\"x\",\n",
    "#                                y=\"y\",\n",
    "#                                style=\"Province\",\n",
    "#                                hue=\"Province\",\n",
    "#                                palette=palette,\n",
    "#                                markers=sample_markers,\n",
    "#                                s=100,\n",
    "#                                edgecolor=\"k\",\n",
    "#                                ax=axes[0])\n",
    "\n",
    "# plotIndiv_.set_xlabel(\"X-Variate 1 median\")\n",
    "# plotIndiv_.set_ylabel(\"X-Variate 2 median\")\n",
    "\n",
    "# plotVar_ = sns.scatterplot(data=plotVar.rename(columns={\"p.Block\":\"Block\"}),\n",
    "#                            x=\"p.x\",\n",
    "#                            y=\"p.y\",\n",
    "#                            hue=\"Block\",\n",
    "#                            style=\"Block\",\n",
    "#                            palette=var_palette,\n",
    "#                            markers=var_markers,\n",
    "#                            ax=axes[1],\n",
    "#                            s=150)\n",
    "\n",
    "# plotVar_.set_xlabel(\"\")\n",
    "# plotVar_.set_ylabel(\"\")\n",
    "\n",
    "# labels_to_add = {\n",
    "#     # Top center\n",
    "#     1:  {\"x\": -0.5, \"y\": 0.15, \"arrow\": True, \"ranks\": \"class order family\"},\n",
    "#     28: {\"x\": 0.05, \"y\": 0.1, \"arrow\": True, \"remove_str\": \" substrate-binding_4253\"},\n",
    "#     20: {\"x\": -0.2, \"y\": -0.2, \"arrow\": True},\n",
    "#     15: {\"x\": -0.5, \"y\": 0.12, \"arrow\": True},\n",
    "#     16: {\"x\": -0.2, \"y\": -0.25, \"arrow\": True},\n",
    "#     # Center right\n",
    "#     10: {\"x\": -0.65, \"y\": 0.25, \"arrow\": True, \"ranks\": \"class order family\"},\n",
    "#     17: {\"x\": 0.05, \"y\": -0.1, \"arrow\": True},\n",
    "#     25: {\"x\": -0.5, \"y\": -0.1, \"arrow\": True},\n",
    "#     # Center left\n",
    "#     7: {\"x\": -0.0, \"y\": -0.15, \"arrow\": True, \"ranks\": \"class order family\"},\n",
    "#     11: {\"x\": -0.5, \"y\": 0.2, \"arrow\": True},\n",
    "#     14: {\"x\": -0.5, \"y\": 0.2, \"arrow\": True},\n",
    "#     18: {\"x\": -0.0, \"y\": -0.15, \"arrow\": True},\n",
    "#     19: {\"x\": -0.5, \"y\": -0.2, \"arrow\": True},\n",
    "#     # Environment\n",
    "#     31: {\"x\": 0.02, \"y\": -0.085, \"arrow\": False},\n",
    "#     32: {\"x\": -0.075, \"y\": -0.0, \"arrow\": False},\n",
    "#     33: {\"x\": 0.02, \"y\": -0.085, \"arrow\": False},\n",
    "#     34: {\"x\": 0.2, \"y\": -0.1, \"arrow\": False},\n",
    "#     35: {\"x\": 0.075, \"y\": -0.06, \"arrow\": False},\n",
    "#     36: {\"x\": 0.02, \"y\": -0.085, \"arrow\": False},\n",
    "#     37: {\"x\": 0.02, \"y\": -0.085, \"arrow\": False},\n",
    "#     38: {\"x\": 0.0, \"y\": -0.1, \"arrow\": False},\n",
    "#     39: {\"x\": -0.06, \"y\": 0.05, \"arrow\": False},\n",
    "#     40: {\"x\": 0.02, \"y\": -0.07, \"arrow\": False},\n",
    "#     41: {\"x\": 0.02, \"y\": -0.085, \"arrow\": False},\n",
    "# }\n",
    "\n",
    "# # Adding labels from the \"p.names\" column\n",
    "# for ix, row in plotVar.iterrows():\n",
    "#      x, y, name, block = row[\"p.x\"], row[\"p.y\"], row[\"p.names\"], row[\"p.Block\"]\n",
    "#      if ix in labels_to_add.keys():\n",
    "#         x_offset, y_offset = labels_to_add[ix][\"x\"], labels_to_add[ix][\"y\"]\n",
    "#         if block == \"Taxonomy\":\n",
    "#             name = format_names(name, labels_to_add[ix][\"ranks\"])\n",
    "#         if \"remove_str\" in labels_to_add[ix]:\n",
    "#             name = name.replace(labels_to_add[ix][\"remove_str\"], \"\")\n",
    "#         if labels_to_add[ix][\"arrow\"]:\n",
    "#             plotVar_.annotate(name, xy=(x, y), xytext=(x + x_offset, y + y_offset), fontsize=10,\n",
    "#                               arrowprops=dict(arrowstyle=\"-\", lw=1.5, color=\"black\"))\n",
    "#         else:\n",
    "#             text = plotVar_.text(x + x_offset,\n",
    "#                                  y + y_offset,\n",
    "#                                  name,\n",
    "#                                  fontsize=10,\n",
    "#                                  color=\"black\",\n",
    "#                                  horizontalalignment=\"center\", \n",
    "#                                  weight='semibold')"
   ]
  },
  {
   "cell_type": "code",
   "execution_count": null,
   "metadata": {},
   "outputs": [],
   "source": [
    "plotVar[plotVar[\"p.Block\"] == \"Environment\"].index.to_list()"
   ]
  },
  {
   "cell_type": "code",
   "execution_count": null,
   "metadata": {},
   "outputs": [],
   "source": [
    "plotVar.loc[labels_to_add.keys()]"
   ]
  },
  {
   "cell_type": "code",
   "execution_count": null,
   "metadata": {},
   "outputs": [],
   "source": [
    "plotVar.loc[28, \"p.names\"]"
   ]
  },
  {
   "cell_type": "code",
   "execution_count": null,
   "metadata": {},
   "outputs": [],
   "source": [
    "plotVar.sort_values([\"p.x\", \"p.y\"], ascending=False)"
   ]
  },
  {
   "cell_type": "code",
   "execution_count": null,
   "metadata": {},
   "outputs": [],
   "source": [
    "gmd.loc[plotVar.loc[[7, 6], \"p.names\"]]"
   ]
  },
  {
   "cell_type": "code",
   "execution_count": null,
   "metadata": {},
   "outputs": [],
   "source": [
    "plotVar.sort_values([\"p.y\", \"p.x\"], ascending=False)"
   ]
  },
  {
   "cell_type": "code",
   "execution_count": null,
   "metadata": {},
   "outputs": [],
   "source": [
    "gmd.loc[plotVar.sort_values([\"p.y\", \"p.x\"], ascending=False)[\"p.names\"].iloc[:5]]"
   ]
  },
  {
   "cell_type": "code",
   "execution_count": null,
   "metadata": {},
   "outputs": [],
   "source": []
  },
  {
   "cell_type": "code",
   "execution_count": null,
   "metadata": {},
   "outputs": [],
   "source": []
  },
  {
   "cell_type": "code",
   "execution_count": null,
   "metadata": {},
   "outputs": [],
   "source": []
  },
  {
   "cell_type": "code",
   "execution_count": null,
   "metadata": {},
   "outputs": [],
   "source": []
  },
  {
   "cell_type": "code",
   "execution_count": null,
   "metadata": {},
   "outputs": [],
   "source": []
  },
  {
   "cell_type": "code",
   "execution_count": null,
   "metadata": {},
   "outputs": [],
   "source": []
  },
  {
   "cell_type": "code",
   "execution_count": null,
   "metadata": {},
   "outputs": [],
   "source": []
  },
  {
   "cell_type": "code",
   "execution_count": null,
   "metadata": {},
   "outputs": [],
   "source": []
  },
  {
   "cell_type": "code",
   "execution_count": null,
   "metadata": {},
   "outputs": [],
   "source": []
  },
  {
   "cell_type": "code",
   "execution_count": null,
   "metadata": {},
   "outputs": [],
   "source": []
  },
  {
   "cell_type": "code",
   "execution_count": null,
   "metadata": {},
   "outputs": [],
   "source": []
  },
  {
   "cell_type": "code",
   "execution_count": null,
   "metadata": {},
   "outputs": [],
   "source": [
    "# len(cim.columns[:-1])"
   ]
  },
  {
   "cell_type": "code",
   "execution_count": null,
   "metadata": {},
   "outputs": [],
   "source": [
    "# len(col_colors)"
   ]
  },
  {
   "cell_type": "code",
   "execution_count": null,
   "metadata": {
    "metadata": {}
   },
   "outputs": [],
   "source": [
    "sns.clustermap(cim.iloc[:, :-1].T, cmap=\"Spectral_r\", col_colors=cim.iloc[:, -1], row_colors = col_colors, figsize=(15,15), method=\"average\")"
   ]
  },
  {
   "cell_type": "code",
   "execution_count": null,
   "metadata": {
    "metadata": {}
   },
   "outputs": [],
   "source": [
    "# sns.clustermap(polar[env_cols],\n",
    "#                row_colors=plotIndiv.drop_duplicates(\"index\").set_index(\"index\").loc[polar.index][\"col\"],\n",
    "#                z_score=1,\n",
    "#                cmap=\"Spectral_r\",\n",
    "#                yticklabels=True,\n",
    "#                figsize=(10, 15))"
   ]
  },
  {
   "cell_type": "code",
   "execution_count": null,
   "metadata": {},
   "outputs": [],
   "source": []
  },
  {
   "cell_type": "code",
   "execution_count": null,
   "metadata": {
    "metadata": {}
   },
   "outputs": [],
   "source": []
  },
  {
   "cell_type": "code",
   "execution_count": null,
   "metadata": {
    "metadata": {}
   },
   "outputs": [],
   "source": [
    "# # Your current plot code\n",
    "# scatter_plot = sns.scatterplot(data=plotVar, x=\"p.x\", y=\"p.y\", hue=\"p.Block\", style=\"p.Block\",\n",
    "#                                palette=plotVar[\"p.col\"].unique().tolist(), markers=markers, s=100)\n",
    "\n",
    "# # Adding labels from the \"p.names\" column\n",
    "# for line in range(0, plotVar.shape[0]):\n",
    "#      scatter_plot.text(plotVar[\"p.x\"].iloc[line], plotVar[\"p.y\"].iloc[line], \n",
    "#                        plotVar[\"p.names\"].iloc[line], horizontalalignment='left', \n",
    "#                        size='medium', color='black', weight='semibold')\n",
    "\n",
    "# # Display the plot\n",
    "# plt.show()"
   ]
  },
  {
   "cell_type": "code",
   "execution_count": null,
   "metadata": {
    "metadata": {}
   },
   "outputs": [],
   "source": [
    "# genomes_filt = genomes.loc[polar.index, [i for i in genomes.columns if i in plotVar[\"p.names\"].to_list()]]"
   ]
  }
 ],
 "metadata": {
  "kernelspec": {
   "display_name": "data",
   "language": "python",
   "name": "python3"
  },
  "language_info": {
   "codemirror_mode": {
    "name": "ipython",
    "version": 3
   },
   "file_extension": ".py",
   "mimetype": "text/x-python",
   "name": "python",
   "nbconvert_exporter": "python",
   "pygments_lexer": "ipython3",
   "version": "3.12.4"
  }
 },
 "nbformat": 4,
 "nbformat_minor": 2
}
