{
 "cells": [
  {
   "cell_type": "markdown",
   "metadata": {},
   "source": [
    "# Clustering analysis\n",
    "\n",
    "1. Load distance data\n",
    "2. Keep all samples\n",
    "    - Remove outliers (`k=8, N=10`)\n",
    "    - Dendrogram\n",
    "    - Large partition (`k=4`)\n",
    "        - Map\n",
    "    - Analyse tropical subtree (`k=6`, `N=10`)\n",
    "        - Fine-grained partition map (`k=7`)\n",
    "    - Depth graph\n",
    "3. Filter `<25m depth` samples, remove outliers\n",
    "    - Dendrogram\n",
    "4. Large partitioning `k=4`\n",
    "    - Map\n",
    "5. Fine-grained partioning `k=10`\n",
    "    - Map\n",
    "6. Export cluster tables"
   ]
  },
  {
   "cell_type": "code",
   "execution_count": null,
   "metadata": {
    "metadata": {}
   },
   "outputs": [],
   "source": [
    "import os\n",
    "import sys\n",
    "import itertools\n",
    "\n",
    "import pandas as pd\n",
    "import numpy as np\n",
    "import seaborn as sns\n",
    "\n",
    "import matplotlib as mpl\n",
    "from matplotlib import pyplot as plt\n",
    "\n",
    "from scipy.spatial.distance import squareform\n",
    "from scipy.cluster.hierarchy import linkage, dendrogram, cut_tree, set_link_color_palette\n",
    "from scipy import stats\n",
    "\n",
    "sys.path.insert(0, \"/local/path/to/scripts/\")\n",
    "from plotting_utils import plot_colored_markers, palettes\n",
    "\n",
    "os.environ['PATH'] = os.environ['PATH'] + ':/apps/easybuild-2022/easybuild/software/Compiler/GCC/11.3.0/texlive/20230313/bin/x86_64-linux/'\n",
    "plt.rcParams['font.family'] = 'sans-serif'\n",
    "plt.rcParams['text.usetex'] = True\n",
    "get_cmap_ix = lambda ix, cmap: mpl.colors.rgb2hex(plt.get_cmap(cmap).colors[ix])\n"
   ]
  },
  {
   "cell_type": "markdown",
   "metadata": {},
   "source": [
    "# 1. Load distance data"
   ]
  },
  {
   "cell_type": "code",
   "execution_count": null,
   "metadata": {
    "metadata": {}
   },
   "outputs": [],
   "source": [
    "df = pd.read_csv(\"/local/path/to/data/distances/sourmash.csv\", index_col=0)\n",
    "md = pd.read_csv(\"~/biogo-hub/provinces_final/data/metadata_2132.csv\", index_col=0)\n",
    "\n",
    "df = df.loc[md.index, md.index]"
   ]
  },
  {
   "cell_type": "code",
   "execution_count": null,
   "metadata": {
    "metadata": {}
   },
   "outputs": [],
   "source": [
    "md[\"coords\"].drop_duplicates()"
   ]
  },
  {
   "cell_type": "markdown",
   "metadata": {},
   "source": [
    "# 2. Keep all samples\n",
    "## Remove outliers"
   ]
  },
  {
   "cell_type": "code",
   "execution_count": null,
   "metadata": {
    "metadata": {}
   },
   "outputs": [],
   "source": [
    "X = squareform(df.values)\n",
    "Z = linkage(X, method='average')\n",
    "print_clusters = False\n",
    "\n",
    "# Use this to determine k\n",
    "if print_clusters:\n",
    "    for k in range(5, 11):\n",
    "        K = cut_tree(Z, n_clusters=k)\n",
    "        labels = pd.DataFrame(K, index=df.index)[0]\n",
    "        print(f\"k = {k}\")\n",
    "        k_gt_ten = labels.value_counts()[labels.value_counts() > 10].index.__len__()\n",
    "        print(f\"Groups larger than 10: {k_gt_ten}.\")\n",
    "        print(labels.value_counts())\n",
    "        print()\n",
    "else:\n",
    "    k_gt_ten = 4"
   ]
  },
  {
   "cell_type": "code",
   "execution_count": null,
   "metadata": {
    "metadata": {}
   },
   "outputs": [],
   "source": [
    "k, N = 8, 10\n",
    "K = cut_tree(Z, n_clusters=k)\n",
    "cut_value = Z[-(k - 1), 2]\n",
    "labels = pd.DataFrame(K, index=df.index)[0]\n",
    "label_name = f\"sourmash_k_{k_gt_ten}_{len(labels)}\"\n",
    "md[label_name] = labels\n",
    "outlier_provs = md[label_name].value_counts()[md[label_name].value_counts() < N].index\n",
    "outlier_samples = md[md[label_name].isin(outlier_provs)]\n",
    "md.loc[outlier_samples.index, label_name] = 99\n",
    "robust_provs = md[label_name].value_counts()[md[label_name].value_counts() >= N].index"
   ]
  },
  {
   "cell_type": "code",
   "execution_count": null,
   "metadata": {
    "metadata": {}
   },
   "outputs": [],
   "source": [
    "outlier_samples"
   ]
  },
  {
   "cell_type": "markdown",
   "metadata": {},
   "source": [
    "## Dendrogram"
   ]
  },
  {
   "cell_type": "code",
   "execution_count": null,
   "metadata": {
    "metadata": {}
   },
   "outputs": [],
   "source": [
    "def plot_dendrogram_all_samples(label_name):\n",
    "    fig, ax = plt.subplots(figsize=(20, 240))\n",
    "\n",
    "    D = dendrogram(Z,\n",
    "                color_threshold=cut_value,\n",
    "                labels= \"B\" + md[label_name].astype(str) + \"_\" + md.index,\n",
    "                orientation='left',\n",
    "                leaf_font_size=8,\n",
    "                ax=ax)\n",
    "    _ = ax.set_xlim(1, 0.75)\n",
    "\n",
    "# plot_dendrogram_all_samples(label_name)"
   ]
  },
  {
   "cell_type": "code",
   "execution_count": null,
   "metadata": {
    "metadata": {}
   },
   "outputs": [],
   "source": [
    "fig, ax = plt.subplots(figsize=(4, 10))\n",
    "\n",
    "D = dendrogram(Z,\n",
    "               color_threshold=0.992,\n",
    "               orientation='left',\n",
    "               leaf_font_size=12,\n",
    "               ax=ax,\n",
    "               show_leaf_counts=True,\n",
    "               truncate_mode=\"lastp\",\n",
    "               p=7)\n",
    "clusters = pd.Series(D[\"color_list\"]).value_counts()\n",
    "_ = ax.set_xlim(1, 0.99)\n",
    "_ = ax.set_xticks(np.arange(1, 0.99, -0.002))"
   ]
  },
  {
   "cell_type": "markdown",
   "metadata": {},
   "source": [
    "## Large partitioning map"
   ]
  },
  {
   "cell_type": "code",
   "execution_count": null,
   "metadata": {
    "metadata": {}
   },
   "outputs": [],
   "source": [
    "md_robust = md[md[label_name].isin(robust_provs)]\n",
    "plot_colored_markers(md_robust, color_category=label_name, jitter=1, cmap=\"Dark2\")"
   ]
  },
  {
   "cell_type": "markdown",
   "metadata": {},
   "source": [
    "## Analyse subtree"
   ]
  },
  {
   "cell_type": "code",
   "execution_count": null,
   "metadata": {
    "metadata": {}
   },
   "outputs": [],
   "source": [
    "md"
   ]
  },
  {
   "cell_type": "code",
   "execution_count": null,
   "metadata": {
    "metadata": {}
   },
   "outputs": [],
   "source": [
    "md_subtree = md[md[label_name] == 3]\n",
    "len(md_subtree) / 2129"
   ]
  },
  {
   "cell_type": "code",
   "execution_count": null,
   "metadata": {
    "metadata": {}
   },
   "outputs": [],
   "source": [
    "subtree = 3\n",
    "md_subtree = md[md[label_name] == subtree]\n",
    "subtree = md_subtree.index\n",
    "\n",
    "X = df.loc[subtree, subtree]\n",
    "X = squareform(X.values)\n",
    "Z = linkage(X, method='average')\n",
    "\n",
    "if print_clusters:\n",
    "    for k in range(5, 21):\n",
    "        K = cut_tree(Z, n_clusters=k)\n",
    "        labels = pd.DataFrame(K, index=subtree)[0]\n",
    "        print(f\"k = {k}\")\n",
    "        k_gt_ten = labels.value_counts()[labels.value_counts() > N].index.__len__()\n",
    "        print(f\"Groups larger than 10: {k_gt_ten}.\")\n",
    "        print(labels.value_counts())\n",
    "    print()\n",
    "else:\n",
    "    k_gt_ten = 3\n",
    "\n",
    "k = 6\n",
    "K = cut_tree(Z, n_clusters=k)\n",
    "cut_value = Z[-(k - 1), 2]\n",
    "labels = pd.DataFrame(K, index=subtree)[0]\n",
    "\n",
    "# Identify labels from subtree\n",
    "labels = labels + 20\n",
    "md_subtree.loc[labels.index, label_name] = labels\n",
    "outlier_provs = md_subtree[label_name].value_counts()[md_subtree[label_name].value_counts() < N].index\n",
    "outlier_samples = md_subtree[md_subtree[label_name].isin(outlier_provs)]\n",
    "md_subtree.loc[outlier_samples.index, label_name] = 99\n",
    "\n",
    "# Join subtree with others\n",
    "md.loc[labels.index, label_name] = labels\n",
    "robust_provs = md[label_name].value_counts()[md[label_name].value_counts() >= N].index"
   ]
  },
  {
   "cell_type": "code",
   "execution_count": null,
   "metadata": {
    "metadata": {}
   },
   "outputs": [],
   "source": [
    "md_subtree[\"sourmash_k_4_2132\"].value_counts()"
   ]
  },
  {
   "cell_type": "markdown",
   "metadata": {},
   "source": [
    "### Map"
   ]
  },
  {
   "cell_type": "code",
   "execution_count": null,
   "metadata": {
    "metadata": {}
   },
   "outputs": [],
   "source": [
    "# Subtree only\n",
    "# plot_colored_markers(md_subtree[md_subtree[label_name].isin(robust_provs)], color_category=label_name, jitter=1, cmap=\"Dark2\")\n",
    "\n",
    "md_robust = md[md[label_name].isin(robust_provs)]\n",
    "\n",
    "# All samples\n",
    "plot_colored_markers(md_robust, color_category=label_name, jitter=1, cmap=\"Dark2\")"
   ]
  },
  {
   "cell_type": "code",
   "execution_count": null,
   "metadata": {
    "metadata": {}
   },
   "outputs": [],
   "source": [
    "md_robust[\"sourmash_k_4_2132\"].value_counts()"
   ]
  },
  {
   "cell_type": "code",
   "execution_count": null,
   "metadata": {
    "metadata": {}
   },
   "outputs": [],
   "source": [
    "(1203 + 39 + 237) - 1482"
   ]
  },
  {
   "cell_type": "markdown",
   "metadata": {},
   "source": [
    "### Depth plots"
   ]
  },
  {
   "cell_type": "code",
   "execution_count": null,
   "metadata": {
    "metadata": {}
   },
   "outputs": [],
   "source": [
    "plot_data = md_robust"
   ]
  },
  {
   "cell_type": "code",
   "execution_count": null,
   "metadata": {
    "metadata": {}
   },
   "outputs": [],
   "source": [
    "sns.boxplot(data = plot_data, x=label_name, y=\"depth\", showfliers=False, color=\"lightgray\", width=0.5)\n",
    "sns.stripplot(data = plot_data, x=label_name, y=\"depth\", jitter=0.15, alpha=0.5)"
   ]
  },
  {
   "cell_type": "code",
   "execution_count": null,
   "metadata": {
    "metadata": {}
   },
   "outputs": [],
   "source": [
    "boxenplot_colors = dict(zip(plot_data[label_name].astype(int).unique(), sns.color_palette(\"Dark2\").as_hex()))"
   ]
  },
  {
   "cell_type": "code",
   "execution_count": null,
   "metadata": {},
   "outputs": [],
   "source": []
  },
  {
   "cell_type": "code",
   "execution_count": null,
   "metadata": {
    "metadata": {}
   },
   "outputs": [],
   "source": [
    "sns.boxenplot(data = plot_data, x=label_name, y=\"depth\", showfliers=False, color=\"gray\", width=0.5, palette=boxenplot_colors, hue=label_name, legend=False)"
   ]
  },
  {
   "cell_type": "code",
   "execution_count": null,
   "metadata": {
    "metadata": {}
   },
   "outputs": [],
   "source": [
    "md[\"depth_cat\"] = md.apply(lambda row: \"MLD\" if row[\"MixedLayerDepth\"] <= row[\"depth\"] else \"SUR\", axis=1)\n",
    "md[md[label_name].isin(robust_provs)].groupby(label_name)[\"depth_cat\"].value_counts(normalize=True).unstack().plot(kind=\"bar\", stacked=True)"
   ]
  },
  {
   "cell_type": "code",
   "execution_count": null,
   "metadata": {
    "metadata": {}
   },
   "outputs": [],
   "source": [
    "# Export\n",
    "md.rename(columns={\"sourmash_k_4_2132\": \"sourmash_k_7_2132\"}).to_csv(\"~/biogo-hub/provinces_final/data/sourmash_k_7_2132.csv\")"
   ]
  },
  {
   "cell_type": "markdown",
   "metadata": {},
   "source": [
    "# 2. Filter samples to 25m depth"
   ]
  },
  {
   "cell_type": "code",
   "execution_count": null,
   "metadata": {
    "metadata": {}
   },
   "outputs": [],
   "source": [
    "len(md)"
   ]
  },
  {
   "cell_type": "code",
   "execution_count": null,
   "metadata": {
    "metadata": {}
   },
   "outputs": [],
   "source": [
    "md = md[md[\"depth\"] < 25].drop(label_name, axis=1)\n",
    "df = df.loc[md.index, md.index]"
   ]
  },
  {
   "cell_type": "code",
   "execution_count": null,
   "metadata": {
    "metadata": {}
   },
   "outputs": [],
   "source": [
    "len(df)"
   ]
  },
  {
   "cell_type": "markdown",
   "metadata": {},
   "source": [
    "## Remove outliers"
   ]
  },
  {
   "cell_type": "code",
   "execution_count": null,
   "metadata": {
    "metadata": {}
   },
   "outputs": [],
   "source": [
    "X = squareform(df.values)\n",
    "Z = linkage(X, method='average')\n",
    "print_clusters = False\n",
    "\n",
    "# Use this to determine k\n",
    "if print_clusters:\n",
    "    for k in range(5, 11):\n",
    "        K = cut_tree(Z, n_clusters=k)\n",
    "        labels = pd.DataFrame(K, index=df.index)[0]\n",
    "        print(f\"k = {k}\")\n",
    "        k_gt_ten = labels.value_counts()[labels.value_counts() > 10].index.__len__()\n",
    "        print(f\"Groups larger than 10: {k_gt_ten}.\")\n",
    "        print(labels.value_counts())\n",
    "        print()\n",
    "else:\n",
    "    k_gt_ten = 4"
   ]
  },
  {
   "cell_type": "code",
   "execution_count": null,
   "metadata": {
    "metadata": {}
   },
   "outputs": [],
   "source": [
    "k, N = 6, 10\n",
    "K = cut_tree(Z, n_clusters=k)\n",
    "cut_value = Z[-(k - 1), 2]\n",
    "labels = pd.DataFrame(K, index=df.index)[0]\n",
    "label_name = f\"sourmash_k_{k_gt_ten + 2}_{len(labels)}_25m\"\n",
    "md[label_name] = labels\n",
    "outlier_provs = md[label_name].value_counts()[md[label_name].value_counts() < N].index\n",
    "outlier_samples = md[md[label_name].isin(outlier_provs)]\n",
    "md.loc[outlier_samples.index, label_name] = 99\n",
    "robust_provs = md[label_name].value_counts()[md[label_name].value_counts() >= N].index\n",
    "robust_samples = md[md[label_name].isin(robust_provs)].index"
   ]
  },
  {
   "cell_type": "code",
   "execution_count": null,
   "metadata": {
    "metadata": {}
   },
   "outputs": [],
   "source": [
    "print(len(robust_samples))\n",
    "print(len(outlier_samples))"
   ]
  },
  {
   "cell_type": "markdown",
   "metadata": {},
   "source": [
    "## Dendrogram"
   ]
  },
  {
   "cell_type": "code",
   "execution_count": null,
   "metadata": {
    "metadata": {}
   },
   "outputs": [],
   "source": [
    "# plot_dendrogram_all_samples(label_name)"
   ]
  },
  {
   "cell_type": "code",
   "execution_count": null,
   "metadata": {
    "metadata": {}
   },
   "outputs": [],
   "source": [
    "def leaf_label_func(id):\n",
    "    mapping_counts = {\n",
    "        3013: md.loc[robust_samples][label_name].value_counts().loc[1],\n",
    "        3005: md.loc[robust_samples][label_name].value_counts().loc[0],\n",
    "        3015: md.loc[robust_samples][label_name].value_counts().loc[2],\n",
    "        2998: md.loc[robust_samples][label_name].value_counts().loc[5],\n",
    "    }\n",
    "    mapping = {\n",
    "        3013: \"Temperate\",\n",
    "        3005: \"Polar\",\n",
    "        3015: \"Tropical\",\n",
    "        2998: \"Baltic Sea\",\n",
    "    }\n",
    "    return mapping[id] + f\" ({mapping_counts[id]})\""
   ]
  },
  {
   "cell_type": "markdown",
   "metadata": {},
   "source": [
    "### Collapsed dendrogram (k=4)"
   ]
  },
  {
   "cell_type": "code",
   "execution_count": null,
   "metadata": {
    "metadata": {}
   },
   "outputs": [],
   "source": [
    "X = squareform(df.loc[robust_samples, robust_samples].values)\n",
    "Z = linkage(X, method='average')\n",
    "\n",
    "fig, ax = plt.subplots(figsize=(4, 10))\n",
    "\n",
    "D = dendrogram(Z,\n",
    "               color_threshold=0.992,\n",
    "               orientation='left',\n",
    "               leaf_font_size=12,\n",
    "               ax=ax,\n",
    "               show_leaf_counts=True,\n",
    "               leaf_label_func=leaf_label_func,\n",
    "               truncate_mode=\"lastp\",\n",
    "               p=4)\n",
    "clusters = pd.Series(D[\"color_list\"]).value_counts()\n",
    "_ = ax.set_xlim(1, 0.99)\n",
    "_ = ax.set_xticks(np.arange(1, 0.99, -0.002))"
   ]
  },
  {
   "cell_type": "markdown",
   "metadata": {},
   "source": [
    "## Large partitioning map"
   ]
  },
  {
   "cell_type": "code",
   "execution_count": null,
   "metadata": {
    "metadata": {}
   },
   "outputs": [],
   "source": [
    "plot_colored_markers(md[md[label_name].isin(robust_provs)], color_category=label_name, jitter=1, cmap=\"Dark2\")"
   ]
  },
  {
   "cell_type": "code",
   "execution_count": null,
   "metadata": {
    "metadata": {}
   },
   "outputs": [],
   "source": [
    "md[md[label_name].isin(robust_provs)].to_csv(f\"~/biogo-hub/provinces_final/data/{label_name}.csv\")"
   ]
  },
  {
   "cell_type": "markdown",
   "metadata": {},
   "source": [
    "## Analyse subtree"
   ]
  },
  {
   "cell_type": "code",
   "execution_count": null,
   "metadata": {
    "metadata": {}
   },
   "outputs": [],
   "source": [
    "len(subtree)"
   ]
  },
  {
   "cell_type": "code",
   "execution_count": null,
   "metadata": {
    "metadata": {}
   },
   "outputs": [],
   "source": [
    "subtree = 2\n",
    "md_subtree = md[md[label_name] == subtree]\n",
    "subtree = md_subtree.index\n",
    "\n",
    "X = df.loc[subtree, subtree]\n",
    "X = squareform(X.values)\n",
    "Z = linkage(X, method='average')\n",
    "\n",
    "if print_clusters:\n",
    "    for k in range(5, 21):\n",
    "        K = cut_tree(Z, n_clusters=k)\n",
    "        labels = pd.DataFrame(K, index=subtree)[0]\n",
    "        print(f\"k = {k}\")\n",
    "        k_gt_ten = labels.value_counts()[labels.value_counts() > N].index.__len__()\n",
    "        print(f\"Groups larger than 10: {k_gt_ten}.\")\n",
    "        print(labels.value_counts())\n",
    "    print()\n",
    "else:\n",
    "    k_gt_ten = 3\n",
    "\n",
    "k = 14\n",
    "K = cut_tree(Z, n_clusters=k)\n",
    "cut_value = Z[-(k - 1), 2]\n",
    "labels = pd.DataFrame(K, index=subtree)[0]\n",
    "\n",
    "# Identify labels from subtree\n",
    "labels = labels + 20\n",
    "md_subtree.loc[labels.index, label_name] = labels\n",
    "outlier_provs = md_subtree[label_name].value_counts()[md_subtree[label_name].value_counts() < N].index\n",
    "outlier_samples = md_subtree[md_subtree[label_name].isin(outlier_provs)]\n",
    "md_subtree.loc[outlier_samples.index, label_name] = 99\n",
    "\n",
    "# Join subtree with others\n",
    "md.loc[labels.index, label_name] = labels\n",
    "robust_provs = md[label_name].value_counts()[md[label_name].value_counts() >= N].index\n",
    "robust_samples = md[md[label_name].isin(robust_provs)].index"
   ]
  },
  {
   "cell_type": "markdown",
   "metadata": {},
   "source": [
    "### Map"
   ]
  },
  {
   "cell_type": "code",
   "execution_count": null,
   "metadata": {
    "metadata": {}
   },
   "outputs": [],
   "source": [
    "print(len(robust_samples))\n",
    "print(len(outlier_samples))"
   ]
  },
  {
   "cell_type": "code",
   "execution_count": null,
   "metadata": {
    "metadata": {}
   },
   "outputs": [],
   "source": [
    "# # Subtree only\n",
    "# plot_colored_markers(md_subtree[md_subtree[label_name].isin(robust_provs)], color_category=label_name, jitter=1, cmap=\"Dark2\")\n",
    "\n",
    "# All samples\n",
    "plot_colored_markers(md.loc[robust_samples], color_category=label_name, jitter=1, cmap=\"Dark2\")"
   ]
  },
  {
   "cell_type": "code",
   "execution_count": null,
   "metadata": {
    "metadata": {}
   },
   "outputs": [],
   "source": [
    "len(md.loc[robust_samples])"
   ]
  },
  {
   "cell_type": "markdown",
   "metadata": {},
   "source": [
    "## Finer-grained partition"
   ]
  },
  {
   "cell_type": "markdown",
   "metadata": {},
   "source": []
  },
  {
   "cell_type": "markdown",
   "metadata": {},
   "source": [
    "### Collapsed dendrogram (k=10)"
   ]
  },
  {
   "cell_type": "code",
   "execution_count": null,
   "metadata": {
    "metadata": {}
   },
   "outputs": [],
   "source": [
    "X = squareform(df.loc[robust_samples, robust_samples].values)\n",
    "Z = linkage(X, method='average')\n",
    "\n",
    "k, N = 18, 20\n",
    "K = cut_tree(Z, n_clusters=k)\n",
    "cut_value = Z[-(k - 1), 2]\n",
    "labels = pd.DataFrame(K, index=robust_samples)[0]\n",
    "robust_provs = labels.value_counts()[labels.value_counts() > N].index\n",
    "robust_samples = labels[labels.isin(robust_provs)].index\n",
    "k_gt_ten = len(robust_provs)\n",
    "label_name = f\"sourmash_k_{k_gt_ten}_{len(labels)}_25m\"\n",
    "md[label_name] = 99\n",
    "\n",
    "md.loc[robust_samples, label_name] = labels.astype(int)\n",
    "\n",
    "df_prime = df.loc[robust_samples, robust_samples]\n",
    "X_prime = squareform(df_prime.values)\n",
    "Z_prime = linkage(X_prime, method='average')"
   ]
  },
  {
   "cell_type": "code",
   "execution_count": null,
   "metadata": {
    "metadata": {}
   },
   "outputs": [],
   "source": [
    "1487 - len(robust_samples)"
   ]
  },
  {
   "cell_type": "code",
   "execution_count": null,
   "metadata": {
    "metadata": {}
   },
   "outputs": [],
   "source": [
    "get_cmap_ix = lambda ix, cmap: mpl.colors.rgb2hex(plt.get_cmap(cmap).colors[ix])\n",
    "\n",
    "def leaf_label_func(id, color=False):\n",
    "    leaves = {\n",
    "        2877:{\"label\": \"BALT\", \"category\": \"BALT\", \"counts\": 51, \"color\": get_cmap_ix(16, \"tab20\"), \"id\":16},\n",
    "        2862:{\"label\": \"PEQD\", \"category\": \"TROP\", \"counts\": 54, \"color\": get_cmap_ix(4, \"tab20\"), \"id\":11},\n",
    "        2896:{\"label\": \"TCON\", \"category\": \"TROP\", \"counts\": 161, \"color\": get_cmap_ix(6, \"tab20\"), \"id\":5},\n",
    "        2897:{\"label\": \"TROP\", \"category\": \"TROP\", \"counts\": 818, \"color\": get_cmap_ix(7, \"tab20\"), \"id\":9},\n",
    "        2880:{\"label\": \"APLR\", \"category\": \"POLR\", \"counts\": 30, \"color\": get_cmap_ix(0, \"tab20\"), \"id\":0},\n",
    "        2881:{\"label\": \"BPLR\", \"category\": \"POLR\", \"counts\": 42, \"color\": get_cmap_ix(3, \"tab20\"), \"id\":14},\n",
    "        2891:{\"label\": \"UPWL\", \"category\": \"TEMP\", \"counts\": 139, \"color\": get_cmap_ix(8, \"tab20\"), \"id\":10},\n",
    "        2893:{\"label\": \"SSTC\", \"category\": \"TEMP\", \"counts\": 43, \"color\": get_cmap_ix(14, \"tab20\"), \"id\":2},\n",
    "        2888:{\"label\": \"NADR\", \"category\": \"TEMP\", \"counts\": 34, \"color\": get_cmap_ix(15, \"tab20\"), \"id\":3},\n",
    "        2894:{\"label\": \"MEDI\", \"category\": \"TEMP\", \"counts\": 82, \"color\": get_cmap_ix(12, \"tab20\"), \"id\":7}}\n",
    "    \n",
    "    if color:\n",
    "        return leaves[id][\"color\"]\n",
    "    else:\n",
    "        return f\"B{leaves[id]['id']} - {leaves[id]['label']} - {leaves[id]['counts']}\"\n",
    "\n",
    "\n",
    "pmetadata = {\n",
    "    16:{\"description\": \"Baltic Sea\", \"label\": \"BALT\", \"category\": \"BALT\", \"counts\": 51, \"color\": get_cmap_ix(16, \"tab20\")},\n",
    "    11:{\"description\": \"Pacific Equatorial Divergence/Countercurrent\", \"label\": \"PEQD\", \"category\": \"TROP\", \"counts\": 54, \"color\": get_cmap_ix(4, \"tab20\") },\n",
    "    5:{\"description\": \"Tropical Convergence\", \"label\": \"TCON\", \"category\": \"TROP\", \"counts\": 161, \"color\": get_cmap_ix(6, \"tab20\") },\n",
    "    9:{\"description\": \"Broad Tropical\", \"label\": \"TROP\", \"category\": \"TROP\", \"counts\": 818, \"color\": get_cmap_ix(7, \"tab20\") },\n",
    "    0:{\"description\": \"Antarctic Polar\", \"label\": \"APLR\", \"category\": \"POLR\", \"counts\": 30, \"color\": get_cmap_ix(0, \"tab20\") },\n",
    "    14:{\"description\": \"Arctic Polar\", \"label\": \"BPLR\", \"category\": \"POLR\", \"counts\": 42, \"color\": get_cmap_ix(3, \"tab20\") },\n",
    "    10:{\"description\": \"Upwelling Areas\", \"label\": \"UPWL\", \"category\": \"TEMP\", \"counts\": 139, \"color\": get_cmap_ix(8, \"tab20\") },\n",
    "    2:{\"description\": \"S. Subtropical Convergence\", \"label\": \"SSTC\", \"category\": \"TEMP\", \"counts\": 43, \"color\": get_cmap_ix(15, \"tab20\") },\n",
    "    3:{\"description\": \"North Atlantic Drift/Agulhas\", \"label\": \"NADR\", \"category\": \"TEMP\", \"counts\": 34, \"color\": get_cmap_ix(14, \"tab20\") },\n",
    "    7:{\"description\": \"\", \"label\": \"MEDI\", \"category\": \"TEMP\", \"counts\": 82, \"color\": get_cmap_ix(12, \"tab20\") }\n",
    "}"
   ]
  },
  {
   "cell_type": "code",
   "execution_count": null,
   "metadata": {
    "metadata": {}
   },
   "outputs": [],
   "source": [
    "pmetadata_sorted = {str(k): v for k, v in pmetadata.items()}\n",
    "pmetadata_sorted = {k: v for k, v in sorted(pmetadata_sorted.items())}"
   ]
  },
  {
   "cell_type": "code",
   "execution_count": null,
   "metadata": {
    "metadata": {}
   },
   "outputs": [],
   "source": [
    "[print(key) for key in pmetadata_sorted.keys()]\n",
    "[print(\"'\" + v[\"color\"] + \"'\") for v in pmetadata_sorted.values()]"
   ]
  },
  {
   "cell_type": "code",
   "execution_count": null,
   "metadata": {
    "metadata": {}
   },
   "outputs": [],
   "source": [
    "fig, ax = plt.subplots(figsize=(4, 10))\n",
    "\n",
    "D = dendrogram(Z_prime,\n",
    "               color_threshold=0.99,\n",
    "               orientation='left',\n",
    "               leaf_font_size=8,\n",
    "               ax=ax,\n",
    "               truncate_mode=\"lastp\",\n",
    "               p=7,\n",
    "               get_leaves=True,\n",
    "               # leaf_label_func=leaf_label_func,\n",
    "               )\n",
    "_ = ax.set_xlim(1, 0.97)"
   ]
  },
  {
   "cell_type": "code",
   "execution_count": null,
   "metadata": {
    "metadata": {}
   },
   "outputs": [],
   "source": [
    "fig, ax = plt.subplots(figsize=(4, 10))\n",
    "\n",
    "D = dendrogram(Z_prime,\n",
    "               color_threshold=0.99,\n",
    "               orientation='left',\n",
    "               leaf_font_size=8,\n",
    "               ax=ax,\n",
    "               truncate_mode=\"lastp\",\n",
    "               p=8,\n",
    "               get_leaves=True,\n",
    "               # leaf_label_func=leaf_label_func,\n",
    "               )\n",
    "_ = ax.set_xlim(1, 0.97)"
   ]
  },
  {
   "cell_type": "code",
   "execution_count": null,
   "metadata": {
    "metadata": {}
   },
   "outputs": [],
   "source": [
    "fig, ax = plt.subplots(figsize=(4, 10))\n",
    "\n",
    "D = dendrogram(Z_prime,\n",
    "               color_threshold=0.99,\n",
    "               orientation='left',\n",
    "               leaf_font_size=8,\n",
    "               ax=ax,\n",
    "               truncate_mode=\"lastp\",\n",
    "               p=9,\n",
    "               get_leaves=True,\n",
    "               # leaf_label_func=leaf_label_func,\n",
    "               )\n",
    "_ = ax.set_xlim(1, 0.97)"
   ]
  },
  {
   "cell_type": "code",
   "execution_count": null,
   "metadata": {
    "metadata": {}
   },
   "outputs": [],
   "source": [
    "fig, ax = plt.subplots(figsize=(4, 10))\n",
    "\n",
    "D = dendrogram(Z_prime,\n",
    "               color_threshold=0.99,\n",
    "               orientation='left',\n",
    "               leaf_font_size=8,\n",
    "               ax=ax,\n",
    "               truncate_mode=\"lastp\",\n",
    "               p=10,\n",
    "               get_leaves=True,\n",
    "               leaf_label_func=leaf_label_func,\n",
    "               )\n",
    "_ = ax.set_xlim(1, 0.97)"
   ]
  },
  {
   "cell_type": "code",
   "execution_count": null,
   "metadata": {
    "metadata": {}
   },
   "outputs": [],
   "source": [
    "9470 / 4792"
   ]
  },
  {
   "cell_type": "code",
   "execution_count": null,
   "metadata": {
    "metadata": {}
   },
   "outputs": [],
   "source": [
    "fig, ax = plt.subplots(figsize=(16, 4))\n",
    "\n",
    "D = dendrogram(Z_prime,\n",
    "               color_threshold=0.99,\n",
    "               orientation='top',\n",
    "               leaf_font_size=8,\n",
    "               ax=ax,\n",
    "               truncate_mode=\"lastp\",\n",
    "               p=10,\n",
    "               get_leaves=True,\n",
    "               leaf_label_func=leaf_label_func,\n",
    "               )\n",
    "_ = ax.set_ylim(0.97, 1)"
   ]
  },
  {
   "cell_type": "code",
   "execution_count": null,
   "metadata": {
    "metadata": {}
   },
   "outputs": [],
   "source": [
    "type(Z_prime)"
   ]
  },
  {
   "cell_type": "code",
   "execution_count": null,
   "metadata": {
    "metadata": {}
   },
   "outputs": [],
   "source": [
    "# Z_prime.tofile(\"/local/path/to/data/clustering/z_collapsed_dend_k10.csv\")"
   ]
  },
  {
   "cell_type": "code",
   "execution_count": null,
   "metadata": {
    "metadata": {}
   },
   "outputs": [],
   "source": [
    "Z_prime_load = np.fromfile(\"/local/path/to/data/clustering/z_collapsed_dend_k10.csv\")"
   ]
  },
  {
   "cell_type": "code",
   "execution_count": null,
   "metadata": {
    "metadata": {}
   },
   "outputs": [],
   "source": [
    "Z_prime_load.reshape(1453, 4)"
   ]
  },
  {
   "cell_type": "code",
   "execution_count": null,
   "metadata": {},
   "outputs": [],
   "source": []
  },
  {
   "cell_type": "code",
   "execution_count": null,
   "metadata": {
    "metadata": {}
   },
   "outputs": [],
   "source": [
    "!ls ~/biogo-hub/provinces_final/data/clustering"
   ]
  },
  {
   "cell_type": "code",
   "execution_count": null,
   "metadata": {
    "metadata": {}
   },
   "outputs": [],
   "source": [
    "D"
   ]
  },
  {
   "cell_type": "code",
   "execution_count": null,
   "metadata": {
    "metadata": {}
   },
   "outputs": [],
   "source": [
    "dir(D)"
   ]
  },
  {
   "cell_type": "markdown",
   "metadata": {},
   "source": [
    "### Metadata\n",
    "```python\n",
    "        16:{\"description\": \"Baltic Sea\", \"label\": \"BALT\", \"category\": \"BALT\", \"counts\": 51, \"color\": get_cmap_ix(10, \"tab20\")},\n",
    "        11:{\"description\": \"Pacific Equatorial Divergence/Countercurrent\", \"label\": \"PEQD\", \"category\": \"TROP\", \"counts\": 54, \"color\": get_cmap_ix(8, \"tab20\") },\n",
    "        5:{\"description\": \"Tropical Convergence\", \"label\": \"TCON\", \"category\": \"TROP\", \"counts\": 161, \"color\": get_cmap_ix(1, \"tab20\") },\n",
    "        9:{\"description\": \"Broad Tropical\", \"label\": \"TROP\", \"category\": \"TROP\", \"counts\": 818, \"color\": get_cmap_ix(0, \"tab20\") },\n",
    "        0:{\"description\": \"Antarctic Polar\", \"label\": \"APLR\", \"category\": \"POLR\", \"counts\": 30, \"color\": get_cmap_ix(15, \"tab20\") },\n",
    "        14:{\"description\": \"Arctic Polar\", \"label\": \"BPLR\", \"category\": \"POLR\", \"counts\": 42, \"color\": get_cmap_ix(14, \"tab20\") },\n",
    "        10:{\"description\": \"Upwelling Areas\", \"label\": \"UPWL\", \"category\": \"TEMP\", \"counts\": 139, \"color\": get_cmap_ix(4, \"tab20\") },\n",
    "        2:{\"description\": \"S. Subtropical Convergence\", \"label\": \"SSTC\", \"category\": \"TEMP\", \"counts\": 43, \"color\": get_cmap_ix(6, \"tab20\") },\n",
    "        3:{\"description\": \"North Atlantic Drift/Agulhas\", \"label\": \"NADR\", \"category\": \"TEMP\", \"counts\": 34, \"color\": get_cmap_ix(7, \"tab20\") },\n",
    "        7:{\"description\": \"Mediterranean\", \"label\": \"MEDI\", \"category\": \"TEMP\", \"counts\": 82, \"color\": get_cmap_ix(6, \"tab20\") }\n",
    "```"
   ]
  },
  {
   "cell_type": "code",
   "execution_count": null,
   "metadata": {
    "metadata": {}
   },
   "outputs": [],
   "source": [
    "def link_color_func(x):\n",
    "    link_color_dict = {\n",
    "        2898: get_cmap_ix(0, \"tab20\"),\n",
    "        2902: get_cmap_ix(8, \"tab20\"),\n",
    "        2901: get_cmap_ix(14, \"tab20\"),\n",
    "        2899: get_cmap_ix(6, \"tab20\"),\n",
    "        2900: get_cmap_ix(6, \"tab20\"),\n",
    "        2903: get_cmap_ix(4, \"tab20\"),\n",
    "        2904: \"black\",\n",
    "        2905: \"black\",\n",
    "        2906: get_cmap_ix(10, \"tab20\"),\n",
    "    }\n",
    "    return link_color_dict[x]"
   ]
  },
  {
   "cell_type": "code",
   "execution_count": null,
   "metadata": {
    "metadata": {}
   },
   "outputs": [],
   "source": [
    "set_link_color_palette([get_cmap_ix(0, \"tab20\"), get_cmap_ix(14, \"tab20\"), get_cmap_ix(6, \"tab20\")])\n",
    "fig, ax = plt.subplots(figsize=(16, 4))\n",
    "\n",
    "D = dendrogram(Z_prime,\n",
    "               color_threshold=0.99,\n",
    "               orientation='top',\n",
    "               leaf_font_size=8,\n",
    "               ax=ax,\n",
    "               truncate_mode=\"lastp\",\n",
    "               p=10,\n",
    "               get_leaves=True,\n",
    "               leaf_label_func=leaf_label_func,\n",
    "               link_color_func=link_color_func,\n",
    "               above_threshold_color=\"black\"\n",
    "               )\n",
    "_ = ax.set_ylim(0.975, 1)\n",
    "\n",
    "set_link_color_palette(None)"
   ]
  },
  {
   "cell_type": "code",
   "execution_count": null,
   "metadata": {
    "metadata": {}
   },
   "outputs": [],
   "source": [
    "D"
   ]
  },
  {
   "cell_type": "markdown",
   "metadata": {},
   "source": [
    "### Map"
   ]
  },
  {
   "cell_type": "code",
   "execution_count": null,
   "metadata": {
    "metadata": {}
   },
   "outputs": [],
   "source": [
    "plot_colored_markers(md[md[label_name].isin(robust_provs)], color_category=label_name, jitter=1, cmap=\"tab10\")"
   ]
  },
  {
   "cell_type": "code",
   "execution_count": null,
   "metadata": {
    "metadata": {}
   },
   "outputs": [],
   "source": [
    "md[md[label_name].isin(robust_provs)].to_csv(f\"~/biogo-hub/provinces_final/data/{label_name}.csv\")"
   ]
  },
  {
   "cell_type": "code",
   "execution_count": null,
   "metadata": {
    "metadata": {}
   },
   "outputs": [],
   "source": [
    "robust_md_1454 = md[md[label_name].isin(robust_provs)].copy()"
   ]
  },
  {
   "cell_type": "code",
   "execution_count": null,
   "metadata": {
    "metadata": {}
   },
   "outputs": [],
   "source": [
    "robust_md_1454[\"sourmash_k_8_joint_temp_1487_25m\"] = robust_md_1454[label_name]"
   ]
  },
  {
   "cell_type": "code",
   "execution_count": null,
   "metadata": {
    "metadata": {}
   },
   "outputs": [],
   "source": [
    "robust_md_1454[\"sourmash_k_8_joint_temp_1487_25m\"] = robust_md_1454[\"sourmash_k_8_joint_temp_1487_25m\"].apply(lambda x: 7 if x in (2,3) else x)\n",
    "# robust_md_1454[\"sourmash_k_8_joint_temp_1487_25m\"] = robust_md_1454[\"sourmash_k_8_joint_temp_1487_25m\"].apply(lambda x: 0 if x == 14 else x)"
   ]
  },
  {
   "cell_type": "code",
   "execution_count": null,
   "metadata": {
    "metadata": {}
   },
   "outputs": [],
   "source": [
    "palettes[\"k_10\"][7] = {'description': 'Temperate',\n",
    " 'label': 'Temp',\n",
    " 'category': 'TEMP',\n",
    " 'counts': 159,\n",
    " 'color': '#756BB2'}\n",
    "\n",
    "palette = {\n",
    "            16:{\"description\": \"Baltic Sea\", \"label\": \"BALT\", \"category\": \"BALT\", \"counts\": 51, \"color\": get_cmap_ix(16, \"tab20c\")},\n",
    "            11:{\"description\": \"Pacific Equatorial Divergence/Countercurrent\", \"label\": \"PEQD\", \"category\": \"TROP\", \"counts\": 54, \"color\": get_cmap_ix(0, \"tab20c\")},\n",
    "            5:{\"description\": \"Tropical Convergence\", \"label\": \"TCON\", \"category\": \"TROP\", \"counts\": 161, \"color\": get_cmap_ix(2, \"tab20c\") },\n",
    "            9:{\"description\": \"Broad Tropical\", \"label\": \"TROP\", \"category\": \"TROP\", \"counts\": 818, \"color\": get_cmap_ix(0, \"tab20c\") },\n",
    "            0:{\"description\": \"Antarctic Polar\", \"label\": \"APLR\", \"category\": \"POLR\", \"counts\": 30, \"color\": get_cmap_ix(13, \"tab20c\") },\n",
    "            14:{\"description\": \"Arctic Polar\", \"label\": \"BPLR\", \"category\": \"POLR\", \"counts\": 42, \"color\": get_cmap_ix(12, \"tab20c\") },\n",
    "            10:{\"description\": \"Upwelling Areas\", \"label\": \"UPWL\", \"category\": \"TEMP\", \"counts\": 139, \"color\": get_cmap_ix(8, \"tab20c\") },\n",
    "            7:{\"description\": \"Temperate\", \"label\": \"TEMP\", \"category\": \"TEMP\", \"counts\": 159, \"color\": get_cmap_ix(4, \"tab20c\") }\n",
    "    }  \n",
    "get_cmap_ix_tab20 = lambda ix: mpl.colors.rgb2hex(plt.get_cmap(\"tab20\").colors[ix])\n",
    "palette = {\n",
    "            16:{\"description\": \"Baltic Sea\", \"label\": \"BALT\", \"category\": \"BALT\", \"counts\": 51, \"color\": get_cmap_ix(14, \"tab20\")},\n",
    "            11:{\"description\": \"Pacific Equatorial Divergence/Countercurrent\", \"label\": \"PEQD\", \"category\": \"TROP\", \"counts\": 54, \"color\": get_cmap_ix(-2, \"tab20\")},\n",
    "            5:{\"description\": \"Tropical Convergence\", \"label\": \"TCON\", \"category\": \"TROP\", \"counts\": 161, \"color\": get_cmap_ix(1, \"tab20\") },\n",
    "            9:{\"description\": \"Broad Tropical\", \"label\": \"TROP\", \"category\": \"TROP\", \"counts\": 818, \"color\": get_cmap_ix(0, \"tab20\") },\n",
    "            0:{\"description\": \"Antarctic Polar\", \"label\": \"APLR\", \"category\": \"POLR\", \"counts\": 30, \"color\": get_cmap_ix(8, \"tab20\") },\n",
    "            14:{\"description\": \"Arctic Polar\", \"label\": \"BPLR\", \"category\": \"POLR\", \"counts\": 42, \"color\": get_cmap_ix(9, \"tab20\") },\n",
    "            10:{\"description\": \"Upwelling Areas\", \"label\": \"UPWL\", \"category\": \"TEMP\", \"counts\": 139, \"color\": get_cmap_ix(4, \"tab20\") },\n",
    "            7:{\"description\": \"Temperate\", \"label\": \"TEMP\", \"category\": \"TEMP\", \"counts\": 159, \"color\": get_cmap_ix(6, \"tab20\") }\n",
    "    }  \n",
    "palette = {k: v[\"color\"] for k, v in palette.items()}\n",
    "\n",
    "\n",
    "get_cmap_ix_tab20b = lambda ix: mpl.colors.rgb2hex(plt.get_cmap(\"tab20\").colors[ix])\n",
    "palette = {\n",
    "            16:{\"description\": \"Baltic Sea\", \"label\": \"BALT\", \"category\": \"BALT\", \"counts\": 51, \"color\": get_cmap_ix(14, \"tab20c\")},\n",
    "            11:{\"description\": \"Pacific Equatorial Divergence/Countercurrent\", \"label\": \"PEQD\", \"category\": \"TROP\", \"counts\": 54, \"color\": get_cmap_ix(-2, \"tab20c\")},\n",
    "            5:{\"description\": \"Tropical Convergence\", \"label\": \"TCON\", \"category\": \"TROP\", \"counts\": 161, \"color\": get_cmap_ix(1, \"tab20c\") },\n",
    "            9:{\"description\": \"Broad Tropical\", \"label\": \"TROP\", \"category\": \"TROP\", \"counts\": 818, \"color\": get_cmap_ix(0, \"tab20c\") },\n",
    "            0:{\"description\": \"Antarctic Polar\", \"label\": \"APLR\", \"category\": \"POLR\", \"counts\": 30, \"color\": get_cmap_ix(8, \"tab20c\") },\n",
    "            14:{\"description\": \"Arctic Polar\", \"label\": \"BPLR\", \"category\": \"POLR\", \"counts\": 42, \"color\": get_cmap_ix(9, \"tab20c\") },\n",
    "            10:{\"description\": \"Upwelling Areas\", \"label\": \"UPWL\", \"category\": \"TEMP\", \"counts\": 139, \"color\": get_cmap_ix(4, \"tab20c\") },\n",
    "            7:{\"description\": \"Temperate\", \"label\": \"TEMP\", \"category\": \"TEMP\", \"counts\": 159, \"color\": get_cmap_ix(6, \"tab20c\") }\n",
    "    }  \n",
    "\n",
    "palette = {\n",
    "        16:{\"description\": \"Baltic Sea\", \"label\": \"BALT\", \"category\": \"BALT\", \"counts\": 51, \"color\": get_cmap_ix(10, \"tab20\")},\n",
    "        11:{\"description\": \"Pacific Equatorial Divergence/Countercurrent\", \"label\": \"PEQD\", \"category\": \"TROP\", \"counts\": 54, \"color\": get_cmap_ix(8, \"tab20\") },\n",
    "        5:{\"description\": \"Tropical Convergence\", \"label\": \"TCON\", \"category\": \"TROP\", \"counts\": 161, \"color\": get_cmap_ix(1, \"tab20\") },\n",
    "        9:{\"description\": \"Broad Tropical\", \"label\": \"TROP\", \"category\": \"TROP\", \"counts\": 818, \"color\": get_cmap_ix(0, \"tab20\") },\n",
    "        0:{\"description\": \"Antarctic Polar\", \"label\": \"APLR\", \"category\": \"POLR\", \"counts\": 30, \"color\": get_cmap_ix(15, \"tab20\") },\n",
    "        14:{\"description\": \"Arctic Polar\", \"label\": \"BPLR\", \"category\": \"POLR\", \"counts\": 42, \"color\": get_cmap_ix(14, \"tab20\") },\n",
    "        10:{\"description\": \"Upwelling Areas\", \"label\": \"UPWL\", \"category\": \"TEMP\", \"counts\": 139, \"color\": get_cmap_ix(4, \"tab20\") },\n",
    "        2:{\"description\": \"S. Subtropical Convergence\", \"label\": \"SSTC\", \"category\": \"TEMP\", \"counts\": 43, \"color\": get_cmap_ix(6, \"tab20\") },\n",
    "        3:{\"description\": \"North Atlantic Drift/Agulhas\", \"label\": \"NADR\", \"category\": \"TEMP\", \"counts\": 34, \"color\": get_cmap_ix(7, \"tab20\") },\n",
    "        7:{\"description\": \"Mediterranean\", \"label\": \"MEDI\", \"category\": \"TEMP\", \"counts\": 82, \"color\": get_cmap_ix(6, \"tab20\") }\n",
    "    }\n",
    "\n",
    "palette = {k: v[\"color\"] for k, v in palette.items()}"
   ]
  },
  {
   "cell_type": "code",
   "execution_count": null,
   "metadata": {
    "metadata": {}
   },
   "outputs": [],
   "source": [
    "{k: palette[k] for k in sorted(palette.keys())}"
   ]
  },
  {
   "cell_type": "code",
   "execution_count": null,
   "metadata": {
    "metadata": {}
   },
   "outputs": [],
   "source": [
    "plot_colored_markers(robust_md_1454.drop_duplicates(\"coords\"), color_category=\"sourmash_k_8_joint_temp_1487_25m\", jitter=1, cmap=\"tab10\", palette=palette)"
   ]
  },
  {
   "cell_type": "code",
   "execution_count": null,
   "metadata": {
    "metadata": {}
   },
   "outputs": [],
   "source": [
    "robust_md_1454.rename(columns={\"sourmash_k_8_joint_temp_1487_25m\": \"sourmash_k_8_richter_polar_balt\"}).to_csv(\"~/biogo-hub/provinces_final/data/sourmash_k_8_richter_polar_balt.csv\")"
   ]
  },
  {
   "cell_type": "code",
   "execution_count": null,
   "metadata": {
    "metadata": {}
   },
   "outputs": [],
   "source": [
    "robust_md_1454.to_csv(f\"~/biogo-hub/provinces_final/data/sourmash_k_8_richter_upwl_balt_1454.csv\")"
   ]
  },
  {
   "cell_type": "code",
   "execution_count": null,
   "metadata": {
    "metadata": {}
   },
   "outputs": [],
   "source": [
    "# Group by 'category1' and count unique occurrences of 'category2' for each group\n",
    "result = robust_md_1454.groupby('coords')['sourmash_k_10_1487_25m'].agg(lambda x: len(x.unique()))\n",
    "\n",
    "# Filter rows where the count is greater than 1\n",
    "result = result[result > 1]"
   ]
  },
  {
   "cell_type": "markdown",
   "metadata": {},
   "source": [
    "# Plot drafts"
   ]
  },
  {
   "cell_type": "code",
   "execution_count": null,
   "metadata": {
    "metadata": {}
   },
   "outputs": [],
   "source": [
    "import xarray as xr\n",
    "import cartopy.crs as ccrs"
   ]
  },
  {
   "cell_type": "code",
   "execution_count": null,
   "metadata": {
    "metadata": {}
   },
   "outputs": [],
   "source": [
    "ds = xr.open_dataset(\"/data/scratch/projects/punim1293/vini/data/bio-oracle/ph_baseline_2000_2018_depthsurf_xr.nc\")"
   ]
  },
  {
   "cell_type": "code",
   "execution_count": null,
   "metadata": {
    "metadata": {}
   },
   "outputs": [],
   "source": [
    "ds.to_dataframe()"
   ]
  },
  {
   "cell_type": "code",
   "execution_count": null,
   "metadata": {
    "metadata": {}
   },
   "outputs": [],
   "source": [
    "ds[\"ph_max\"].plot()"
   ]
  },
  {
   "cell_type": "code",
   "execution_count": null,
   "metadata": {
    "metadata": {}
   },
   "outputs": [],
   "source": [
    "df = pd.read_csv(\"~/biogo-hub/data/models/model_data/sourmash_k_10_1487_25m_not_scaled_16270117_points_X_test.csv\")"
   ]
  },
  {
   "cell_type": "code",
   "execution_count": null,
   "metadata": {
    "metadata": {}
   },
   "outputs": [],
   "source": [
    "ds = df.set_index([\"time\", \"latitude\", \"longitude\"]).to_xarray()"
   ]
  },
  {
   "cell_type": "code",
   "execution_count": null,
   "metadata": {
    "metadata": {}
   },
   "outputs": [],
   "source": [
    "ds[\"Salinity\"].plot()"
   ]
  },
  {
   "cell_type": "code",
   "execution_count": null,
   "metadata": {
    "metadata": {}
   },
   "outputs": [],
   "source": [
    "ds.dropna(dim=\"latitude\", how=\"all\").dropna(dim=\"longitude\", how=\"all\")"
   ]
  },
  {
   "cell_type": "code",
   "execution_count": null,
   "metadata": {
    "metadata": {}
   },
   "outputs": [],
   "source": [
    "ds['province_obj'] = ds['province'].astype(str)"
   ]
  },
  {
   "cell_type": "code",
   "execution_count": null,
   "metadata": {
    "metadata": {}
   },
   "outputs": [],
   "source": [
    "ds[\"province\"].plot(levels=8, subplot_kws=dict(projection=ccrs.Orthographic()), transform=ccrs.PlateCarree())"
   ]
  },
  {
   "cell_type": "code",
   "execution_count": null,
   "metadata": {
    "metadata": {}
   },
   "outputs": [],
   "source": [
    "ax = plt.axes()\n",
    "ds[\"0\"].plot(cmap=\"Blues\", add_colorbar=False)\n",
    "ax.set_facecolor(\"k\")"
   ]
  },
  {
   "cell_type": "code",
   "execution_count": null,
   "metadata": {
    "metadata": {}
   },
   "outputs": [],
   "source": [
    "ax = plt.axes()\n",
    "ds[\"5\"].plot(cmap=\"Blues\", add_colorbar=False)\n",
    "ax.set_facecolor(\"k\")"
   ]
  },
  {
   "cell_type": "code",
   "execution_count": null,
   "metadata": {
    "metadata": {}
   },
   "outputs": [],
   "source": [
    "ax = plt.axes()\n",
    "ds[\"7\"].plot(cmap=\"Blues\", add_colorbar=False)\n",
    "ax.set_facecolor(\"k\")"
   ]
  },
  {
   "cell_type": "code",
   "execution_count": null,
   "metadata": {
    "metadata": {}
   },
   "outputs": [],
   "source": [
    "ax = plt.axes()\n",
    "ds[\"9\"].plot(cmap=\"Blues\", add_colorbar=False)\n",
    "ax.set_facecolor(\"k\")"
   ]
  },
  {
   "cell_type": "code",
   "execution_count": null,
   "metadata": {
    "metadata": {}
   },
   "outputs": [],
   "source": [
    "ax = plt.axes()\n",
    "ds[\"10\"].plot(cmap=\"Blues\", add_colorbar=False)\n",
    "ax.set_facecolor(\"k\")"
   ]
  },
  {
   "cell_type": "code",
   "execution_count": null,
   "metadata": {
    "metadata": {}
   },
   "outputs": [],
   "source": [
    "ax = plt.axes()\n",
    "ds[\"11\"].plot(cmap=\"Blues\", add_colorbar=False)\n",
    "ax.set_facecolor(\"k\")"
   ]
  },
  {
   "cell_type": "code",
   "execution_count": null,
   "metadata": {
    "metadata": {}
   },
   "outputs": [],
   "source": [
    "ax = plt.axes()\n",
    "ds[\"14\"].plot(cmap=\"Blues\", add_colorbar=False)\n",
    "ax.set_facecolor(\"k\")"
   ]
  },
  {
   "cell_type": "code",
   "execution_count": null,
   "metadata": {
    "metadata": {}
   },
   "outputs": [],
   "source": [
    "def create_sequential_colormap(color_hex):\n",
    "    # Convert color hex to RGB\n",
    "    r, g, b = tuple(int(color_hex[i:i+2], 16) / 255.0 for i in (0, 2, 4))\n",
    "\n",
    "    # Define colormap dictionary\n",
    "    colormap_dict = {'red':   ((0.0, r, r),\n",
    "                               (1.0, 1.0, 1.0)),\n",
    "                     'green': ((0.0, g, g),\n",
    "                               (1.0, 1.0, 1.0)),\n",
    "                     'blue':  ((0.0, b, b),\n",
    "                               (1.0, 1.0, 1.0))}\n",
    "\n",
    "    # Create colormap\n",
    "    colormap = mpl.colors.LinearSegmentedColormap('sequential_colormap', colormap_dict)\n",
    "\n",
    "    return colormap"
   ]
  },
  {
   "cell_type": "code",
   "execution_count": null,
   "metadata": {
    "metadata": {}
   },
   "outputs": [],
   "source": [
    "palette = {\n",
    "        16:{\"description\": \"Baltic Sea\", \"label\": \"BALT\", \"category\": \"BALT\", \"counts\": 51, \"color\": get_cmap_ix(10, \"tab20\")},\n",
    "        11:{\"description\": \"Pacific Equatorial Divergence/Countercurrent\", \"label\": \"PEQD\", \"category\": \"TROP\", \"counts\": 54, \"color\": get_cmap_ix(8, \"tab20\") },\n",
    "        5:{\"description\": \"Tropical Convergence\", \"label\": \"TCON\", \"category\": \"TROP\", \"counts\": 161, \"color\": get_cmap_ix(1, \"tab20\") },\n",
    "        9:{\"description\": \"Broad Tropical\", \"label\": \"TROP\", \"category\": \"TROP\", \"counts\": 818, \"color\": get_cmap_ix(0, \"tab20\") },\n",
    "        0:{\"description\": \"Antarctic Polar\", \"label\": \"APLR\", \"category\": \"POLR\", \"counts\": 30, \"color\": get_cmap_ix(15, \"tab20\") },\n",
    "        14:{\"description\": \"Arctic Polar\", \"label\": \"BPLR\", \"category\": \"POLR\", \"counts\": 42, \"color\": get_cmap_ix(14, \"tab20\") },\n",
    "        10:{\"description\": \"Upwelling Areas\", \"label\": \"UPWL\", \"category\": \"TEMP\", \"counts\": 139, \"color\": get_cmap_ix(4, \"tab20\") },\n",
    "        2:{\"description\": \"S. Subtropical Convergence\", \"label\": \"SSTC\", \"category\": \"TEMP\", \"counts\": 43, \"color\": get_cmap_ix(6, \"tab20\") },\n",
    "        3:{\"description\": \"North Atlantic Drift/Agulhas\", \"label\": \"NADR\", \"category\": \"TEMP\", \"counts\": 34, \"color\": get_cmap_ix(7, \"tab20\") },\n",
    "        7:{\"description\": \"Mediterranean\", \"label\": \"MEDI\", \"category\": \"TEMP\", \"counts\": 82, \"color\": get_cmap_ix(6, \"tab20\") }\n",
    "    }"
   ]
  },
  {
   "cell_type": "code",
   "execution_count": null,
   "metadata": {
    "metadata": {}
   },
   "outputs": [],
   "source": [
    "ds"
   ]
  },
  {
   "cell_type": "code",
   "execution_count": null,
   "metadata": {
    "metadata": {}
   },
   "outputs": [],
   "source": [
    "p = \"0\"\n",
    "ax = plt.axes()\n",
    "ds[p].plot(cmap=create_sequential_colormap(palette[int(p)][\"color\"][1:]).reversed(), add_colorbar=False)\n",
    "ax.set_facecolor(\"k\")"
   ]
  },
  {
   "cell_type": "code",
   "execution_count": null,
   "metadata": {
    "metadata": {}
   },
   "outputs": [],
   "source": [
    "p = \"5\"\n",
    "ax = plt.axes()\n",
    "ds[p].plot(cmap=create_sequential_colormap(palette[int(p)][\"color\"][1:]).reversed(), add_colorbar=False)\n",
    "ax.set_facecolor(\"k\")"
   ]
  },
  {
   "cell_type": "code",
   "execution_count": null,
   "metadata": {
    "metadata": {}
   },
   "outputs": [],
   "source": [
    "p = \"7\"\n",
    "ax = plt.axes()\n",
    "ds[p].plot(cmap=create_sequential_colormap(palette[int(p)][\"color\"][1:]).reversed(), add_colorbar=False)\n",
    "ax.set_facecolor(\"k\")"
   ]
  },
  {
   "cell_type": "code",
   "execution_count": null,
   "metadata": {
    "metadata": {}
   },
   "outputs": [],
   "source": [
    "p = \"9\"\n",
    "ax = plt.axes()\n",
    "ds[p].plot(cmap=create_sequential_colormap(palette[int(p)][\"color\"][1:]).reversed(), add_colorbar=False)\n",
    "ax.set_facecolor(\"k\")"
   ]
  },
  {
   "cell_type": "code",
   "execution_count": null,
   "metadata": {
    "metadata": {}
   },
   "outputs": [],
   "source": [
    "p = \"10\"\n",
    "ax = plt.axes()\n",
    "ds[p].plot(cmap=create_sequential_colormap(palette[int(p)][\"color\"][1:]).reversed(), add_colorbar=False)\n",
    "ax.set_facecolor(\"k\")"
   ]
  },
  {
   "cell_type": "code",
   "execution_count": null,
   "metadata": {
    "metadata": {}
   },
   "outputs": [],
   "source": [
    "p = \"11\"\n",
    "ax = plt.axes()\n",
    "ds[p].plot(cmap=create_sequential_colormap(palette[int(p)][\"color\"][1:]).reversed(), add_colorbar=False)\n",
    "ax.set_facecolor(\"k\")"
   ]
  },
  {
   "cell_type": "code",
   "execution_count": null,
   "metadata": {
    "metadata": {}
   },
   "outputs": [],
   "source": [
    "p = \"14\"\n",
    "ax = plt.axes()\n",
    "ds[p].plot(cmap=create_sequential_colormap(palette[int(p)][\"color\"][1:]).reversed(), add_colorbar=False)\n",
    "ax.set_facecolor(\"k\")"
   ]
  },
  {
   "cell_type": "code",
   "execution_count": null,
   "metadata": {
    "metadata": {}
   },
   "outputs": [],
   "source": [
    "p = \"16\"\n",
    "ax = plt.axes()\n",
    "ds[p].plot(cmap=create_sequential_colormap(palette[int(p)][\"color\"][1:]).reversed(), add_colorbar=False)\n",
    "ax.set_facecolor(\"k\")"
   ]
  },
  {
   "cell_type": "code",
   "execution_count": null,
   "metadata": {
    "metadata": {}
   },
   "outputs": [],
   "source": [
    "for p in \"0 5 7 9 10 11 14 16\".split():\n",
    "    fig, ax = plt.subplots(figsize=(40, 40))\n",
    "    ds[p].plot(cmap=create_sequential_colormap(palette[int(p)][\"color\"][1:]).reversed(), add_colorbar=False)\n",
    "    ax.set_facecolor(\"k\")"
   ]
  },
  {
   "cell_type": "code",
   "execution_count": null,
   "metadata": {
    "metadata": {}
   },
   "outputs": [],
   "source": [
    "fig, ax = plt.subplots(figsize=(40, 40))\n",
    "ax.set_facecolor(\"k\")\n",
    "\n",
    "for p in \"0 5 7 9 10 11 14 16\".split():\n",
    "    ds[p].plot(cmap=create_sequential_colormap(palette[int(p)][\"color\"][1:]).reversed(), add_colorbar=False, ax=ax)"
   ]
  },
  {
   "cell_type": "code",
   "execution_count": null,
   "metadata": {},
   "outputs": [],
   "source": []
  }
 ],
 "metadata": {
  "kernelspec": {
   "display_name": "Python [conda env:.conda-data]",
   "language": "python",
   "name": "conda-env-.conda-data-py"
  },
  "language_info": {
   "codemirror_mode": {
    "name": "ipython",
    "version": 3
   },
   "file_extension": ".py",
   "mimetype": "text/x-python",
   "name": "python",
   "nbconvert_exporter": "python",
   "pygments_lexer": "ipython3",
   "version": "3.11.5"
  }
 },
 "nbformat": 4,
 "nbformat_minor": 2
}
