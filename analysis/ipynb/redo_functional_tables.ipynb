{
 "cells": [
  {
   "cell_type": "code",
   "execution_count": null,
   "metadata": {
    "metadata": {}
   },
   "outputs": [],
   "source": [
    "import re\n",
    "\n",
    "import pandas as pd\n",
    "\n",
    "from glob import glob\n",
    "from shutil import move\n",
    "\n",
    "from collections import defaultdict"
   ]
  },
  {
   "cell_type": "markdown",
   "metadata": {},
   "source": [
    "### Find CoverM files to be reprocessed"
   ]
  },
  {
   "cell_type": "code",
   "execution_count": null,
   "metadata": {
    "metadata": {}
   },
   "outputs": [],
   "source": [
    "smd = pd.read_csv(\"/local/path/to/data/metadata_1454_cluster_labels.csv\", index_col=0)\n",
    "all_coverm = glob(\"/data/gpfs/projects/punim0639/vini/coverm/*.gz\")\n",
    "coverm = {x: x.split(\"/\")[-1].split(\".\")[0][:-3].split(\"_\") for x in all_coverm}\n",
    "samples = smd[\"sample_name\"].to_list()"
   ]
  },
  {
   "cell_type": "code",
   "execution_count": null,
   "metadata": {
    "metadata": {}
   },
   "outputs": [],
   "source": [
    "def find_sample(l):\n",
    "    if l[0] == \"Arc\":\n",
    "        l = [\"_\".join(l[:3]),]\n",
    "    sample = [i for i in samples if any(j in i for j in l)]\n",
    "    if sample:\n",
    "        return sample[0]\n",
    "    else:\n",
    "        return False\n",
    "\n",
    "    \n",
    "def invert_dict(d):\n",
    "    inverted_dict = defaultdict(list)\n",
    "    for key, value in d.items():\n",
    "        inverted_dict[value].append(key)\n",
    "    return inverted_dict"
   ]
  },
  {
   "cell_type": "code",
   "execution_count": null,
   "metadata": {
    "metadata": {}
   },
   "outputs": [],
   "source": [
    "coverm_mapping = {k: find_sample(v) for k, v in coverm.items() if find_sample(v)}\n",
    "inverted_dict = invert_dict(coverm_mapping)\n",
    "files_to_be_used = [item for sublist in list(inverted_dict.values()) for item in sublist]\n",
    "\n",
    "print(\"Files to be used:\", len(files_to_be_used))\n",
    "\n",
    "for file in all_coverm:\n",
    "    if file not in files_to_be_used:\n",
    "        move(file, \"/data/gpfs/projects/punim0639/vini/coverm/not_used/\")"
   ]
  },
  {
   "cell_type": "markdown",
   "metadata": {},
   "source": [
    "## Clean tables\n",
    "\n",
    "1. Get tables from `dask_step_3_format_concatenated_tables.py` (_formatted)\n",
    " \n",
    "2. Run this notebook (_formatted_filtered)\n",
    "\n",
    "3. Format tables with `create_R_tables.py` (_formatted_filtered_clean)\n",
    "\n",
    "4. Normalise data with `preprocess_data.R` (_formatted_filtered_clean_normalised)"
   ]
  },
  {
   "cell_type": "code",
   "execution_count": null,
   "metadata": {
    "metadata": {}
   },
   "outputs": [],
   "source": [
    "input_dir = \"/local/path/to/\"\n",
    "tables = {\n",
    "   \"KEGG_ko\": pd.read_csv(input_dir + \"data/counts/KEGG_ko_trimmed_mean_formatted.csv\", index_col=0),\n",
    "   \"KEGG_Pathway\": pd.read_csv(input_dir + \"data/counts/KEGG_Pathway_trimmed_mean_formatted.csv\", index_col=0),\n",
    "   \"BRITE\": pd.read_csv(input_dir + \"data/counts/BRITE_trimmed_mean_formatted.csv\", index_col=0),\n",
    "   \"COG_category\": pd.read_csv(input_dir + \"data/counts/COG_category_trimmed_mean_formatted.csv\", index_col=0),\n",
    "}"
   ]
  },
  {
   "cell_type": "markdown",
   "metadata": {},
   "source": [
    "### Pathways"
   ]
  },
  {
   "cell_type": "code",
   "execution_count": null,
   "metadata": {
    "metadata": {}
   },
   "outputs": [],
   "source": [
    "def parse_file(file_path):\n",
    "    sections = {}  # Initialize dictionary to store sections and subsections\n",
    "\n",
    "    with open(file_path, 'r') as file:\n",
    "        current_section = None\n",
    "        for line in file:\n",
    "            line = line.strip()\n",
    "            if (line.startswith('#')) and not (line.startswith('##')):\n",
    "                current_section = line[1:].strip()  # Remove the '#' and any leading/trailing whitespace\n",
    "                sections[current_section] = {}  # Initialize an empty dictionary for subsections under this section\n",
    "            elif line.startswith('##'):\n",
    "                subsection = line[2:].strip()\n",
    "                sections[current_section][subsection] = []  # Initialize an empty dictionary for descriptions under this subsection\n",
    "            else:\n",
    "                key, value = line.split('\\t', 1)\n",
    "                if current_section is not None:\n",
    "                    sections[current_section][subsection].append(value)\n",
    "\n",
    "    return sections\n",
    "\n",
    "pathways = parse_file(\"/data/gpfs/projects/punim1293/vini/db/kegg/pathway/pathway.list\")"
   ]
  },
  {
   "cell_type": "code",
   "execution_count": null,
   "metadata": {
    "metadata": {}
   },
   "outputs": [],
   "source": [
    "# Check all pathways\n",
    "for key, value in pathways.items():\n",
    "    print(key)\n",
    "    for k, v in value.items():\n",
    "        print(k)\n",
    "        for item in v:\n",
    "            print(\"\\t\", item)"
   ]
  },
  {
   "cell_type": "code",
   "execution_count": null,
   "metadata": {
    "metadata": {}
   },
   "outputs": [],
   "source": [
    "level_1_to_remove = [\"Drug Development\", \"Human Diseases\", \"Organismal Systems\", \"Genetic Information Processing\"]\n",
    "filtered_pathways = {k: v for k, v in pathways.items() if k not in level_1_to_remove}"
   ]
  },
  {
   "cell_type": "code",
   "execution_count": null,
   "metadata": {
    "metadata": {}
   },
   "outputs": [],
   "source": [
    "# Filter diseases\n",
    "keys_to_keep = [\"Drug resistance: antimicrobial\", ]#\"Infectious disease: bacterial\"]\n",
    "filtered_pathways[\"Human Diseases\"] = dict()\n",
    "for k, v in pathways[\"Human Diseases\"].items():\n",
    "    if k in keys_to_keep:\n",
    "        filtered_pathways[\"Human Diseases\"][k] = v"
   ]
  },
  {
   "cell_type": "code",
   "execution_count": null,
   "metadata": {
    "metadata": {}
   },
   "outputs": [],
   "source": [
    "# Filter cellular processes\n",
    "keys_to_keep = ['Cellular community - prokaryotes',]\n",
    "filtered_pathways[\"Cellular Processes\"] = {k: v for k, v in pathways[\"Cellular Processes\"].items() if k in keys_to_keep}\n",
    "cell_motility = ['Bacterial chemotaxis', 'Flagellar assembly']\n",
    "filtered_pathways[\"Cellular Processes\"][\"Cell motility\"] = keys_to_keep"
   ]
  },
  {
   "cell_type": "code",
   "execution_count": null,
   "metadata": {
    "metadata": {}
   },
   "outputs": [],
   "source": [
    "# Filter environmental information processing\n",
    "keys_to_keep = [\"Membrane transport\"]\n",
    "filtered_pathways[\"Environmental Information Processing\"] = dict()\n",
    "for k, v in pathways[\"Environmental Information Processing\"].items():\n",
    "    if k in keys_to_keep:\n",
    "        filtered_pathways[\"Environmental Information Processing\"][k] = v"
   ]
  },
  {
   "cell_type": "code",
   "execution_count": null,
   "metadata": {
    "metadata": {}
   },
   "outputs": [],
   "source": [
    "for key, value in filtered_pathways.items():\n",
    "    print(key)\n",
    "    for k, v in value.items():\n",
    "        print(k)\n",
    "        for item in v:\n",
    "            print(\"\\t\", item)"
   ]
  },
  {
   "cell_type": "code",
   "execution_count": null,
   "metadata": {
    "metadata": {}
   },
   "outputs": [],
   "source": [
    "filtered_pathways_cols = [value for subdict in filtered_pathways.values() for value in subdict.values()]\n",
    "filtered_pathways_cols = [item for sublist in filtered_pathways_cols for item in sublist]\n",
    "filtered_cols = [i for i in filtered_pathways_cols if i in tables[\"KEGG_Pathway\"].columns]\n",
    "cols_to_add = [\n",
    "    \"Glycosphingolipid biosynthesis - lacto and neolacto series\",\n",
    "    \"Glycosphingolipid biosynthesis - globo and isoglobo series\",\n",
    "\t\"Glycosphingolipid biosynthesis - ganglio series\",\n",
    "    \"Biosynthesis of various plant secondary metabolites\",\n",
    "    \"Primary bile acid biosynthesis\",\n",
    "\t\"Secondary bile acid biosynthesis\"\n",
    "]\n",
    "filtered_cols = [i for i in filtered_cols if i not in cols_to_add]\n",
    "kegg_pathway_filtered = tables[\"KEGG_Pathway\"][[i for i in filtered_cols if i in tables[\"KEGG_Pathway\"].columns]]"
   ]
  },
  {
   "cell_type": "code",
   "execution_count": null,
   "metadata": {
    "metadata": {}
   },
   "outputs": [],
   "source": [
    "[i for i in kegg_pathway_filtered if i[-1].isdigit()]"
   ]
  },
  {
   "cell_type": "code",
   "execution_count": null,
   "metadata": {
    "metadata": {}
   },
   "outputs": [],
   "source": [
    "kegg_pathway_filtered.to_csv(input_dir + \"data/counts/KEGG_Pathway_trimmed_mean_formatted_filtered.csv\")"
   ]
  },
  {
   "cell_type": "code",
   "execution_count": null,
   "metadata": {},
   "outputs": [],
   "source": [
    "# # Discard this approach, use CSR framework instead\n",
    "# kos = tables_normalised[\"KEGG_ko\"].columns.to_series().reset_index(drop=True)\n",
    "# kos.to_csv(\"~/biogo-hub/data/misc/kegg_ko_columns_prefiltering.csv\", index=False)\n",
    "# pathways = tables_normalised[\"KEGG_Pathway\"].columns.to_series().reset_index(drop=True)\n",
    "# pathways.to_csv(\"~/biogo-hub/data/misc/kegg_Pathway_columns_prefiltering.csv\", index=False)\n",
    "\n",
    "# remaining_pathways = pd.read_csv(\"~/biogo-hub/data/misc/kegg_Pathway_columns_prefiltering.csv\", header=None).values.flatten()\n",
    "# filtered_pathways = [i for i in pathways if i not in remaining_pathways]\n",
    "# remaining_kos = pd.read_csv(\"~/biogo-hub/data/misc/kegg_ko_columns_prefiltering.csv\", header=None).values.flatten()\n",
    "# filtered_kos = [i for i in kos if i not in remaining_kos]"
   ]
  },
  {
   "cell_type": "markdown",
   "metadata": {},
   "source": [
    "### COG categories"
   ]
  },
  {
   "cell_type": "code",
   "execution_count": null,
   "metadata": {},
   "outputs": [],
   "source": [
    "tables[\"COG_category\"].columns\n",
    "\n",
    "to_filter = [\n",
    "    'Cell cycle control, cell division, chromosome partitioning',\n",
    "    'Cytoskeleton',\n",
    "    'Function unknown',\n",
    "    'Signal transduction mechanisms',\n",
    "    'Chromatin structure and dynamics',\n",
    "    ]\n",
    "\n",
    "tables[\"COG_category\"] = tables[\"COG_category\"].drop(columns=to_filter)"
   ]
  },
  {
   "cell_type": "code",
   "execution_count": null,
   "metadata": {},
   "outputs": [],
   "source": [
    "tables[\"COG_category\"].to_csv(input_dir + \"data/counts/COG_category_trimmed_mean_formatted_filtered.csv\")"
   ]
  },
  {
   "cell_type": "markdown",
   "metadata": {},
   "source": [
    "### BRITE"
   ]
  },
  {
   "cell_type": "code",
   "execution_count": null,
   "metadata": {},
   "outputs": [],
   "source": [
    "tables[\"BRITE\"].columns"
   ]
  },
  {
   "cell_type": "markdown",
   "metadata": {},
   "source": [
    "### KEGG KO"
   ]
  },
  {
   "cell_type": "code",
   "execution_count": null,
   "metadata": {},
   "outputs": [],
   "source": [
    "kegg_ko = tables[\"KEGG_ko\"].copy()\n",
    "kegg_ko.columns = [i[:30] + \"_\" + str(ix) for ix, i in enumerate(tables[\"KEGG_ko\"].columns)]"
   ]
  },
  {
   "cell_type": "code",
   "execution_count": null,
   "metadata": {},
   "outputs": [],
   "source": [
    "tables.keys()"
   ]
  },
  {
   "cell_type": "code",
   "execution_count": null,
   "metadata": {},
   "outputs": [],
   "source": [
    "tables.keys()"
   ]
  },
  {
   "cell_type": "code",
   "execution_count": null,
   "metadata": {},
   "outputs": [],
   "source": [
    "BRITE = tables[\"BRITE\"].copy()\n",
    "BRITE.columns = [i[:30] + \"_\" + str(ix) for ix, i in enumerate(tables[\"BRITE\"].columns)]"
   ]
  },
  {
   "cell_type": "code",
   "execution_count": null,
   "metadata": {},
   "outputs": [],
   "source": [
    "BRITE.to_csv(input_dir + \"data/counts/BRITE_trimmed_mean_formatted_filtered.csv\")"
   ]
  },
  {
   "cell_type": "code",
   "execution_count": null,
   "metadata": {},
   "outputs": [],
   "source": [
    "pd.Series([len(item) for sublist in [i.columns.to_list() for i in tables.values()] for item in sublist]).describe()"
   ]
  },
  {
   "cell_type": "markdown",
   "metadata": {},
   "source": [
    "### After running this\n",
    "\n",
    "1. Run `create_R_tables.py`\n",
    "2. Run `preprocess_data.R`"
   ]
  },
  {
   "cell_type": "markdown",
   "metadata": {},
   "source": []
  }
 ],
 "metadata": {
  "kernelspec": {
   "display_name": "Python [conda env:.conda-data]",
   "language": "python",
   "name": "conda-env-.conda-data-py"
  }
 },
 "nbformat": 4,
 "nbformat_minor": 2
}
